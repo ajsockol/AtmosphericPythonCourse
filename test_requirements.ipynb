{
 "cells": [
  {
   "cell_type": "markdown",
   "id": "76f10b07-0d02-4944-9d54-538c6dd3d19b",
   "metadata": {},
   "source": [
    "# This is a simple script to check if the required libraries are installed\n",
    "Just execute the block and follw the instructions"
   ]
  },
  {
   "cell_type": "code",
   "execution_count": null,
   "id": "74b1bd1b-b9ba-4f14-a406-d8520a7121db",
   "metadata": {
    "tags": []
   },
   "outputs": [],
   "source": [
    "with open(\"requirements.txt\") as requirements_file:\n",
    "    # Parse requirements.txt, ignoring any commented-out lines.\n",
    "    requirements = [line for line in requirements_file.read().splitlines()\n",
    "                    if not line.startswith(\"#\")]\n",
    "    \n",
    "missing_modules, modules = [], []\n",
    "for x in requirements:\n",
    "    try:\n",
    "        modules.append(__import__(x))\n",
    "    except ImportError:\n",
    "        missing_modules.append(x)\n",
    "\n",
    "if len(missing_modules) > 0:\n",
    "    print(\"\\nYou are missing some needed software. Pleas import these modules:\")\n",
    "    for mod in missing_modules:\n",
    "        print(mod)\n",
    "\n",
    "    print()\n",
    "else:\n",
    "    print(\"\\nCongratulations all needed software is installed. Now go do great things!\\n\")\n",
    "    "
   ]
  }
 ],
 "metadata": {
  "kernelspec": {
   "display_name": "Python 3 (ipykernel)",
   "language": "python",
   "name": "python3"
  },
  "language_info": {
   "codemirror_mode": {
    "name": "ipython",
    "version": 3
   },
   "file_extension": ".py",
   "mimetype": "text/x-python",
   "name": "python",
   "nbconvert_exporter": "python",
   "pygments_lexer": "ipython3",
   "version": "3.10.9"
  }
 },
 "nbformat": 4,
 "nbformat_minor": 5
}

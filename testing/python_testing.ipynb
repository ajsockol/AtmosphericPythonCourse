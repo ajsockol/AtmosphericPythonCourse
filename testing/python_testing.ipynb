{
 "cells": [
  {
   "cell_type": "markdown",
   "id": "d5b24be4-a3d2-4292-a11a-52de8b4d9f88",
   "metadata": {},
   "source": [
    "# Testing our code to ensure consistency\n",
    "Let's create a function to perform some sort of task. When we create the code we have an idea of what it should do and what it should return. We can use that to test the code."
   ]
  },
  {
   "cell_type": "code",
   "execution_count": 2,
   "id": "8c496eff-a7dc-402e-bcf1-765c0fa2214c",
   "metadata": {},
   "outputs": [],
   "source": [
    "def add_numbers(a, b):\n",
    "    return a + b"
   ]
  },
  {
   "cell_type": "code",
   "execution_count": 4,
   "id": "1dee091d-c2dd-499d-a589-0a74526c1f41",
   "metadata": {},
   "outputs": [
    {
     "name": "stdout",
     "output_type": "stream",
     "text": [
      "3\n"
     ]
    }
   ],
   "source": [
    "a = 1\n",
    "b = 2\n",
    "result = add_numbers(a, b)\n",
    "print(result)"
   ]
  },
  {
   "cell_type": "markdown",
   "id": "1e57b378-6f01-4b3b-a99f-394fe37a23b1",
   "metadata": {},
   "source": [
    "Now that we have a function and it behaves as expected, we can write a test to ensure it does as expected. If the result does not match expectations an error is raised."
   ]
  },
  {
   "cell_type": "code",
   "execution_count": 5,
   "id": "0a552a3b-e95a-4f4a-96f9-d3e31c8d1e7e",
   "metadata": {},
   "outputs": [],
   "source": [
    "assert add_numbers(1, 2) == 3"
   ]
  },
  {
   "cell_type": "code",
   "execution_count": 6,
   "id": "9fe95801-7ea7-483a-9a4e-df7d5fd51eaa",
   "metadata": {},
   "outputs": [
    {
     "ename": "AssertionError",
     "evalue": "",
     "output_type": "error",
     "traceback": [
      "\u001b[0;31m---------------------------------------------------------------------------\u001b[0m",
      "\u001b[0;31mAssertionError\u001b[0m                            Traceback (most recent call last)",
      "Cell \u001b[0;32mIn[6], line 1\u001b[0m\n\u001b[0;32m----> 1\u001b[0m \u001b[38;5;28;01massert\u001b[39;00m add_numbers(\u001b[38;5;241m1\u001b[39m, \u001b[38;5;241m2\u001b[39m) \u001b[38;5;241m==\u001b[39m \u001b[38;5;241m4\u001b[39m\n",
      "\u001b[0;31mAssertionError\u001b[0m: "
     ]
    }
   ],
   "source": [
    "assert add_numbers(1, 2) == 4"
   ]
  },
  {
   "cell_type": "markdown",
   "id": "cc3e5dcf-6061-4a28-99d8-d964a737bb87",
   "metadata": {},
   "source": [
    "Now we will update our function to add a possible third number to add. Since we don't want to break existing code, we write it so that the third value is not required."
   ]
  },
  {
   "cell_type": "code",
   "execution_count": 24,
   "id": "2aca17b2-6964-4558-adc5-a00eb1ee64bf",
   "metadata": {},
   "outputs": [],
   "source": [
    "import numpy as np\n",
    "def add_numbers(a, b, c=np.nan):\n",
    "    return a + b + c"
   ]
  },
  {
   "cell_type": "code",
   "execution_count": 25,
   "id": "d44dddb0-ab48-4428-b803-5d0ebe4e06b5",
   "metadata": {},
   "outputs": [],
   "source": [
    "assert add_numbers(1, 2, 3) == 6"
   ]
  },
  {
   "cell_type": "code",
   "execution_count": 26,
   "id": "f769af7e-9fe0-492f-9d96-facf21cf4137",
   "metadata": {},
   "outputs": [
    {
     "ename": "AssertionError",
     "evalue": "",
     "output_type": "error",
     "traceback": [
      "\u001b[0;31m---------------------------------------------------------------------------\u001b[0m",
      "\u001b[0;31mAssertionError\u001b[0m                            Traceback (most recent call last)",
      "Cell \u001b[0;32mIn[26], line 1\u001b[0m\n\u001b[0;32m----> 1\u001b[0m \u001b[38;5;28;01massert\u001b[39;00m add_numbers(\u001b[38;5;241m1\u001b[39m, \u001b[38;5;241m2\u001b[39m) \u001b[38;5;241m==\u001b[39m \u001b[38;5;241m3\u001b[39m\n",
      "\u001b[0;31mAssertionError\u001b[0m: "
     ]
    }
   ],
   "source": [
    "assert add_numbers(1, 2) == 3"
   ]
  },
  {
   "cell_type": "markdown",
   "id": "f287b7c4-b034-4f25-9b1e-671ac3c187dc",
   "metadata": {},
   "source": [
    "But wait, what happened? Why is this failing? We have it set to use a NaN number for c when c is not provided. Why is this not working correctly? We forgot that NaN taints all operations. So if we want to set c to NaN when not provided we need to use the correct Numpy functions to ignore NaN values."
   ]
  },
  {
   "cell_type": "code",
   "execution_count": 27,
   "id": "66e600d8-8972-4e65-8515-81678db395d7",
   "metadata": {},
   "outputs": [],
   "source": [
    "def add_numbers(a, b, c=np.nan):\n",
    "    return np.nansum([a, b, c])"
   ]
  },
  {
   "cell_type": "code",
   "execution_count": 28,
   "id": "ad5950bd-0896-4aa6-8a2a-06c916a1d432",
   "metadata": {},
   "outputs": [],
   "source": [
    "assert add_numbers(1, 2, 3) == 6\n",
    "assert add_numbers(1, 2) == 3"
   ]
  },
  {
   "cell_type": "markdown",
   "id": "764c1252-93ad-4310-8fe3-5559fafd9f54",
   "metadata": {},
   "source": [
    "In fact we should test multiple data sets to ensure our code works over as many sets of data as possible to ensure we are covering all data space. But we can't test every number combination, so we need to find examples that represent the space well and test those numbers."
   ]
  },
  {
   "cell_type": "code",
   "execution_count": 31,
   "id": "1c6a0260-94f3-4f46-96e8-53e43bf2b559",
   "metadata": {},
   "outputs": [],
   "source": [
    "assert add_numbers(1, 2, 3) == 6\n",
    "assert add_numbers(1, 2) == 3\n",
    "assert add_numbers(-1, 1) == 0\n",
    "assert add_numbers(-1, 2, 3) == 4\n",
    "assert add_numbers(-1, 2, np.nan) == 1\n",
    "assert add_numbers(0, 0, 0) == 0\n",
    "assert add_numbers(0, 0) == 0\n",
    "assert add_numbers(-1, np.nan, 6) == 5\n",
    "assert add_numbers(-100, 100, 123) == 123"
   ]
  },
  {
   "cell_type": "markdown",
   "id": "343e6b7e-a787-4a78-a62f-4c485b5aaf0e",
   "metadata": {},
   "source": [
    "So instead of manually running the tests each time, we should store the tests in a separate file and call it. We should make this process of testing as easy and simple as possible so we are more likely to use it. Also, any time we update our function or add more functions, we should add more tests to ensure the new functions are tested as well."
   ]
  }
 ],
 "metadata": {
  "kernelspec": {
   "display_name": "Python 3 (ipykernel)",
   "language": "python",
   "name": "python3"
  },
  "language_info": {
   "codemirror_mode": {
    "name": "ipython",
    "version": 3
   },
   "file_extension": ".py",
   "mimetype": "text/x-python",
   "name": "python",
   "nbconvert_exporter": "python",
   "pygments_lexer": "ipython3",
   "version": "3.9.16"
  }
 },
 "nbformat": 4,
 "nbformat_minor": 5
}

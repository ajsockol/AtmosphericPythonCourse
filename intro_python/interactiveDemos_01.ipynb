{
 "cells": [
  {
   "cell_type": "markdown",
   "id": "dangerous-directory",
   "metadata": {},
   "source": [
    "<h3>Interactive coding in Jupyter Notebooks</h3>"
   ]
  },
  {
   "cell_type": "markdown",
   "id": "amazing-sewing",
   "metadata": {},
   "source": [
    "Code is in an eval, run, print loop.\n",
    "Shift+Enter runs the block"
   ]
  },
  {
   "cell_type": "code",
   "execution_count": null,
   "id": "stopped-energy",
   "metadata": {},
   "outputs": [],
   "source": [
    "x=7                  #basic assignment syntax\n",
    "y=8"
   ]
  },
  {
   "cell_type": "code",
   "execution_count": null,
   "id": "earned-vertex",
   "metadata": {},
   "outputs": [],
   "source": [
    "x+y                  #When not assigned, output is printed"
   ]
  },
  {
   "cell_type": "code",
   "execution_count": null,
   "id": "knowing-maria",
   "metadata": {},
   "outputs": [],
   "source": [
    "x=20"
   ]
  },
  {
   "cell_type": "markdown",
   "id": "massive-cannon",
   "metadata": {},
   "source": [
    "<br><h4>Fibonacci series:</h4>\n",
    "#The sum of two elements defines the next"
   ]
  },
  {
   "cell_type": "code",
   "execution_count": null,
   "id": "sexual-mounting",
   "metadata": {},
   "outputs": [],
   "source": [
    "a,b = 0,1             #Note assignment syntax\n",
    "a=0;b=1;              #Or like this\n",
    "while a<100 :          #while loop; no parens, colon at end\n",
    "    print(a)          #All code block must be indented.  Spaces are significant!\n",
    "    a,b = b, a+b"
   ]
  },
  {
   "cell_type": "code",
   "execution_count": null,
   "id": "elect-instruction",
   "metadata": {},
   "outputs": [],
   "source": [
    "x=2**10000            #Arbitrarily large numbers\n",
    "len(str(x))           #calls can be nested (eval'd from inside out)"
   ]
  },
  {
   "cell_type": "code",
   "execution_count": null,
   "id": "academic-legislature",
   "metadata": {},
   "outputs": [],
   "source": [
    "y=(2**10000)+1\n",
    "y-x"
   ]
  },
  {
   "cell_type": "markdown",
   "id": "static-police",
   "metadata": {},
   "source": [
    "<br><h4>Importing modules</h4>"
   ]
  },
  {
   "cell_type": "code",
   "execution_count": null,
   "id": "geographic-leeds",
   "metadata": {},
   "outputs": [],
   "source": [
    "import math          #This makes the math module available in following code. \n",
    "                     #(must be installed)\n",
    "help(math)"
   ]
  },
  {
   "cell_type": "code",
   "execution_count": null,
   "id": "disturbed-crisis",
   "metadata": {},
   "outputs": [],
   "source": [
    "math.pi              #Reference module contents with dot syntax"
   ]
  },
  {
   "cell_type": "code",
   "execution_count": null,
   "id": "metropolitan-sharing",
   "metadata": {},
   "outputs": [],
   "source": [
    "from math import pi  #Can also import specific module objects or functions\n",
    "pi"
   ]
  },
  {
   "cell_type": "code",
   "execution_count": null,
   "id": "artistic-truth",
   "metadata": {},
   "outputs": [],
   "source": [
    "import numpy as np  #Create aliases for commonly used modules\n",
    "help(np.array)"
   ]
  },
  {
   "cell_type": "markdown",
   "id": "critical-manor",
   "metadata": {},
   "source": [
    "python documentation on web site is excellent source of information:\n",
    "<a href='https://www.google.com/search?q=python+math'>google python math</a>\n",
    "<br>"
   ]
  },
  {
   "cell_type": "markdown",
   "id": "brief-mechanism",
   "metadata": {},
   "source": [
    "<h4>Python uses Strong dynamic typing</h4> "
   ]
  },
  {
   "cell_type": "code",
   "execution_count": null,
   "id": "hourly-optimization",
   "metadata": {},
   "outputs": [],
   "source": [
    "x='asdf'           #Variable type is determined at runtime\n",
    "type(x)            "
   ]
  },
  {
   "cell_type": "code",
   "execution_count": null,
   "id": "attempted-alignment",
   "metadata": {},
   "outputs": [],
   "source": [
    "x+2                #Strong typing means once type is assigned it's strictly enforced\n",
    "                   #No coercion"
   ]
  },
  {
   "cell_type": "code",
   "execution_count": null,
   "id": "sunset-greeting",
   "metadata": {},
   "outputs": [],
   "source": [
    "x=2\n",
    "x=x+2\n",
    "print(x,type(x))"
   ]
  },
  {
   "cell_type": "markdown",
   "id": "worst-opening",
   "metadata": {},
   "source": [
    "All variables and containers are objects that have properties and actions."
   ]
  },
  {
   "cell_type": "code",
   "execution_count": null,
   "id": "interpreted-closure",
   "metadata": {},
   "outputs": [],
   "source": [
    "x='eggs'\n",
    "x.upper()"
   ]
  },
  {
   "cell_type": "code",
   "execution_count": null,
   "id": "occupational-organ",
   "metadata": {},
   "outputs": [],
   "source": [
    "help(str)"
   ]
  },
  {
   "cell_type": "markdown",
   "id": "brilliant-efficiency",
   "metadata": {},
   "source": [
    "<br><h3>String printing and concatenation</h3>"
   ]
  },
  {
   "cell_type": "code",
   "execution_count": null,
   "id": "concrete-interaction",
   "metadata": {},
   "outputs": [],
   "source": [
    "print(x)                    #Print() can print any object, including custom objects (user defined output)\n",
    "y='spam'\n",
    "print(x,y)                  #Comma separate to conviently print multiple items"
   ]
  },
  {
   "cell_type": "code",
   "execution_count": null,
   "id": "functional-mounting",
   "metadata": {},
   "outputs": [],
   "source": [
    "print(\"%s and %s\" % (y,x))  #Note variable substitution.  C like formatting.\n",
    "                            # print( [string] % [tuple])"
   ]
  },
  {
   "cell_type": "markdown",
   "id": "pressed-scheme",
   "metadata": {},
   "source": [
    "<h4>Tuples</h4> The most basic (and useful) container type.  Created inside of parens"
   ]
  },
  {
   "cell_type": "code",
   "execution_count": null,
   "id": "smoking-bookmark",
   "metadata": {},
   "outputs": [],
   "source": [
    "breakfast=('spam','eggs','toast')\n",
    "breakfast"
   ]
  },
  {
   "cell_type": "markdown",
   "id": "sorted-produce",
   "metadata": {},
   "source": [
    "Ordered, immutable.  Can have any number of items but can't reassign (make a copy instead).  Can use to pass multiple variables"
   ]
  },
  {
   "cell_type": "code",
   "execution_count": null,
   "id": "muslim-kentucky",
   "metadata": {},
   "outputs": [],
   "source": [
    "print(\"Breakfast is %s, %s & %s\" % breakfast)"
   ]
  },
  {
   "cell_type": "code",
   "execution_count": null,
   "id": "respective-watch",
   "metadata": {},
   "outputs": [],
   "source": [
    "meat,protein, bread=breakfast         #Variable assignments can be unpacked from a tuple"
   ]
  },
  {
   "cell_type": "code",
   "execution_count": null,
   "id": "recovered-chest",
   "metadata": {},
   "outputs": [],
   "source": [
    "meat"
   ]
  },
  {
   "cell_type": "code",
   "execution_count": null,
   "id": "particular-strip",
   "metadata": {},
   "outputs": [],
   "source": [
    "x,*y=breakfast                        #Assign remaining items to y using * syntax\n",
    "y"
   ]
  },
  {
   "cell_type": "markdown",
   "id": "earned-taiwan",
   "metadata": {},
   "source": [
    "Can contain any type of object"
   ]
  },
  {
   "cell_type": "code",
   "execution_count": null,
   "id": "parental-tournament",
   "metadata": {},
   "outputs": [],
   "source": [
    "x=(1,'green','egg',('2 slices','ham'))\n",
    "print(x[3][1])                         #Note zero based indexing and 2 dimensional access"
   ]
  },
  {
   "cell_type": "markdown",
   "id": "external-values",
   "metadata": {},
   "source": [
    "<h4>Quoting<\\h4>"
   ]
  },
  {
   "cell_type": "code",
   "execution_count": null,
   "id": "emotional-section",
   "metadata": {},
   "outputs": [],
   "source": [
    "x='single quotes'\n",
    "print(x)"
   ]
  },
  {
   "cell_type": "code",
   "execution_count": null,
   "id": "little-ministry",
   "metadata": {},
   "outputs": [],
   "source": [
    "x=\"double quotes\"\n",
    "print(x)"
   ]
  },
  {
   "cell_type": "code",
   "execution_count": null,
   "id": "indirect-cholesterol",
   "metadata": {},
   "outputs": [],
   "source": [
    "x=\"escaped \\\"'quotes'\\\"\"\n",
    "print(x)"
   ]
  },
  {
   "cell_type": "code",
   "execution_count": null,
   "id": "dramatic-bargain",
   "metadata": {},
   "outputs": [],
   "source": [
    "s=\" my string\"+\" 2nd string\""
   ]
  },
  {
   "cell_type": "code",
   "execution_count": null,
   "id": "documented-anatomy",
   "metadata": {},
   "outputs": [],
   "source": [
    "s"
   ]
  },
  {
   "cell_type": "code",
   "execution_count": null,
   "id": "worth-tyler",
   "metadata": {},
   "outputs": [],
   "source": [
    "x=\"\"\"\n",
    "multi\n",
    "line\n",
    "'quotes'\n",
    "\"\"\"\n",
    "print(x)"
   ]
  },
  {
   "cell_type": "code",
   "execution_count": null,
   "id": "south-camping",
   "metadata": {},
   "outputs": [],
   "source": []
  },
  {
   "cell_type": "markdown",
   "id": "automatic-supervision",
   "metadata": {},
   "source": [
    "There is no variable expansion so to create a string from variables, either use substitution syntax above or concatenate:"
   ]
  },
  {
   "cell_type": "code",
   "execution_count": null,
   "id": "collectible-continuity",
   "metadata": {},
   "outputs": [],
   "source": [
    "print(\"My breakfast is \"+breakfast[0]+\", \"+breakfast[1]+\" and \"+breakfast[2])"
   ]
  },
  {
   "cell_type": "markdown",
   "id": "rational-uncertainty",
   "metadata": {},
   "source": [
    "<br>Tuples and strings are both examples of immutable sequences"
   ]
  },
  {
   "cell_type": "markdown",
   "id": "ecological-evaluation",
   "metadata": {},
   "source": [
    "<br><h4>Slicing</h4>Key language feature for all types of sequences"
   ]
  },
  {
   "cell_type": "code",
   "execution_count": null,
   "id": "communist-prime",
   "metadata": {},
   "outputs": [],
   "source": [
    "x='python'\n",
    "x[0:3]             #zero based indexing, end is non-inclusive"
   ]
  },
  {
   "cell_type": "code",
   "execution_count": null,
   "id": "alternative-functionality",
   "metadata": {},
   "outputs": [],
   "source": [
    "print(x[:3],x[3:]) #if either is omitted, from start/end"
   ]
  },
  {
   "cell_type": "code",
   "execution_count": null,
   "id": "perfect-traffic",
   "metadata": {},
   "outputs": [],
   "source": [
    "y=x[:]               #Full slice (copy)\n",
    "y"
   ]
  },
  {
   "cell_type": "code",
   "execution_count": null,
   "id": "clean-lingerie",
   "metadata": {},
   "outputs": [],
   "source": [
    "x[::2]             #can be stepped"
   ]
  },
  {
   "cell_type": "code",
   "execution_count": null,
   "id": "confidential-gasoline",
   "metadata": {},
   "outputs": [],
   "source": [
    "x[::-1]            #and reversed"
   ]
  },
  {
   "cell_type": "markdown",
   "id": "manufactured-indonesian",
   "metadata": {},
   "source": [
    "Tuples can be sliced just like a string.  Slicing is a key part of the language and is used by many container types (list, numpy array...)"
   ]
  },
  {
   "cell_type": "code",
   "execution_count": null,
   "id": "great-sitting",
   "metadata": {},
   "outputs": [],
   "source": [
    "x=(0,1,2,3,4,5,6,7,8,9)"
   ]
  },
  {
   "cell_type": "code",
   "execution_count": null,
   "id": "requested-milwaukee",
   "metadata": {},
   "outputs": [],
   "source": [
    "x[0:4]"
   ]
  },
  {
   "cell_type": "code",
   "execution_count": null,
   "id": "liberal-candle",
   "metadata": {},
   "outputs": [],
   "source": [
    "x[::2]"
   ]
  },
  {
   "cell_type": "markdown",
   "id": "selective-malawi",
   "metadata": {},
   "source": [
    "Sequences have builtin functions"
   ]
  },
  {
   "cell_type": "code",
   "execution_count": null,
   "id": "passing-proposal",
   "metadata": {},
   "outputs": [],
   "source": [
    "len(x)"
   ]
  },
  {
   "cell_type": "code",
   "execution_count": null,
   "id": "postal-israeli",
   "metadata": {},
   "outputs": [],
   "source": [
    "sum(x)               #Some only work on number sequences (determined at runtime)"
   ]
  },
  {
   "cell_type": "code",
   "execution_count": null,
   "id": "minor-right",
   "metadata": {},
   "outputs": [],
   "source": [
    "sorted(x)            #Arbitrarily complicated sorting (see docs)"
   ]
  },
  {
   "cell_type": "markdown",
   "id": "sunset-suicide",
   "metadata": {},
   "source": [
    "<h4>Booleans</h4>"
   ]
  },
  {
   "cell_type": "code",
   "execution_count": null,
   "id": "toxic-filing",
   "metadata": {},
   "outputs": [],
   "source": [
    "x=False              #Capitalize\n",
    "y=True\n",
    "x and y                #Boolean operators are 'and' and 'or'.  & and | are bitwise operators, which can lead to confusing results"
   ]
  },
  {
   "cell_type": "code",
   "execution_count": null,
   "id": "final-decrease",
   "metadata": {},
   "outputs": [],
   "source": [
    "if x and y : print(\"It was true\")    #Single action can be on same line\n",
    "else : print(\"It was false\")"
   ]
  },
  {
   "cell_type": "code",
   "execution_count": null,
   "id": "israeli-navigator",
   "metadata": {},
   "outputs": [],
   "source": [
    "if not x and y :                     #The not operator negates\n",
    "    print(\"It was true\")             #Indent code blocks\n",
    "    print(\"rest of code block\")\n",
    "else :\n",
    "    print(\"It was false\")"
   ]
  },
  {
   "cell_type": "markdown",
   "id": "opponent-newsletter",
   "metadata": {},
   "source": [
    "<br><h4>Boolean Truthiness:</h4>  \n",
    "False, None, zero of any numeric type, empty string, sequence or mapping(‘’,(),[],{}) are all False.  \n",
    "Anything else is True"
   ]
  },
  {
   "cell_type": "code",
   "execution_count": null,
   "id": "ordered-activity",
   "metadata": {},
   "outputs": [],
   "source": [
    "mytuple=()\n",
    "mystring=\"\"\n",
    "x=0\n",
    "if mytuple or mystring or x :\n",
    "    print(\"One of these was truthy\")\n",
    "else :\n",
    "    print(\"All were false\")"
   ]
  },
  {
   "cell_type": "markdown",
   "id": "southeast-heritage",
   "metadata": {},
   "source": [
    " "
   ]
  },
  {
   "cell_type": "markdown",
   "id": "capable-variance",
   "metadata": {},
   "source": [
    "<h4>Datetime</h4>"
   ]
  },
  {
   "cell_type": "code",
   "execution_count": null,
   "id": "endangered-homework",
   "metadata": {},
   "outputs": [],
   "source": [
    "import datetime              #Datetime support must be imported\n",
    "\n",
    "x = datetime.datetime.now()  #Note confusing namespace syntax: module.object.function()\n",
    "print(x)"
   ]
  },
  {
   "cell_type": "code",
   "execution_count": null,
   "id": "configured-horse",
   "metadata": {},
   "outputs": [],
   "source": [
    "from datetime import datetime #Import 'datetime' obj from the 'datetime' module \n",
    "x = datetime.now()            # and then reference directly\n",
    "print(x)"
   ]
  },
  {
   "cell_type": "markdown",
   "id": "lucky-promise",
   "metadata": {},
   "source": [
    "Datetime components can be access directly\n",
    "datetime(year, month, day[, hour[, minute[, second[, microsecond[,tzinfo]]]]])"
   ]
  },
  {
   "cell_type": "code",
   "execution_count": null,
   "id": "electoral-reverse",
   "metadata": {},
   "outputs": [],
   "source": [
    "x.year"
   ]
  },
  {
   "cell_type": "markdown",
   "id": "sunset-stylus",
   "metadata": {},
   "source": [
    "Datetimes can be aware or naive of timezones.  If you only work with UTC, you can ignore timezones"
   ]
  },
  {
   "cell_type": "markdown",
   "id": "genetic-vatican",
   "metadata": {},
   "source": [
    "Date and Time objects are available separately"
   ]
  },
  {
   "cell_type": "code",
   "execution_count": null,
   "id": "charming-synthesis",
   "metadata": {},
   "outputs": [],
   "source": [
    "from datetime import date, time  #Note multiple object import with comma delimiter"
   ]
  },
  {
   "cell_type": "code",
   "execution_count": null,
   "id": "private-essex",
   "metadata": {},
   "outputs": [],
   "source": [
    "t=time(23,59,59)       #date, time & datetime objects can be created \n",
    "d=date(1999,12,31)     # by passing int components (24 hr time)\n",
    "print(d,t)"
   ]
  },
  {
   "cell_type": "markdown",
   "id": "given-immunology",
   "metadata": {},
   "source": [
    "Datetime can be created from timestamps, iso strings and many other methods "
   ]
  },
  {
   "cell_type": "code",
   "execution_count": null,
   "id": "worldwide-calculator",
   "metadata": {},
   "outputs": [],
   "source": [
    "dt=datetime.fromisoformat(\"2020-12-31 23:59:59.999999\")  #T is optional\n",
    "dt"
   ]
  },
  {
   "cell_type": "code",
   "execution_count": null,
   "id": "inside-colonial",
   "metadata": {},
   "outputs": [],
   "source": [
    "dt.isoformat()         #Output in iso too, normal date formatting available (see docs)"
   ]
  },
  {
   "cell_type": "markdown",
   "id": "green-painting",
   "metadata": {},
   "source": [
    "Date math can be done with timedelta"
   ]
  },
  {
   "cell_type": "code",
   "execution_count": null,
   "id": "explicit-enlargement",
   "metadata": {},
   "outputs": [],
   "source": [
    "from datetime import timedelta\n",
    "delta=timedelta(microseconds=1)\n",
    "new_dt=dt+delta\n",
    "new_dt"
   ]
  },
  {
   "cell_type": "markdown",
   "id": "written-confirmation",
   "metadata": {},
   "source": [
    "Datetime objects can be compared for conditional eval"
   ]
  },
  {
   "cell_type": "code",
   "execution_count": null,
   "id": "affected-steps",
   "metadata": {},
   "outputs": [],
   "source": [
    "if new_dt > dt : print(\"%s is later than %s\"%(new_dt,dt)) "
   ]
  },
  {
   "cell_type": "markdown",
   "id": "native-resort",
   "metadata": {},
   "source": [
    "<br><a href='https://docs.python.org/3/library/datetime.html'>Documentation</a> is fairly extensive"
   ]
  }
 ],
 "metadata": {
  "kernelspec": {
   "display_name": "Python 3",
   "language": "python",
   "name": "python3"
  },
  "language_info": {
   "codemirror_mode": {
    "name": "ipython",
    "version": 3
   },
   "file_extension": ".py",
   "mimetype": "text/x-python",
   "name": "python",
   "nbconvert_exporter": "python",
   "pygments_lexer": "ipython3",
   "version": "3.8.6"
  }
 },
 "nbformat": 4,
 "nbformat_minor": 5
}

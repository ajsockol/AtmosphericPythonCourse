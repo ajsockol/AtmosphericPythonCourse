{
 "cells": [
  {
   "cell_type": "markdown",
   "id": "global-secretariat",
   "metadata": {},
   "source": [
    "<h3>Mutable collections</h3>\n",
    "<h4>List</h4>"
   ]
  },
  {
   "cell_type": "markdown",
   "id": "dried-lover",
   "metadata": {},
   "source": [
    "<ul>\n",
    "    <li>Sequence similar to a tuple, but mutable\n",
    "    <li>Accessed by index or slice: x[0] x[0:5]…\n",
    "    <li>Created with brackets (instead of parens)\n",
    "</ul>"
   ]
  },
  {
   "cell_type": "code",
   "execution_count": null,
   "id": "original-hollywood",
   "metadata": {},
   "outputs": [],
   "source": [
    "x=[1,2,3,4]\n",
    "x"
   ]
  },
  {
   "cell_type": "code",
   "execution_count": null,
   "id": "informational-badge",
   "metadata": {},
   "outputs": [],
   "source": [
    "x=[i for i in range(10)]          #This is called a list comprehension.  \n",
    "x"
   ]
  },
  {
   "cell_type": "markdown",
   "id": "innocent-meaning",
   "metadata": {},
   "source": [
    "Mutable"
   ]
  },
  {
   "cell_type": "code",
   "execution_count": null,
   "id": "female-bankruptcy",
   "metadata": {},
   "outputs": [],
   "source": [
    "x[2]=100\n",
    "x"
   ]
  },
  {
   "cell_type": "markdown",
   "id": "funny-cement",
   "metadata": {},
   "source": [
    "The list is an object and x is a pointer to the object.  This is important when you want to make a copy"
   ]
  },
  {
   "cell_type": "code",
   "execution_count": null,
   "id": "sonic-august",
   "metadata": {},
   "outputs": [],
   "source": [
    "y=x\n",
    "y"
   ]
  },
  {
   "cell_type": "code",
   "execution_count": null,
   "id": "printable-shanghai",
   "metadata": {},
   "outputs": [],
   "source": [
    "x[0]=999\n",
    "print(x)"
   ]
  },
  {
   "cell_type": "markdown",
   "id": "working-judgment",
   "metadata": {},
   "source": [
    "What does y[0] equal?"
   ]
  },
  {
   "cell_type": "code",
   "execution_count": null,
   "id": "roman-jewelry",
   "metadata": {},
   "outputs": [],
   "source": [
    "y"
   ]
  },
  {
   "cell_type": "markdown",
   "id": "retained-validation",
   "metadata": {},
   "source": [
    "<h5>y was not a copy of the list!</h5>  y is a copy of the pointer to the list.<br>\n",
    "The list object that y pointed to was changed. <br>To copy use sequence [:] or copy.deepcopy()  "
   ]
  },
  {
   "cell_type": "code",
   "execution_count": null,
   "id": "romance-equivalent",
   "metadata": {},
   "outputs": [],
   "source": [
    "x=[i for i in range(10)]\n",
    "y=x[:]                     #copy all elements\n",
    "x[0]='asdf'\n",
    "print('x equals:',x)\n",
    "print('y equals:',y)"
   ]
  },
  {
   "cell_type": "markdown",
   "id": "affiliated-wheat",
   "metadata": {},
   "source": [
    "<br>If list contains objects, you can use copy.deepcopy() to recursively make copies of all objects. (see docs)"
   ]
  },
  {
   "cell_type": "markdown",
   "id": "active-princeton",
   "metadata": {},
   "source": [
    "<br><h4>Iterate</h4>for [item] in list :"
   ]
  },
  {
   "cell_type": "code",
   "execution_count": null,
   "id": "advisory-likelihood",
   "metadata": {},
   "outputs": [],
   "source": [
    "x=[0, 1, 2, 3, 4, 5, 6, 7, 8, 9]\n",
    "for i in x:     \n",
    "    print(i)"
   ]
  },
  {
   "cell_type": "code",
   "execution_count": null,
   "id": "operating-andrews",
   "metadata": {},
   "outputs": [],
   "source": [
    "#list comprehensions can be complex\n",
    "x=[i*i for i in range(5)]\n",
    "print(x)"
   ]
  },
  {
   "cell_type": "markdown",
   "id": "noticed-dynamics",
   "metadata": {},
   "source": [
    "<br><h4>Dictionaries</h4>\n",
    "<ul>\n",
    "    <li>Dictionaries can store arbitrarily large numbers of key->value pairs.\n",
    "    <li>Value can be anything (string, number, list, dictionary, custom objects)\n",
    "    <li>Very optimized, efficient key->value lookup.  <b>O(1) lookup time!</b>\n",
    "    <li>Stored as a hash table\n",
    "    <li>Not ordered, in fact order may change after adding element.\n",
    "    <li>Keys must be hashable (string, int, tuple)\n",
    "<ul>"
   ]
  },
  {
   "cell_type": "code",
   "execution_count": null,
   "id": "great-french",
   "metadata": {},
   "outputs": [],
   "source": [
    "d={}                                           #Create an empty dict with empty brackets\n",
    "d={'site':'spo', 'lat':-89.908, 'lon':-24.8}   #Or with key:value, key2:value2,[...]  syntax\n",
    "d[\"site\"]                                      #Access with square brackets"
   ]
  },
  {
   "cell_type": "code",
   "execution_count": null,
   "id": "expected-cornell",
   "metadata": {},
   "outputs": [],
   "source": [
    "d['num']=113                                   #Can add new elements directly"
   ]
  },
  {
   "cell_type": "code",
   "execution_count": null,
   "id": "tired-woman",
   "metadata": {},
   "outputs": [],
   "source": [
    "#Can loop using similar syntax \n",
    "for key in d :                                 #default loop returns keys\n",
    "    print(key,\":\",d[key])\n"
   ]
  },
  {
   "cell_type": "code",
   "execution_count": null,
   "id": "adequate-robinson",
   "metadata": {},
   "outputs": [],
   "source": [
    "for key,value in d.items() :                   #Use .items() to get both\n",
    "    print(key,\":\",value)"
   ]
  },
  {
   "cell_type": "markdown",
   "id": "concrete-ladder",
   "metadata": {},
   "source": [
    "Arbitrarily complicated sorting is available (see docs)"
   ]
  },
  {
   "cell_type": "markdown",
   "id": "robust-sperm",
   "metadata": {},
   "source": [
    "<br><h4>Sets</h4>\n",
    "<ul>\n",
    "    <li>Like a list, but unique values.\n",
    "    <li>Values must be hashable\n",
    "    <li>Very quick for determining membership (similar to dict O(1))\n",
    "</ul>"
   ]
  },
  {
   "cell_type": "code",
   "execution_count": null,
   "id": "magnetic-costs",
   "metadata": {},
   "outputs": [],
   "source": [
    "s={1,2,3,4}                #Use curly brackets to create\n",
    "s"
   ]
  },
  {
   "cell_type": "markdown",
   "id": "considerable-headquarters",
   "metadata": {},
   "source": [
    "Also good for uniqueifying a list"
   ]
  },
  {
   "cell_type": "code",
   "execution_count": null,
   "id": "blind-ghana",
   "metadata": {},
   "outputs": [],
   "source": [
    "mylist=(1,2,2,2,4,4,5)\n",
    "s=set(mylist)              #Use set() creator to turn a list into unique set\n",
    "s"
   ]
  },
  {
   "cell_type": "code",
   "execution_count": null,
   "id": "different-devon",
   "metadata": {},
   "outputs": [],
   "source": []
  }
 ],
 "metadata": {
  "kernelspec": {
   "display_name": "Python 3",
   "language": "python",
   "name": "python3"
  },
  "language_info": {
   "codemirror_mode": {
    "name": "ipython",
    "version": 3
   },
   "file_extension": ".py",
   "mimetype": "text/x-python",
   "name": "python",
   "nbconvert_exporter": "python",
   "pygments_lexer": "ipython3",
   "version": "3.8.6"
  }
 },
 "nbformat": 4,
 "nbformat_minor": 5
}

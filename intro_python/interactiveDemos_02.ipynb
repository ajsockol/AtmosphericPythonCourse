{
 "cells": [
  {
   "cell_type": "markdown",
   "id": "global-secretariat",
   "metadata": {},
   "source": [
    "## Mutable collections\n",
    "### List"
   ]
  },
  {
   "cell_type": "markdown",
   "id": "dried-lover",
   "metadata": {},
   "source": [
    "* Sequence similar to a tuple, but mutable\n",
    "* Accessed by index or slice: x[0] x[0:5]…\n",
    "* Created with brackets (instead of parens)"
   ]
  },
  {
   "cell_type": "code",
   "execution_count": null,
   "id": "original-hollywood",
   "metadata": {},
   "outputs": [],
   "source": [
    "x = [1, 2, 3, 4]\n",
    "x"
   ]
  },
  {
   "cell_type": "code",
   "execution_count": null,
   "id": "informational-badge",
   "metadata": {},
   "outputs": [],
   "source": [
    "x = [i for i in range(10)]  # This is called a list comprehension.  \n",
    "x"
   ]
  },
  {
   "cell_type": "markdown",
   "id": "innocent-meaning",
   "metadata": {},
   "source": [
    "Mutable"
   ]
  },
  {
   "cell_type": "code",
   "execution_count": null,
   "id": "female-bankruptcy",
   "metadata": {},
   "outputs": [],
   "source": [
    "x[2] = 100\n",
    "x"
   ]
  },
  {
   "cell_type": "markdown",
   "id": "funny-cement",
   "metadata": {},
   "source": [
    "The list is an object and x is a pointer to the object.  This is important when you want to make a copy"
   ]
  },
  {
   "cell_type": "code",
   "execution_count": null,
   "id": "sonic-august",
   "metadata": {},
   "outputs": [],
   "source": [
    "y = x\n",
    "y"
   ]
  },
  {
   "cell_type": "code",
   "execution_count": null,
   "id": "printable-shanghai",
   "metadata": {},
   "outputs": [],
   "source": [
    "x[0] = 999\n",
    "print(x)"
   ]
  },
  {
   "cell_type": "markdown",
   "id": "working-judgment",
   "metadata": {},
   "source": [
    "What does y[0] equal?"
   ]
  },
  {
   "cell_type": "code",
   "execution_count": null,
   "id": "roman-jewelry",
   "metadata": {},
   "outputs": [],
   "source": [
    "y"
   ]
  },
  {
   "cell_type": "markdown",
   "id": "retained-validation",
   "metadata": {},
   "source": [
    "__y was not a copy of the list!__\n",
    "\n",
    "y is a copy of the pointer to the list.\n",
    "\n",
    "The list object that y pointed to was changed.\n",
    "\n",
    "To copy use sequence [:] or copy.deepcopy()  "
   ]
  },
  {
   "cell_type": "code",
   "execution_count": null,
   "id": "romance-equivalent",
   "metadata": {
    "tags": []
   },
   "outputs": [],
   "source": [
    "x = [i for i in range(10)]\n",
    "y = x[:]                     # copy all elements\n",
    "x[0] = 'asdf'\n",
    "print('x equals:', x)\n",
    "print('y equals:', y)"
   ]
  },
  {
   "cell_type": "markdown",
   "id": "affiliated-wheat",
   "metadata": {},
   "source": [
    "<br>If list contains objects, you can use copy.deepcopy() to recursively make copies of all objects. (see docs)"
   ]
  },
  {
   "cell_type": "markdown",
   "id": "active-princeton",
   "metadata": {},
   "source": [
    "### Iterate\n",
    "for [item] in list :"
   ]
  },
  {
   "cell_type": "code",
   "execution_count": null,
   "id": "advisory-likelihood",
   "metadata": {},
   "outputs": [],
   "source": [
    "x = [0, 1, 2, 3, 4, 5, 6, 7, 8, 9]\n",
    "for i in x:     \n",
    "    print(i)"
   ]
  },
  {
   "cell_type": "markdown",
   "id": "23b89b44-6b43-4851-8f4f-4c4ff3347939",
   "metadata": {},
   "source": [
    "list comprehensions can be complex"
   ]
  },
  {
   "cell_type": "code",
   "execution_count": null,
   "id": "operating-andrews",
   "metadata": {
    "tags": []
   },
   "outputs": [],
   "source": [
    "x = [i * i for i in range(5)]\n",
    "print(x)"
   ]
  },
  {
   "cell_type": "markdown",
   "id": "noticed-dynamics",
   "metadata": {
    "tags": []
   },
   "source": [
    "### Dictionaries\n",
    "* Dictionaries can store arbitrarily large numbers of key->value pairs.\n",
    "* Value can be anything (string, number, list, dictionary, custom objects)\n",
    "* Very optimized, efficient key->value lookup.  <b>O(1) lookup time!</b>\n",
    "* Stored as a hash table\n",
    "* Not ordered, in fact order may change after adding element.\n",
    "* Keys must be hashable (string, int, tuple)"
   ]
  },
  {
   "cell_type": "code",
   "execution_count": null,
   "id": "great-french",
   "metadata": {
    "tags": []
   },
   "outputs": [],
   "source": [
    "d = {}                                             # Create an empty dict with empty brackets\n",
    "d = {'site': 'spo', 'lat': -89.908, 'lon': -24.8}  # Or with key:value, key2:value2,[...]  syntax\n",
    "d[\"site\"]                                          # Access with square brackets"
   ]
  },
  {
   "cell_type": "code",
   "execution_count": null,
   "id": "expected-cornell",
   "metadata": {
    "tags": []
   },
   "outputs": [],
   "source": [
    "d['num'] = 113                                 # Can add new elements directly"
   ]
  },
  {
   "cell_type": "code",
   "execution_count": null,
   "id": "tired-woman",
   "metadata": {
    "tags": []
   },
   "outputs": [],
   "source": [
    "#Can loop using similar syntax \n",
    "for key in d :                                 # default loop returns keys\n",
    "    print(key, \":\", d[key])"
   ]
  },
  {
   "cell_type": "code",
   "execution_count": null,
   "id": "adequate-robinson",
   "metadata": {
    "tags": []
   },
   "outputs": [],
   "source": [
    "for key,value in d.items() :                   # Use .items() to get both\n",
    "    print(key, \":\", value)"
   ]
  },
  {
   "cell_type": "markdown",
   "id": "concrete-ladder",
   "metadata": {},
   "source": [
    "Arbitrarily complicated sorting is available (see docs)"
   ]
  },
  {
   "cell_type": "markdown",
   "id": "robust-sperm",
   "metadata": {},
   "source": [
    "### Sets\n",
    "* Like a list, but unique values.\n",
    "* Values must be hashable\n",
    "* Very quick for determining membership (similar to dict O(1))"
   ]
  },
  {
   "cell_type": "code",
   "execution_count": null,
   "id": "magnetic-costs",
   "metadata": {
    "tags": []
   },
   "outputs": [],
   "source": [
    "s = {1,2,3,4}  # Use curly brackets to create\n",
    "s"
   ]
  },
  {
   "cell_type": "markdown",
   "id": "considerable-headquarters",
   "metadata": {},
   "source": [
    "Also good for uniqueifying a list"
   ]
  },
  {
   "cell_type": "code",
   "execution_count": null,
   "id": "blind-ghana",
   "metadata": {
    "tags": []
   },
   "outputs": [],
   "source": [
    "mylist = (1, 2, 2, 2, 4, 4, 5)\n",
    "s = set(mylist)                # Use set() creator to turn a list into unique set\n",
    "s"
   ]
  }
 ],
 "metadata": {
  "kernelspec": {
   "display_name": "Python 3 (ipykernel)",
   "language": "python",
   "name": "python3"
  },
  "language_info": {
   "codemirror_mode": {
    "name": "ipython",
    "version": 3
   },
   "file_extension": ".py",
   "mimetype": "text/x-python",
   "name": "python",
   "nbconvert_exporter": "python",
   "pygments_lexer": "ipython3",
   "version": "3.10.9"
  }
 },
 "nbformat": 4,
 "nbformat_minor": 5
}

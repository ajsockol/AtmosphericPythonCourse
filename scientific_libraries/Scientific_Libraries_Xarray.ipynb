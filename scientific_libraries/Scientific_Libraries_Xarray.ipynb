{
 "cells": [
  {
   "cell_type": "markdown",
   "id": "2adeb708",
   "metadata": {},
   "source": [
    "## Working with Xarray\n",
    "Xarry is a class of objects added to the regular python system that allows storing data in a more organized method. The format is very similar to netCDF classic model (netCDF3). It can read netCDF files efficiently and handle some issues associated with incorrectly designed netCDF files.\n",
    "\n",
    "Xarray also has extetions to use the Numpy, Pandas, and SciPy libaries directly. Think of Xarray as a tool for orgnaizing data in a way that other libaries can be used on the data efficiently.\n",
    "\n",
    "The primary difference between Xarray and Pandas is that Pandas is designed to handle 1-D data while Xarray can handle n-D data and metadata about the data.\n",
    "\n",
    "The one downside is that Xarry has very powerful functions with less great documentation. May need to dig a bit to get the best way to perform a task."
   ]
  },
  {
   "cell_type": "code",
   "execution_count": null,
   "id": "8cc25c91",
   "metadata": {},
   "outputs": [],
   "source": [
    "import numpy as np\n",
    "import xarray as xr  # Convention is to import xarray as xr"
   ]
  },
  {
   "cell_type": "markdown",
   "id": "72847190",
   "metadata": {},
   "source": [
    "## DataArray\n",
    "Here we create some data with Numpy and put into an Xarray DataArray. Notice how there is a concept of dimentionality built into DataArray. \"xarray.DataArray  (dim_0: 10000)\". But because we didn't define the dimention name a generic one was created for us."
   ]
  },
  {
   "cell_type": "code",
   "execution_count": null,
   "id": "66466a82",
   "metadata": {},
   "outputs": [],
   "source": [
    "data = np.arange(10000)  # This is a numpy array\n",
    "# Now we create the Xarray DataArray and add the data.\n",
    "xr_da = xr.DataArray(data)\n",
    "xr_da"
   ]
  },
  {
   "cell_type": "markdown",
   "id": "1697097f",
   "metadata": {},
   "source": [
    "This time create a time array to match the data array shape. Time will be one minute time steps. The time array will become a coordinate variable to describe the values along the dimention we defined as named \"time\". The coordinate is set to the time array and the dimention is set to \"time\" string."
   ]
  },
  {
   "cell_type": "code",
   "execution_count": null,
   "id": "44706a0a",
   "metadata": {},
   "outputs": [],
   "source": [
    "time = np.array('2019-11-01T00:00:00', dtype='datetime64[m]') + np.arange(data.size)\n",
    "xr_da = xr.DataArray(data, dims=['time'], coords=[time])\n",
    "xr_da"
   ]
  },
  {
   "cell_type": "markdown",
   "id": "f84afa51",
   "metadata": {},
   "source": [
    "We can add attributes describing metadata about the data."
   ]
  },
  {
   "cell_type": "code",
   "execution_count": null,
   "id": "adaba86f",
   "metadata": {},
   "outputs": [],
   "source": [
    "xr_da.attrs['long_name'] = 'Amazing data that will win me a Nobel prize.'\n",
    "xr_da.attrs['units'] = 'degK'\n",
    "xr_da.attrs['valid_min'] = 0.\n",
    "xr_da.attrs['valid_max'] = 10000.\n",
    "xr_da"
   ]
  },
  {
   "cell_type": "markdown",
   "id": "e1f3d04c",
   "metadata": {},
   "source": [
    "Same as above but all in one step while creating the DataArray."
   ]
  },
  {
   "cell_type": "code",
   "execution_count": null,
   "id": "86b84fb9",
   "metadata": {},
   "outputs": [],
   "source": [
    "xr_da = xr.DataArray(\n",
    "    data, dims=['time'],\n",
    "    coords=[time],\n",
    "    attrs={'long_name': 'Amazing data that will win me a Nobel prize.',\n",
    "           'units': 'degK',\n",
    "           'valid_min': 0.,\n",
    "           'valid_max': 10000.})\n",
    "xr_da"
   ]
  },
  {
   "cell_type": "markdown",
   "id": "07c31f50",
   "metadata": {},
   "source": [
    "To extract the data values only we use the .values attribute on the DataArray"
   ]
  },
  {
   "cell_type": "code",
   "execution_count": null,
   "id": "38586aed",
   "metadata": {},
   "outputs": [],
   "source": [
    "xr_da.values"
   ]
  },
  {
   "cell_type": "markdown",
   "id": "17a37e61",
   "metadata": {},
   "source": [
    "To extract the attributes as a dictionary we use the .attrs attribute. It can also accept a name for a specific attribute"
   ]
  },
  {
   "cell_type": "code",
   "execution_count": null,
   "id": "fff2f480",
   "metadata": {},
   "outputs": [],
   "source": [
    "xr_da.attrs"
   ]
  },
  {
   "cell_type": "code",
   "execution_count": null,
   "id": "a76d724d",
   "metadata": {},
   "outputs": [],
   "source": [
    "xr_da.attrs['long_name']"
   ]
  },
  {
   "cell_type": "code",
   "execution_count": null,
   "id": "965e0c23",
   "metadata": {},
   "outputs": [],
   "source": [
    "type(xr_da)"
   ]
  },
  {
   "cell_type": "code",
   "execution_count": null,
   "id": "28648022",
   "metadata": {},
   "outputs": [],
   "source": [
    "type(xr_da.values)"
   ]
  },
  {
   "cell_type": "code",
   "execution_count": null,
   "id": "6f72aabf",
   "metadata": {},
   "outputs": [],
   "source": [
    "type(xr_da.attrs)"
   ]
  },
  {
   "cell_type": "markdown",
   "id": "1691c4c5",
   "metadata": {},
   "source": [
    "## Dataset\n",
    "The full power of Xarray comes from using Datasets. A Dataset is a collection of DataArrays. The beauty of Datasets is holding all the corresoponding data together and performing functions on multiple DataArrays in the Datasets all at once. This becomes very powerful and very fast!"
   ]
  },
  {
   "cell_type": "markdown",
   "id": "d6f08c49",
   "metadata": {},
   "source": [
    "Create some data and a time data array to match the data we created with minute time steps."
   ]
  },
  {
   "cell_type": "code",
   "execution_count": null,
   "id": "6e475540",
   "metadata": {},
   "outputs": [],
   "source": [
    "data1 = np.arange(10000, dtype=float)\n",
    "data2 = np.arange(10000, dtype=float) + 123.456\n",
    "time = np.array('2019-11-01T00:00:00', dtype='datetime64[m]') + np.arange(data1.size)"
   ]
  },
  {
   "cell_type": "code",
   "execution_count": null,
   "id": "6257f33c",
   "metadata": {},
   "outputs": [],
   "source": [
    "xr_ds = xr.Dataset(\n",
    "    # This is the data section.\n",
    "    # Notice all data is wrappted in a dictionary. In that dict the key\n",
    "    # is the variable name followed by a tuple. The first value of the tuple\n",
    "    # is the dimension(s) name, folloed by the data values, followed by optional\n",
    "    # dictionary of attributes as key:value pairs.\n",
    "    data_vars={'data1': ('time', data1, {'long_name': 'Data 1 values', 'units': 'degC'}),\n",
    "               'data2': ('time', data2, {'long_name': 'Data 2 values', 'units': 'degF'})\n",
    "               },\n",
    "    # This is the coordinate section following the same format. Since this\n",
    "    # comes next it could be interpredted as positional as coordinates.\n",
    "    # But we are using keywords to make it easier to understand.\n",
    "    coords={'time': ('time', time, {'long_name': 'Time in UTC'})},\n",
    "    # Lastly we have the global attributes.\n",
    "    attrs={'the_best_animals': 'sharks'}\n",
    ")"
   ]
  },
  {
   "cell_type": "markdown",
   "id": "adf7f362",
   "metadata": {},
   "source": [
    "Print out the full Dataset"
   ]
  },
  {
   "cell_type": "code",
   "execution_count": null,
   "id": "dc44e40d",
   "metadata": {},
   "outputs": [],
   "source": [
    "xr_ds"
   ]
  },
  {
   "cell_type": "markdown",
   "id": "25c09e9b",
   "metadata": {},
   "source": [
    "Print out one DataArray from the Dataset"
   ]
  },
  {
   "cell_type": "code",
   "execution_count": null,
   "id": "315853e5",
   "metadata": {},
   "outputs": [],
   "source": [
    "xr_ds['data1']"
   ]
  },
  {
   "cell_type": "markdown",
   "id": "51c58bd3",
   "metadata": {},
   "source": [
    "Print out values from the one variable in the Dataset"
   ]
  },
  {
   "cell_type": "code",
   "execution_count": null,
   "id": "8967d3c0",
   "metadata": {},
   "outputs": [],
   "source": [
    "xr_ds['data1'].values"
   ]
  },
  {
   "cell_type": "markdown",
   "id": "41fea406",
   "metadata": {},
   "source": [
    "Print out one attribute from one DataArray"
   ]
  },
  {
   "cell_type": "code",
   "execution_count": null,
   "id": "661d4639",
   "metadata": {},
   "outputs": [],
   "source": [
    "xr_ds['data1'].attrs['units']"
   ]
  },
  {
   "cell_type": "code",
   "execution_count": null,
   "id": "2f2a35ef",
   "metadata": {},
   "outputs": [],
   "source": []
  }
 ],
 "metadata": {
  "kernelspec": {
   "display_name": "Python 3 (ipykernel)",
   "language": "python",
   "name": "python3"
  },
  "language_info": {
   "codemirror_mode": {
    "name": "ipython",
    "version": 3
   },
   "file_extension": ".py",
   "mimetype": "text/x-python",
   "name": "python",
   "nbconvert_exporter": "python",
   "pygments_lexer": "ipython3",
   "version": "3.8.12"
  }
 },
 "nbformat": 4,
 "nbformat_minor": 5
}

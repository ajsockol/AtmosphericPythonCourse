{
 "cells": [
  {
   "cell_type": "markdown",
   "id": "8bf96409",
   "metadata": {},
   "source": [
    "## What is the difference between regular Python and Numpy Python?"
   ]
  },
  {
   "cell_type": "markdown",
   "id": "06c8e79d",
   "metadata": {},
   "source": [
    "### Data Types\n",
    "Python has specific data types, but not as many as traditional C or FORTRAN"
   ]
  },
  {
   "cell_type": "code",
   "execution_count": 1,
   "id": "ca25b186",
   "metadata": {},
   "outputs": [
    {
     "name": "stdout",
     "output_type": "stream",
     "text": [
      "<class 'int'>\n",
      "<class 'float'>\n",
      "<class 'str'>\n"
     ]
    }
   ],
   "source": [
    "print(type(1))  # Python integer - this is a 64 bytes integer\n",
    "print(type(1.))  # Python float - this is a 64 bytes float\n",
    "print(type('Hello World'))  # Python string which is different than a character array"
   ]
  },
  {
   "cell_type": "markdown",
   "id": "0a9269f9",
   "metadata": {},
   "source": [
    "Numpy can be thought of as a space within the Python language whith more data types like C or FORTRAN and a richer set of mathematical/computational enivironment built on top of the base Python environment. All the regular Python functions still exsits just more options are available."
   ]
  },
  {
   "cell_type": "code",
   "execution_count": 2,
   "id": "da3f6f7d",
   "metadata": {},
   "outputs": [
    {
     "name": "stdout",
     "output_type": "stream",
     "text": [
      "type(np.array(1)): <class 'numpy.ndarray'>\n",
      "\n",
      "np.int8: int8\n",
      "np.int16: int16\n",
      "np.int32: int32\n",
      "np.int64: int64\n",
      "np.int: int64\n",
      "\n",
      "np.float16: float16\n",
      "np.float32: float32\n",
      "np.float64: float64\n",
      "np.float: float64\n",
      "\n",
      "np.bool: bool\n",
      "np.int: int64\n",
      "np.foat: float64\n",
      "np.uint: uint64\n",
      "np.complex: complex128\n",
      "Hello World: <U11\n"
     ]
    }
   ],
   "source": [
    "import numpy as np  # Convention is to import and rename. Best to stick with convention\n",
    "\n",
    "print('type(np.array(1)):', type(np.array(1)))\n",
    "print()\n",
    "\n",
    "print('np.int8:', np.array(1, dtype=np.int8).dtype)    # Numpy integer of size 8 bytes\n",
    "print('np.int16:', np.array(1, dtype=np.int16).dtype)  # Numpy integer of size 16 bytes\n",
    "print('np.int32:', np.array(1, dtype=np.int32).dtype)  # Numpy integer of size 32 bytes\n",
    "print('np.int64:', np.array(1, dtype=np.int64).dtype)  # Numpy integer of size 64 bytes\n",
    "print('np.int:', np.array(1, dtype=int).dtype)         # Default Numpy integer of size 64 bytes\n",
    "print()\n",
    "\n",
    "print('np.float16:', np.array(1, dtype=np.float16).dtype)  # Numpy float of size 16 bytes\n",
    "print('np.float32:', np.array(1, dtype=np.float32).dtype)   # Numpy float of size 32 bytes\n",
    "print('np.float64:', np.array(1, dtype=np.float64).dtype)   # Numpy float of size 64 bytes\n",
    "print('np.float:', np.array(1, dtype=float).dtype)          # Numpy float of size 64 bytes\n",
    "print()\n",
    "\n",
    "print('np.bool:', np.array(1, dtype=np.bool_).dtype)    # Numpy boolean of size 8 bytes\n",
    "print('np.int:', np.array(1, dtype=np.int_).dtype)      # Numpy integer of size 64 bytes\n",
    "print('np.foat:', np.array(1, dtype=np.float_).dtype)   # Numpy float of size 64 bytes\n",
    "print('np.uint:', np.array(1, dtype=np.uint).dtype)     # Numpy unsigned integer of size 64 bytes\n",
    "print('np.complex:', np.array(1, dtype=complex).dtype)  # Numpy complex data object of size 128 bytes\n",
    "print('Hello World:', np.array('Hello World').dtype)    # <U11 means 11 charater Unicode String."
   ]
  },
  {
   "cell_type": "markdown",
   "id": "9a18d4f5",
   "metadata": {},
   "source": [
    "Numpy is based on arrays of data, with all values having the same data type in the array. This greatly increases computational performance. Can convert between basic Python and Numpy data space easily and quickly."
   ]
  },
  {
   "cell_type": "code",
   "execution_count": 3,
   "id": "a62ea685",
   "metadata": {},
   "outputs": [
    {
     "name": "stdout",
     "output_type": "stream",
     "text": [
      "type(a): <class 'list'>\n",
      "type(b): <class 'numpy.ndarray'>\n",
      "type(b[0]): <class 'numpy.int64'>\n",
      "b.dtype: int64\n"
     ]
    }
   ],
   "source": [
    "a = [1, 2, 3]  # Create a Python list\n",
    "b = np.array([1, 2, 3])  # Create a Nump 1-D array\n",
    "print('type(a):', type(a))  # Get type of a\n",
    "print('type(b):', type(b))  # Get type of b\n",
    "print('type(b[0]):', type(b[0]))  # Get type of index 0 of b\n",
    "print('b.dtype:', b.dtype)"
   ]
  },
  {
   "cell_type": "markdown",
   "id": "f7843475",
   "metadata": {},
   "source": [
    "Using Numpy methods on Python object will cause an error. Also, notice how the printout of the two are similar but slightly different. Python list has commas, the Numpy array does not."
   ]
  },
  {
   "cell_type": "code",
   "execution_count": 4,
   "id": "c98bce64",
   "metadata": {},
   "outputs": [
    {
     "name": "stdout",
     "output_type": "stream",
     "text": [
      "a: [1, 2, 3]\n",
      "b: [1 2 3]\n"
     ]
    }
   ],
   "source": [
    "#print('a.dtype:', a.dtype)  # a.dtype will not work. dtype is numpy only.\n",
    "print('a:', a)  \n",
    "print('b:', b)"
   ]
  },
  {
   "cell_type": "markdown",
   "id": "5bf1cf87",
   "metadata": {},
   "source": [
    "### Basic Python vs Numpy performance\n",
    "Basic Python can perform computations relativly fast."
   ]
  },
  {
   "cell_type": "code",
   "execution_count": 10,
   "id": "ed41790b",
   "metadata": {},
   "outputs": [
    {
     "name": "stdout",
     "output_type": "stream",
     "text": [
      "76.9 ms ± 692 µs per loop (mean ± std. dev. of 7 runs, 10 loops each)\n"
     ]
    }
   ],
   "source": [
    "%%timeit\n",
    "num = 1_000_000\n",
    "a = list(range(0, num))\n",
    "for ii in a:\n",
    "    a[ii] = a[ii] + 1\n",
    "del a"
   ]
  },
  {
   "cell_type": "markdown",
   "id": "59ac842b",
   "metadata": {},
   "source": [
    "The computation can be faster for some applications using list comprehensions. This is performing the same computation just with a diffrent syntax performing the computations in a more optimized way."
   ]
  },
  {
   "cell_type": "code",
   "execution_count": 11,
   "id": "95a79b18",
   "metadata": {},
   "outputs": [
    {
     "name": "stdout",
     "output_type": "stream",
     "text": [
      "74.6 ms ± 781 µs per loop (mean ± std. dev. of 7 runs, 10 loops each)\n"
     ]
    }
   ],
   "source": [
    "%%timeit\n",
    "num = 1_000_000\n",
    "a = list(range(0, num))\n",
    "a = [a[ii] + 1 for ii in a]"
   ]
  },
  {
   "cell_type": "markdown",
   "id": "98e30491",
   "metadata": {},
   "source": [
    "But using Numpy is significantly faster for computations because the code is hightly optimized and uses pre-compiled C libraries under the hood."
   ]
  },
  {
   "cell_type": "code",
   "execution_count": 12,
   "id": "cd3b91e3",
   "metadata": {},
   "outputs": [
    {
     "name": "stdout",
     "output_type": "stream",
     "text": [
      "86.7 µs ± 170 ns per loop (mean ± std. dev. of 7 runs, 10,000 loops each)\n"
     ]
    }
   ],
   "source": [
    "%%timeit\n",
    "num = 1_000_000\n",
    "a = np.arange(num, dtype=np.int16) + 1"
   ]
  },
  {
   "cell_type": "markdown",
   "id": "d69f08b5",
   "metadata": {},
   "source": [
    "### Switching between Basic Python space and Numpy space"
   ]
  },
  {
   "cell_type": "markdown",
   "id": "bb54a7eb",
   "metadata": {},
   "source": [
    "Create some data using Python lists"
   ]
  },
  {
   "cell_type": "code",
   "execution_count": 13,
   "id": "1fe7512e",
   "metadata": {},
   "outputs": [
    {
     "name": "stdout",
     "output_type": "stream",
     "text": [
      "type(a): <class 'list'>\n",
      "len(a): 10000\n",
      "\n"
     ]
    }
   ],
   "source": [
    "num = 10000\n",
    "a = list(range(0, num))  # Defaults to integer values\n",
    "print('type(a):', type(a))\n",
    "print('len(a):', len(a))\n",
    "print()"
   ]
  },
  {
   "cell_type": "markdown",
   "id": "194697b8",
   "metadata": {},
   "source": [
    "Convert the python list into numpy array"
   ]
  },
  {
   "cell_type": "code",
   "execution_count": 14,
   "id": "438bf498",
   "metadata": {},
   "outputs": [
    {
     "name": "stdout",
     "output_type": "stream",
     "text": [
      "type(b): <class 'numpy.ndarray'>\n",
      "b.size: 10000\n",
      "b.shape: (10000,)\n",
      "\n"
     ]
    }
   ],
   "source": [
    "b = np.array(a)\n",
    "print('type(b):', type(b))\n",
    "print('b.size:', b.size)\n",
    "print('b.shape:', b.shape)\n",
    "print()"
   ]
  },
  {
   "cell_type": "markdown",
   "id": "26ea297f",
   "metadata": {},
   "source": [
    "Convert the numpy array back into python list"
   ]
  },
  {
   "cell_type": "code",
   "execution_count": 15,
   "id": "b1f4aeec",
   "metadata": {},
   "outputs": [
    {
     "name": "stdout",
     "output_type": "stream",
     "text": [
      "type(b): <class 'numpy.ndarray'>\n",
      "b.size: 10000\n",
      "b.shape: (10000,)\n",
      "\n"
     ]
    }
   ],
   "source": [
    "b = np.array(a)\n",
    "print('type(b):', type(b))\n",
    "print('b.size:', b.size)\n",
    "print('b.shape:', b.shape)\n",
    "print()"
   ]
  },
  {
   "cell_type": "markdown",
   "id": "25d11fac",
   "metadata": {},
   "source": [
    "### Making Numpy Arrays\n",
    "Numpy also comes with a large number of methods to create data arrays so you don't have to"
   ]
  },
  {
   "cell_type": "code",
   "execution_count": 17,
   "id": "207ca941",
   "metadata": {},
   "outputs": [
    {
     "name": "stdout",
     "output_type": "stream",
     "text": [
      "a: [0 1 2 3 4 5 6 7 8 9]\n",
      "b: [0 1 2 3 4 5 6 7 8 9]\n",
      "c: [1 3 5 7 9]\n",
      "d: [10  9  8  7  6  5  4  3  2]\n",
      "e: [9 8 7 6 5 4 3 2 1 0]\n"
     ]
    }
   ],
   "source": [
    "a = np.array(range(10))   # Converts the itterator range function to numpy array\n",
    "b = np.arange(10)         # Creates the numpy array directly and faster\n",
    "c = np.arange(1, 10, 2)   # Creates array counting by two\n",
    "d = np.arange(10, 1, -1)  # Creates array decending by one\n",
    "e = np.flip(a)            # Reverses the array a from increasing to decreasing\n",
    "print('a:', a)\n",
    "print('b:', b)\n",
    "print('c:', c)\n",
    "print('d:', d)\n",
    "print('e:', e)"
   ]
  },
  {
   "cell_type": "markdown",
   "id": "c212b3fb",
   "metadata": {},
   "source": [
    "### Indexing, Slicing, Broadcasging\n",
    "How to get the specific data from the Numpy Array. Numpy uses the same slicing as Python lists. Start number to but not including end number."
   ]
  },
  {
   "cell_type": "code",
   "execution_count": 18,
   "id": "3ade005b",
   "metadata": {},
   "outputs": [
    {
     "name": "stdout",
     "output_type": "stream",
     "text": [
      "a: [0 1 2 3 4 5 6 7 8 9]\n",
      "a[0:5]: [0 1 2 3 4]\n",
      "a[3:]: [3 4 5 6 7 8 9]\n",
      "a[:5]: [0 1 2 3 4]\n",
      "a[3:5]: [3 4]\n",
      "a[0:-1]: [0 1 2 3 4 5 6 7 8]\n",
      "a[0:100]: [0 1 2 3 4 5 6 7 8 9]\n"
     ]
    }
   ],
   "source": [
    "print('a:', a)\n",
    "print('a[0:5]:', a[0:5])  # selects upto but not including index 5\n",
    "print('a[3:]:', a[3:])  # selects everthing from 3 to end of array\n",
    "print('a[:5]:', a[:5])  # selects to upto but not including index 5\n",
    "print('a[3:5]:', a[3:5])  # selects from 3 upto but not including index 5\n",
    "print('a[0:-1]:', a[:-1])  # selects upto but not including index 9\n",
    "print('a[0:100]:', a[0:100])  # index is past end of array?!?"
   ]
  },
  {
   "cell_type": "code",
   "execution_count": 21,
   "id": "6b47c1d0",
   "metadata": {},
   "outputs": [
    {
     "name": "stdout",
     "output_type": "stream",
     "text": [
      "c:\n",
      " [[0 1 2 3 4]\n",
      " [5 6 7 8 9]]\n",
      "c.shape: (2, 5)\n",
      "c.size: 10\n",
      "\n",
      "a:\n",
      " [[0. 0.]\n",
      " [0. 0.]]\n",
      "\n",
      "b:\n",
      " [[1 1]\n",
      " [1 1]]\n",
      "\n",
      "c:\n",
      " [[7 7]\n",
      " [7 7]]\n",
      "\n",
      "d:\n",
      " [[1. 0. 0.]\n",
      " [0. 1. 0.]\n",
      " [0. 0. 1.]]\n",
      "\n",
      "e: [[0.92044085 0.83304554 0.38828201 0.75084949]\n",
      " [0.58390636 0.18004267 0.64482428 0.91737542]]\n"
     ]
    }
   ],
   "source": [
    "c = np.arange(10)  # Create a 1-D array\n",
    "c = c.reshape((2, 5))  # Change to a 2-D array\n",
    "print('c:\\n', c)\n",
    "print('c.shape:', c.shape)\n",
    "print('c.size:', c.size)\n",
    "print()\n",
    "\n",
    "a = np.zeros((2, 2))    # Create an array of all zeros. Notice defaults to type float\n",
    "print('a:\\n', a)\n",
    "\n",
    "b = np.ones((2, 2), dtype=int)    # Create an array of all ones\n",
    "print('\\nb:\\n', b)\n",
    "\n",
    "c = np.full((2, 2), 7, dtype=np.int16)   # Create a constant array\n",
    "print('\\nc:\\n', c)\n",
    "\n",
    "d = np.eye(3)           # Create a 3x3 identity matrix\n",
    "print('\\nd:\\n', d)\n",
    "\n",
    "e = np.random.random((2, 4))  # Create an array filled with random values\n",
    "print('\\ne:', e)"
   ]
  },
  {
   "cell_type": "markdown",
   "id": "e4f298ea",
   "metadata": {},
   "source": [
    "One of the most important features of Numpy is Broadcasting, where a single operation is performed on all values of the Numpy array without the need for a loop. This creates more simple and readable code, and is significantly faster. General rule is if it's possble to remove a loop by Broadcasting, do it!\n",
    "\n",
    "Create an array of all zeros"
   ]
  },
  {
   "cell_type": "code",
   "execution_count": 35,
   "id": "0273d7ee",
   "metadata": {},
   "outputs": [
    {
     "data": {
      "text/plain": [
       "array([0, 0, 0, 0, 0, 0, 0, 0, 0, 0, 0, 0, 0, 0, 0, 0, 0, 0, 0, 0])"
      ]
     },
     "execution_count": 35,
     "metadata": {},
     "output_type": "execute_result"
    }
   ],
   "source": [
    "a = np.zeros(20, dtype=int)\n",
    "a"
   ]
  },
  {
   "cell_type": "markdown",
   "id": "0fff863c",
   "metadata": {},
   "source": [
    "Add a value of 1 to every value in the array. Also notice that the initial array was of type integer. But we are adding a float so all vales are first upconverted to type float and then a value of 1.0 is added to every value in the array."
   ]
  },
  {
   "cell_type": "code",
   "execution_count": 36,
   "id": "0fd94b23",
   "metadata": {},
   "outputs": [
    {
     "data": {
      "text/plain": [
       "array([1., 1., 1., 1., 1., 1., 1., 1., 1., 1., 1., 1., 1., 1., 1., 1., 1.,\n",
       "       1., 1., 1.])"
      ]
     },
     "execution_count": 36,
     "metadata": {},
     "output_type": "execute_result"
    }
   ],
   "source": [
    "a = a + 1.0  # Note how it upconverted from int to float\n",
    "a"
   ]
  },
  {
   "cell_type": "markdown",
   "id": "67c2d01c",
   "metadata": {},
   "source": [
    "Here we change the data type of the entire array from float to integer."
   ]
  },
  {
   "cell_type": "code",
   "execution_count": 37,
   "id": "b7dabf2b",
   "metadata": {},
   "outputs": [
    {
     "data": {
      "text/plain": [
       "array([1, 1, 1, 1, 1, 1, 1, 1, 1, 1, 1, 1, 1, 1, 1, 1, 1, 1, 1, 1])"
      ]
     },
     "execution_count": 37,
     "metadata": {},
     "output_type": "execute_result"
    }
   ],
   "source": [
    "a = a.astype(int)\n",
    "a"
   ]
  },
  {
   "cell_type": "markdown",
   "id": "99b94d8f",
   "metadata": {},
   "source": [
    "Here we add a value to a subset of the array by adding 10 to values matching index from 3 to 7. The rest of the values are unchanged."
   ]
  },
  {
   "cell_type": "code",
   "execution_count": 38,
   "id": "79e42593",
   "metadata": {},
   "outputs": [
    {
     "data": {
      "text/plain": [
       "array([ 1,  1,  1, 11, 11, 11, 11, 11,  1,  1,  1,  1,  1,  1,  1,  1,  1,\n",
       "        1,  1,  1])"
      ]
     },
     "execution_count": 38,
     "metadata": {},
     "output_type": "execute_result"
    }
   ],
   "source": [
    "a[3:8] = a[3:8] + 10\n",
    "a"
   ]
  },
  {
   "cell_type": "markdown",
   "id": "a45d4fbc",
   "metadata": {},
   "source": [
    "Here we use shorthand notiation to add a constant of 1000 to every value in the array."
   ]
  },
  {
   "cell_type": "code",
   "execution_count": 40,
   "id": "02ce9b21",
   "metadata": {},
   "outputs": [
    {
     "data": {
      "text/plain": [
       "array([2001, 2001, 2001, 2011, 2011, 2011, 2011, 2011, 2001, 2001, 2001,\n",
       "       2001, 2001, 2001, 2001, 2001, 2001, 2001, 2001, 2001])"
      ]
     },
     "execution_count": 40,
     "metadata": {},
     "output_type": "execute_result"
    }
   ],
   "source": [
    "a += 1000\n",
    "a"
   ]
  },
  {
   "cell_type": "markdown",
   "id": "9ff455b7",
   "metadata": {},
   "source": [
    "### The IEEE Not A Number value\n",
    "There is a special Numpy value called NaN which is used in calculations to represent a value that is not a number. Think of it as missing data, or a bad value that should not be propigated through the data. One of the most important things to remember about NaN is that it taints anything it touches!"
   ]
  },
  {
   "cell_type": "code",
   "execution_count": 42,
   "id": "fb0a67d5",
   "metadata": {},
   "outputs": [
    {
     "name": "stdout",
     "output_type": "stream",
     "text": [
      "nan\n",
      "<class 'float'>\n",
      "nan\n",
      "nan nan nan nan\n"
     ]
    }
   ],
   "source": [
    "print(np.nan)\n",
    "print(type(np.nan))   # Python type says is of type float\n",
    "print(10.0 * np.nan)  # Anything that uses NaN becomes a NaN\n",
    "print(11 + np.nan, 12 - np.nan, 13 * np.nan, 14 / np.nan)"
   ]
  },
  {
   "cell_type": "markdown",
   "id": "1bb25712",
   "metadata": {},
   "source": [
    "Because NaN is special, it acts funny. Looking for NaN requires some specific logic."
   ]
  },
  {
   "cell_type": "code",
   "execution_count": 43,
   "id": "cf75a918",
   "metadata": {},
   "outputs": [
    {
     "data": {
      "text/plain": [
       "True"
      ]
     },
     "execution_count": 43,
     "metadata": {},
     "output_type": "execute_result"
    }
   ],
   "source": [
    "1 == 1"
   ]
  },
  {
   "cell_type": "code",
   "execution_count": 44,
   "id": "bbaf472a",
   "metadata": {},
   "outputs": [
    {
     "data": {
      "text/plain": [
       "array([ True])"
      ]
     },
     "execution_count": 44,
     "metadata": {},
     "output_type": "execute_result"
    }
   ],
   "source": [
    "np.zeros(1, dtype=int) == np.zeros(1, dtype=int)"
   ]
  },
  {
   "cell_type": "code",
   "execution_count": 45,
   "id": "3780e51a",
   "metadata": {},
   "outputs": [
    {
     "data": {
      "text/plain": [
       "False"
      ]
     },
     "execution_count": 45,
     "metadata": {},
     "output_type": "execute_result"
    }
   ],
   "source": [
    "np.nan == np.nan  # What is going on here?"
   ]
  },
  {
   "cell_type": "markdown",
   "id": "ccba4c89",
   "metadata": {},
   "source": [
    "Will need to use the Numpy methods of searching the arrays if you want to do comparisons for find where NaNs are located"
   ]
  },
  {
   "cell_type": "code",
   "execution_count": 46,
   "id": "601a4e60",
   "metadata": {},
   "outputs": [
    {
     "data": {
      "text/plain": [
       "True"
      ]
     },
     "execution_count": 46,
     "metadata": {},
     "output_type": "execute_result"
    }
   ],
   "source": [
    "np.isnan(np.nan)"
   ]
  },
  {
   "cell_type": "markdown",
   "id": "68c25419",
   "metadata": {},
   "source": [
    "To use NaNs properly requries a litte bit of extra thought, but is greatly worth it!"
   ]
  },
  {
   "cell_type": "code",
   "execution_count": 48,
   "id": "ec6d8d1b",
   "metadata": {},
   "outputs": [
    {
     "name": "stdout",
     "output_type": "stream",
     "text": [
      "a: [0. 1. 2. 3. 4. 5. 6. 7. 8. 9.]\n",
      "a.min(): 0.0\n",
      "np.min(a): 0.0\n"
     ]
    }
   ],
   "source": [
    "a = np.arange(10, dtype=float)\n",
    "print('a:', a)\n",
    "print('a.min():', a.min())      # This is Python min method, not numpy. Maybe slower?\n",
    "print('np.min(a):', np.min(a))  # This is numpy min function"
   ]
  },
  {
   "cell_type": "markdown",
   "id": "cad1ff53",
   "metadata": {},
   "source": [
    "Now we will assign a value in the Numpy array to NaN"
   ]
  },
  {
   "cell_type": "code",
   "execution_count": 50,
   "id": "11e3698c",
   "metadata": {},
   "outputs": [
    {
     "data": {
      "text/plain": [
       "array([nan,  1.,  2.,  3.,  4.,  5.,  6.,  7.,  8.,  9.])"
      ]
     },
     "execution_count": 50,
     "metadata": {},
     "output_type": "execute_result"
    }
   ],
   "source": [
    "a[0] = np.nan\n",
    "a"
   ]
  },
  {
   "cell_type": "markdown",
   "id": "2afbead0",
   "metadata": {},
   "source": [
    "Calculate the mean. Notice how it returns NaN. The NaNs are tainting all the operations."
   ]
  },
  {
   "cell_type": "code",
   "execution_count": 51,
   "id": "059dd7c4",
   "metadata": {},
   "outputs": [
    {
     "data": {
      "text/plain": [
       "nan"
      ]
     },
     "execution_count": 51,
     "metadata": {},
     "output_type": "execute_result"
    }
   ],
   "source": [
    "np.mean(a)"
   ]
  },
  {
   "cell_type": "markdown",
   "id": "c89fae13",
   "metadata": {},
   "source": [
    "We need to use a different method that understands how to correctly handle NaNs"
   ]
  },
  {
   "cell_type": "code",
   "execution_count": 52,
   "id": "db958230",
   "metadata": {},
   "outputs": [
    {
     "data": {
      "text/plain": [
       "5.0"
      ]
     },
     "execution_count": 52,
     "metadata": {},
     "output_type": "execute_result"
    }
   ],
   "source": [
    "np.nanmean(a)"
   ]
  },
  {
   "cell_type": "markdown",
   "id": "3943ad33",
   "metadata": {},
   "source": [
    "### Workign with time in Numpy\n",
    "If you deal with time series data you will need to work with time data types. Oh that's right, most atmospheric data is time series data...\n",
    "\n",
    "Python has a library called datetime that is great for working with dates and times. It is timezone unaware and works on one value at a time. This is a native data type within Python and you will see it all over the place. Here are some quick examples.\n",
    "\n",
    "Get the datetime now."
   ]
  },
  {
   "cell_type": "code",
   "execution_count": 54,
   "id": "ca2da01e",
   "metadata": {},
   "outputs": [
    {
     "data": {
      "text/plain": [
       "datetime.datetime(2022, 4, 20, 13, 37, 41, 54542)"
      ]
     },
     "execution_count": 54,
     "metadata": {},
     "output_type": "execute_result"
    }
   ],
   "source": [
    "import datetime\n",
    "\n",
    "datetime.datetime.now()"
   ]
  },
  {
   "cell_type": "markdown",
   "id": "cb33ed8b",
   "metadata": {},
   "source": [
    "Or get the datetime in UTC timezone."
   ]
  },
  {
   "cell_type": "code",
   "execution_count": 55,
   "id": "87eef460",
   "metadata": {},
   "outputs": [
    {
     "data": {
      "text/plain": [
       "datetime.datetime(2022, 4, 20, 19, 37, 41, 904390)"
      ]
     },
     "execution_count": 55,
     "metadata": {},
     "output_type": "execute_result"
    }
   ],
   "source": [
    "datetime.datetime.utcnow()"
   ]
  },
  {
   "cell_type": "markdown",
   "id": "344cc420",
   "metadata": {},
   "source": [
    "Or from a timestamp of number of seconds from Epoch, Seconds from 1970-01-01 00:00:00: UTC"
   ]
  },
  {
   "cell_type": "code",
   "execution_count": 56,
   "id": "0070cf25",
   "metadata": {},
   "outputs": [
    {
     "data": {
      "text/plain": [
       "datetime.datetime(2012, 1, 10, 18, 12, 44)"
      ]
     },
     "execution_count": 56,
     "metadata": {},
     "output_type": "execute_result"
    }
   ],
   "source": [
    "datetime.datetime.fromtimestamp(1326244364)"
   ]
  },
  {
   "cell_type": "markdown",
   "id": "e2e566d7",
   "metadata": {},
   "source": [
    "But when working with a lot of time samples we need to use the Numpy time data type. It can take in a string and convert to a Numpy datetime64 value. Notice when it prints out, it will print out in ISO format."
   ]
  },
  {
   "cell_type": "markdown",
   "id": "0a3e5d72",
   "metadata": {},
   "source": [
    "To just get the date right now"
   ]
  },
  {
   "cell_type": "code",
   "execution_count": 57,
   "id": "9d9a74f0",
   "metadata": {},
   "outputs": [
    {
     "data": {
      "text/plain": [
       "numpy.datetime64('2022-04-20')"
      ]
     },
     "execution_count": 57,
     "metadata": {},
     "output_type": "execute_result"
    }
   ],
   "source": [
    "np.datetime64('today')"
   ]
  },
  {
   "cell_type": "markdown",
   "id": "c6f13ec9",
   "metadata": {},
   "source": [
    "To get the date and time right now. Notice the time is in UTC. Most likely this is what you want, if not understand how to get what you want."
   ]
  },
  {
   "cell_type": "code",
   "execution_count": 63,
   "id": "7156406b",
   "metadata": {},
   "outputs": [
    {
     "data": {
      "text/plain": [
       "numpy.datetime64('2022-04-20T19:40:58')"
      ]
     },
     "execution_count": 63,
     "metadata": {},
     "output_type": "execute_result"
    }
   ],
   "source": [
    "np.datetime64('now')"
   ]
  },
  {
   "cell_type": "code",
   "execution_count": 64,
   "id": "0bc9aee5",
   "metadata": {},
   "outputs": [
    {
     "data": {
      "text/plain": [
       "numpy.datetime64('2005-02-25T03:30:55')"
      ]
     },
     "execution_count": 64,
     "metadata": {},
     "output_type": "execute_result"
    }
   ],
   "source": [
    "np.datetime64('2005-02-25 03:30:55')"
   ]
  },
  {
   "cell_type": "markdown",
   "id": "e9f7c48c",
   "metadata": {},
   "source": [
    "The default is store the precision at the level input. But we can update the precison by setting precision when reading the value or after the value is created to the desired precision."
   ]
  },
  {
   "cell_type": "code",
   "execution_count": 65,
   "id": "b18cd046",
   "metadata": {},
   "outputs": [
    {
     "data": {
      "text/plain": [
       "numpy.datetime64('2012-03-01T00:00:00')"
      ]
     },
     "execution_count": 65,
     "metadata": {},
     "output_type": "execute_result"
    }
   ],
   "source": [
    "np.datetime64('2012-03', 's')"
   ]
  },
  {
   "cell_type": "code",
   "execution_count": 66,
   "id": "b650ee12",
   "metadata": {},
   "outputs": [
    {
     "data": {
      "text/plain": [
       "numpy.datetime64('2012-03-01T00:00:00')"
      ]
     },
     "execution_count": 66,
     "metadata": {},
     "output_type": "execute_result"
    }
   ],
   "source": [
    "np.datetime64('2012-03').astype('datetime64[s]')"
   ]
  },
  {
   "cell_type": "markdown",
   "id": "05ccb02a",
   "metadata": {},
   "source": [
    "OK so what you can set precisoin. Why do I care? Because you can use the precision to indicate what step size to use. Notice the following range did not provide a starting or ending day. This helps with not needing to know length of months."
   ]
  },
  {
   "cell_type": "code",
   "execution_count": 67,
   "id": "3e6eb28d",
   "metadata": {},
   "outputs": [
    {
     "data": {
      "text/plain": [
       "array(['2005-02-01', '2005-02-02', '2005-02-03', '2005-02-04',\n",
       "       '2005-02-05', '2005-02-06', '2005-02-07', '2005-02-08',\n",
       "       '2005-02-09', '2005-02-10', '2005-02-11', '2005-02-12',\n",
       "       '2005-02-13', '2005-02-14', '2005-02-15', '2005-02-16',\n",
       "       '2005-02-17', '2005-02-18', '2005-02-19', '2005-02-20',\n",
       "       '2005-02-21', '2005-02-22', '2005-02-23', '2005-02-24',\n",
       "       '2005-02-25', '2005-02-26', '2005-02-27', '2005-02-28'],\n",
       "      dtype='datetime64[D]')"
      ]
     },
     "execution_count": 67,
     "metadata": {},
     "output_type": "execute_result"
    }
   ],
   "source": [
    "np.arange('2005-02', '2005-03', dtype='datetime64[D]')"
   ]
  },
  {
   "cell_type": "markdown",
   "id": "e24f6663",
   "metadata": {},
   "source": [
    "There is also a a timedelta64 data type that is the result of differencing times."
   ]
  },
  {
   "cell_type": "code",
   "execution_count": 68,
   "id": "4d44834c",
   "metadata": {},
   "outputs": [
    {
     "data": {
      "text/plain": [
       "numpy.timedelta64(366,'D')"
      ]
     },
     "execution_count": 68,
     "metadata": {},
     "output_type": "execute_result"
    }
   ],
   "source": [
    "np.datetime64('2009-01-01') - np.datetime64('2008-01-01')"
   ]
  },
  {
   "cell_type": "markdown",
   "id": "e7c2a030",
   "metadata": {},
   "source": [
    "Time Deltas are important for adding or subtracting times."
   ]
  },
  {
   "cell_type": "code",
   "execution_count": 69,
   "id": "61bd8f2f",
   "metadata": {},
   "outputs": [
    {
     "data": {
      "text/plain": [
       "numpy.datetime64('2011-06-15T12:00')"
      ]
     },
     "execution_count": 69,
     "metadata": {},
     "output_type": "execute_result"
    }
   ],
   "source": [
    "np.datetime64('2011-06-15T00:00') + np.timedelta64(12, 'h')"
   ]
  },
  {
   "cell_type": "markdown",
   "id": "8d8f2a6f",
   "metadata": {},
   "source": [
    "### Converting between Python datetime and Numpy datetime64\n",
    "At some point you will need to convert a time value from one space to another. Don't memorize this, just remember it exists and where you can find the code."
   ]
  },
  {
   "cell_type": "code",
   "execution_count": 70,
   "id": "a71142da",
   "metadata": {},
   "outputs": [
    {
     "name": "stdout",
     "output_type": "stream",
     "text": [
      "2022-04-20T19:41:38.212691\n"
     ]
    }
   ],
   "source": [
    "dt = datetime.datetime.utcnow()  # Get current date and time with python datetime\n",
    "# Convert from Python datetime to Numpy datetime64\n",
    "dt64 = np.datetime64(dt)\n",
    "print(dt64)"
   ]
  },
  {
   "cell_type": "markdown",
   "id": "9ecc9f56",
   "metadata": {},
   "source": [
    "It is a bit more complicated to convert from Numpy datetime64 to Python datetime"
   ]
  },
  {
   "cell_type": "code",
   "execution_count": 71,
   "id": "b66e9d75",
   "metadata": {},
   "outputs": [
    {
     "data": {
      "text/plain": [
       "datetime.datetime(2022, 4, 20, 19, 41, 38)"
      ]
     },
     "execution_count": 71,
     "metadata": {},
     "output_type": "execute_result"
    }
   ],
   "source": [
    "# Set precision to datetime64 seconds and convert to Numpy integer.\n",
    "# This will give number of seconds since epoch, or timestamp.\n",
    "ts = dt64.astype('datetime64[s]').astype(int)\n",
    "\n",
    "# Then use that integer number of seconds into from time stamp method.\n",
    "datetime.datetime.utcfromtimestamp(ts)"
   ]
  }
 ],
 "metadata": {
  "kernelspec": {
   "display_name": "Python 3 (ipykernel)",
   "language": "python",
   "name": "python3"
  },
  "language_info": {
   "codemirror_mode": {
    "name": "ipython",
    "version": 3
   },
   "file_extension": ".py",
   "mimetype": "text/x-python",
   "name": "python",
   "nbconvert_exporter": "python",
   "pygments_lexer": "ipython3",
   "version": "3.8.12"
  }
 },
 "nbformat": 4,
 "nbformat_minor": 5
}

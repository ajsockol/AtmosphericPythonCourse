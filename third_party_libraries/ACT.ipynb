{
 "cells": [
  {
   "cell_type": "code",
   "execution_count": null,
   "id": "a6e244fe",
   "metadata": {},
   "outputs": [],
   "source": [
    "import numpy as np\n",
    "import xarray as xr\n",
    "from pathlib import Path\n",
    "import act\n",
    "import matplotlib.pyplot as plt\n",
    "import matplotlib\n",
    "\n",
    "%matplotlib inline"
   ]
  },
  {
   "cell_type": "markdown",
   "id": "18588b18",
   "metadata": {},
   "source": [
    "Make a file path to data file to read. Notice how we create the path using pathlib but need to convert it to a standard string using str(). Xarray does not currently work with pathlib."
   ]
  },
  {
   "cell_type": "code",
   "execution_count": null,
   "id": "26fe2dde",
   "metadata": {},
   "outputs": [],
   "source": [
    "filename = str(Path('..', 'data', 'sgpmetE13.b1', 'sgpmetE13.b1.*.cdf'))\n",
    "filename"
   ]
  },
  {
   "cell_type": "markdown",
   "id": "63a31b80",
   "metadata": {},
   "source": [
    "Using Xarray we can read one file using .open_dataset() method or if there is more than one file to read the .open_mfdataset() method. Instead of needing to know the details of Xarray reading methods, we can just use the ACT method which is a wrapper arround .open_mfdataset(). Notice how the filename uses a * character to allow us to read all files matching in the directory. This is a feature of xarray open_mfdataset(). \n",
    "\n",
    "Notice that this met_ds object is just an Xarray Dataset with a few extra global attributes added. These are used for plotting lables and titles. All the Xarraymethods will work on this object."
   ]
  },
  {
   "cell_type": "code",
   "execution_count": null,
   "id": "b7a8271d",
   "metadata": {},
   "outputs": [],
   "source": [
    "met_ds = act.io.armfiles.read_netcdf(filename)\n",
    "met_ds"
   ]
  },
  {
   "cell_type": "markdown",
   "id": "0db37b64",
   "metadata": {},
   "source": [
    "If the file does not exist xarray will through an error. But ACT can be told to not throw an error, return None instead."
   ]
  },
  {
   "cell_type": "code",
   "execution_count": null,
   "id": "e0d7c8fe",
   "metadata": {},
   "outputs": [],
   "source": [
    "filename2 = str(Path('..', 'data', 'sgpmetE13.b1', 'not_a_file'))\n",
    "met_ds = act.io.armfiles.read_netcdf(filename2, return_None=True)\n",
    "print('met_ds:', met_ds)"
   ]
  },
  {
   "cell_type": "markdown",
   "id": "a96a8735",
   "metadata": {},
   "source": [
    "All the keywords accepted by .open_mfdataset() can be passed into the ACT reader."
   ]
  },
  {
   "cell_type": "code",
   "execution_count": null,
   "id": "be21c290",
   "metadata": {},
   "outputs": [],
   "source": [
    "drop_vars = ['base_time', 'time_offset', 'temp_mean', 'qc_temp_mean',\n",
    "             'temp_std', 'rh_mean', 'qc_rh_mean', 'rh_std', 'vapor_pressure_mean',\n",
    "             'qc_vapor_pressure_mean', 'vapor_pressure_std', 'wspd_arith_mean',\n",
    "             'qc_wspd_arith_mean', 'wspd_vec_mean', 'qc_wspd_vec_mean', 'wdir_vec_mean',\n",
    "             'qc_wdir_vec_mean', 'wdir_vec_std', 'tbrg_precip_total',\n",
    "             'qc_tbrg_precip_total', 'tbrg_precip_total_corr',\n",
    "             'qc_tbrg_precip_total_corr', 'org_precip_rate_mean',\n",
    "             'qc_org_precip_rate_mean', 'pwd_err_code', 'pwd_mean_vis_1min',\n",
    "             'qc_pwd_mean_vis_1min', 'pwd_mean_vis_10min', 'qc_pwd_mean_vis_10min',\n",
    "             'pwd_pw_code_inst', 'qc_pwd_pw_code_inst', 'pwd_pw_code_15min',\n",
    "             'qc_pwd_pw_code_15min', 'pwd_pw_code_1hr', 'qc_pwd_pw_code_1hr',\n",
    "             'pwd_precip_rate_mean_1min', 'qc_pwd_precip_rate_mean_1min',\n",
    "             'pwd_cumul_rain', 'qc_pwd_cumul_rain', 'pwd_cumul_snow',\n",
    "             'qc_pwd_cumul_snow', 'logger_volt', 'qc_logger_volt', 'logger_temp',\n",
    "             'qc_logger_temp']\n",
    "met_ds = act.io.armfiles.read_netcdf(filename, drop_variables=drop_vars)\n",
    "met_ds\n"
   ]
  },
  {
   "cell_type": "markdown",
   "id": "b20c9bec",
   "metadata": {},
   "source": [
    "Units are an under appreciated aspect of data. All netCDF files should use 'units' attribute under each variable to correctly describe the data. Xarray does not have methods to update units directly, but there is a library extension being developed to work with units. It has some issues and does not preserve attribute order. To keep attributes more similar to CF, ACT has its own units method. It can also update units on a coordinate variable which is a litte more difficult with Xarray due to the way coordinate values are modified."
   ]
  },
  {
   "cell_type": "code",
   "execution_count": null,
   "id": "a809b266",
   "metadata": {},
   "outputs": [],
   "source": [
    "drop_vars = ['base_time', 'time_offset', 'qc_temp_mean', 'lat', 'lon', 'alt',\n",
    "             'qc_rh_mean', 'vapor_pressure_mean',\n",
    "             'qc_vapor_pressure_mean', 'vapor_pressure_std', 'wspd_arith_mean',\n",
    "             'qc_wspd_arith_mean', 'wspd_vec_mean', 'qc_wspd_vec_mean', 'wdir_vec_mean',\n",
    "             'qc_wdir_vec_mean', 'wdir_vec_std', 'tbrg_precip_total',\n",
    "             'qc_tbrg_precip_total', 'tbrg_precip_total_corr',\n",
    "             'qc_tbrg_precip_total_corr', 'org_precip_rate_mean',\n",
    "             'qc_org_precip_rate_mean', 'pwd_err_code', 'pwd_mean_vis_1min',\n",
    "             'qc_pwd_mean_vis_1min', 'pwd_mean_vis_10min', 'qc_pwd_mean_vis_10min',\n",
    "             'pwd_pw_code_inst', 'qc_pwd_pw_code_inst', 'pwd_pw_code_15min',\n",
    "             'qc_pwd_pw_code_15min', 'pwd_pw_code_1hr', 'qc_pwd_pw_code_1hr',\n",
    "             'pwd_precip_rate_mean_1min', 'qc_pwd_precip_rate_mean_1min',\n",
    "             'pwd_cumul_rain', 'qc_pwd_cumul_rain', 'pwd_cumul_snow',\n",
    "             'qc_pwd_cumul_snow', 'logger_volt', 'qc_logger_volt',\n",
    "             'qc_logger_temp', 'atmos_pressure', 'qc_atmos_pressure']\n",
    "filename = Path('..', 'data', 'sgpmetE13.b1', 'sgpmetE13.b1.20191101.000000.cdf')\n",
    "met_ds = act.io.armfiles.read_netcdf(str(filename), drop_variables=drop_vars)\n",
    "print('\\nInitial variables:')\n",
    "for var_name in met_ds:\n",
    "    print('   ', var_name, met_ds[var_name].attrs['units'])"
   ]
  },
  {
   "cell_type": "markdown",
   "id": "b8a25499",
   "metadata": {},
   "source": [
    "A single variable can be updated with a method call and the variable name"
   ]
  },
  {
   "cell_type": "code",
   "execution_count": null,
   "id": "5db59930",
   "metadata": {},
   "outputs": [],
   "source": [
    "var_name = 'temp_mean'\n",
    "met_ds.utils.change_units(variables=var_name, desired_unit='degK')\n",
    "met_ds[var_name]"
   ]
  },
  {
   "cell_type": "markdown",
   "id": "e9283598",
   "metadata": {},
   "source": [
    "Or all the variabls in the dataset can be updated if the units are compatible by ommiting the varible name. Notice how the relative humidity variables are not affected because the desired unit is a temperature which is not a compatible update."
   ]
  },
  {
   "cell_type": "code",
   "execution_count": null,
   "id": "8e7c564a",
   "metadata": {},
   "outputs": [],
   "source": [
    "met_ds.utils.change_units(desired_unit='degK')\n",
    "print('\\nAll units updated:')\n",
    "for var_name in met_ds:\n",
    "    print('  ', var_name, met_ds[var_name].attrs['units'])"
   ]
  },
  {
   "cell_type": "markdown",
   "id": "1dde5aa2",
   "metadata": {},
   "source": [
    "ARM uses an older format for embedded quality control. We can convert the embedded QC to follow CF format for use with other tools."
   ]
  },
  {
   "cell_type": "code",
   "execution_count": null,
   "id": "1ecd3f12",
   "metadata": {},
   "outputs": [],
   "source": [
    "filename = Path('..', 'data', 'sgpmetE13.b1', 'sgpmetE13.b1.20191101.000000.cdf')\n",
    "met_ds = act.io.armfiles.read_netcdf(str(filename), drop_variables=['base_time', 'time_offset'])\n",
    "met_ds['qc_atmos_pressure']"
   ]
  },
  {
   "cell_type": "markdown",
   "id": "6e531149",
   "metadata": {},
   "source": [
    "Call the cleanup method to go through each quality control variable and update to CF standards. This also fixes the units since uduints does not recognize \"unitless\" as a unit. Will also create a linkage from the data variable to the quality control varible using CF standard linking."
   ]
  },
  {
   "cell_type": "code",
   "execution_count": null,
   "id": "5f75a840",
   "metadata": {},
   "outputs": [],
   "source": [
    "met_ds.clean.cleanup()\n",
    "print(met_ds['atmos_pressure'].attrs)\n",
    "met_ds['qc_atmos_pressure']"
   ]
  },
  {
   "cell_type": "markdown",
   "id": "cfddef52",
   "metadata": {},
   "source": [
    "After cleaning up the quality control variables we can write the Dataset to a netCDF file. We can call the Xarray to_netcdf() method directly, or use the ACT method which will cleanup a few things to make the file match CF and add the CF-1.8 string to the Conventions global attribute."
   ]
  },
  {
   "cell_type": "code",
   "execution_count": null,
   "id": "43b723e6",
   "metadata": {},
   "outputs": [],
   "source": [
    "print(f\"Writing file: {filename.name}\")\n",
    "met_ds.write.write_netcdf(path=str(filename.name))"
   ]
  },
  {
   "cell_type": "code",
   "execution_count": null,
   "id": "bd4770a3",
   "metadata": {},
   "outputs": [],
   "source": [
    "%ls -lh *.cdf\n",
    "# !file *.cdf"
   ]
  },
  {
   "cell_type": "markdown",
   "id": "1187c583",
   "metadata": {},
   "source": [
    "One of the drivers for ACT is making plotting easier. It has methods to work with matplotlib to plot the data stored in the Xarray dataset to correctly plot the data based on data shape. From our plotting examples we needed to know what matplotlib function to call for 1-D or 2-D data. ACT will guess what you want and make the plot for you, including axes labels, units, coordinate variable and a day/night background with local solar noon."
   ]
  },
  {
   "cell_type": "code",
   "execution_count": null,
   "id": "36384b7d",
   "metadata": {},
   "outputs": [],
   "source": [
    "filename = str(Path('..', 'data', 'sgpmetE13.b1', 'sgpmetE13.b1.20191101.000000.cdf'))\n",
    "met_ds = act.io.armfiles.read_netcdf(filename)\n",
    "display = act.plotting.TimeSeriesDisplay(met_ds, figsize=(15, 10))\n",
    "display.plot('temp_mean', linestyle='solid', day_night_background=True)\n",
    "plt.show()"
   ]
  },
  {
   "cell_type": "markdown",
   "id": "61d52181",
   "metadata": {},
   "source": [
    "2D plots can be a bit more difficult so ACT has done much of the heavy workfor you. The set up is the same to create the display object and the timeseries method to plot is the same .plot(). This will also allow for passing pcolormesh specific keywords to plot in log values. The x and y axis show units in correct format and a colorbar is added."
   ]
  },
  {
   "cell_type": "code",
   "execution_count": null,
   "id": "958a1424",
   "metadata": {},
   "outputs": [],
   "source": [
    "filename = str(Path('..', 'data', 'sgpceilC1.b1', 'sgpceilC1.b1.20191103.000012.nc'))\n",
    "ceil_ds = act.io.armfiles.read_netcdf(filename)\n",
    "\n",
    "# We can change the data to a log scale for better plotting.\n",
    "var_name = 'backscatter'\n",
    "display = act.plotting.TimeSeriesDisplay(ceil_ds, figsize=(15, 10))\n",
    "title = (r\"Plot of $\\log_{10}$ \" f\"{var_name} from {ceil_ds.attrs['datastream']} on \"\n",
    "         f\"{ceil_ds.attrs['_file_dates'][0]}\")\n",
    "colorbar_label = r\"$\\log_{10}$\" + ceil_ds[var_name].attrs['units']\n",
    "display.plot(var_name, norm=matplotlib.colors.LogNorm(), set_title=title,\n",
    "             cbar_label=colorbar_label)\n",
    "plt.show()\n"
   ]
  },
  {
   "cell_type": "markdown",
   "id": "2ed61ffa",
   "metadata": {},
   "source": [
    "Cleanup the directory from the new netCDF file we created."
   ]
  },
  {
   "cell_type": "code",
   "execution_count": null,
   "id": "142018b9",
   "metadata": {},
   "outputs": [],
   "source": [
    "!rm -f sgpmetE13.b1.20191101.000000.cdf"
   ]
  }
 ],
 "metadata": {
  "kernelspec": {
   "display_name": "Python 3 (ipykernel)",
   "language": "python",
   "name": "python3"
  },
  "language_info": {
   "codemirror_mode": {
    "name": "ipython",
    "version": 3
   },
   "file_extension": ".py",
   "mimetype": "text/x-python",
   "name": "python",
   "nbconvert_exporter": "python",
   "pygments_lexer": "ipython3",
   "version": "3.8.12"
  }
 },
 "nbformat": 4,
 "nbformat_minor": 5
}

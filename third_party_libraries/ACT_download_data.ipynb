{
 "cells": [
  {
   "cell_type": "markdown",
   "id": "4bfc33d8-d910-468b-b51e-8784107d8026",
   "metadata": {},
   "source": [
    "# Downloading data using the ARM Live Data Web Service\n",
    "You can download data from the ADC Archive without going through the Data Discovery interface. But you will need to set up and get your _token_ first.\n",
    "\n",
    "Got to: https://adc.arm.gov/discovery/#/\n",
    "\n",
    "Scroll to _ARM Live Data Web Service_\n",
    "\n",
    "Login to receive your account's access token. Once you have logged in, the top of the page will show you the token. Copy and save this to a secure place (password manager?)."
   ]
  },
  {
   "cell_type": "code",
   "execution_count": 1,
   "id": "5f6c4aa7-849f-4978-84fb-90752f132391",
   "metadata": {},
   "outputs": [],
   "source": [
    "import os\n",
    "import warnings\n",
    "import act\n",
    "\n",
    "warnings.filterwarnings('ignore')  # Turn off warnings for remainder of this tutorial"
   ]
  },
  {
   "cell_type": "code",
   "execution_count": 2,
   "id": "2a47ff7e-ac02-418c-9ef1-d92d4188a4bb",
   "metadata": {},
   "outputs": [],
   "source": [
    "# Place your username and token here or set environment variables\n",
    "username = os.getenv('ARM_USERNAME')\n",
    "token = os.getenv('ARM_TOKEN')"
   ]
  },
  {
   "cell_type": "markdown",
   "id": "8043b1a4-7742-4ad4-ac71-cc23699da5a2",
   "metadata": {},
   "source": [
    "Get data from the web service if the username and token are available.\n",
    "\n",
    "The method to download ARM data has these options:\n",
    "\n",
    "`download_arm_data(username, token, datastream, startdate, enddate, time=None, output=None)`\n",
    "\n",
    "Since we are not defining _output_ the method will create a directory in the current directory with the datastream name and place the data there. You can use the data as is, move to another location, or set output to a directory of your choosing.\n",
    "\n",
    "Also notice we are using the returned value _results_ and providing that in the function to read the data. _results_ is a list of full path file names. While you can run this code over and over again downloading the data each time, that is not the best method. It would be better to download once and then use pathlib.Path().glob() to search for the files and provide that list to the read_netcdf() method."
   ]
  },
  {
   "cell_type": "code",
   "execution_count": 3,
   "id": "0b71bb40-2bb5-454b-a900-cf5408e9a7dc",
   "metadata": {},
   "outputs": [
    {
     "name": "stdout",
     "output_type": "stream",
     "text": [
      "[DOWNLOADING] sgpceilC1.b1.20220101.000014.nc\n",
      "[DOWNLOADING] sgpceilC1.b1.20220102.000011.nc\n",
      "[DOWNLOADING] sgpceilC1.b1.20220103.000009.nc\n",
      "[DOWNLOADING] sgpceilC1.b1.20220104.000008.nc\n",
      "[DOWNLOADING] sgpceilC1.b1.20220105.000006.nc\n",
      "[DOWNLOADING] sgpceilC1.b1.20220106.000003.nc\n",
      "[DOWNLOADING] sgpceilC1.b1.20220107.000000.nc\n",
      "\n",
      "If you use these data to prepare a publication, please cite:\n",
      "\n",
      "Zhang, D., Ermold, B., & Morris, V. Ceilometer (CEIL). Atmospheric Radiation\n",
      "Measurement (ARM) User Facility. https://doi.org/10.5439/1181954\n",
      "\n"
     ]
    }
   ],
   "source": [
    "# Download and read data\n",
    "results = act.discovery.download_arm_data(username, token, 'sgpceilC1.b1', '2022-01-01', '2022-01-07')\n",
    "ceil_ds = act.io.arm.read_arm_netcdf(results)"
   ]
  },
  {
   "cell_type": "code",
   "execution_count": 4,
   "id": "73a7b935-ea61-4672-a391-47575d734615",
   "metadata": {},
   "outputs": [
    {
     "name": "stdout",
     "output_type": "stream",
     "text": [
      "sgpceilC1.b1 results: ['/Users/kehoe/Git_area/AtmosphericPythonCourse/third_party_libraries/sgpceilC1.b1/sgpceilC1.b1.20220101.000014.nc', '/Users/kehoe/Git_area/AtmosphericPythonCourse/third_party_libraries/sgpceilC1.b1/sgpceilC1.b1.20220102.000011.nc', '/Users/kehoe/Git_area/AtmosphericPythonCourse/third_party_libraries/sgpceilC1.b1/sgpceilC1.b1.20220103.000009.nc', '/Users/kehoe/Git_area/AtmosphericPythonCourse/third_party_libraries/sgpceilC1.b1/sgpceilC1.b1.20220104.000008.nc', '/Users/kehoe/Git_area/AtmosphericPythonCourse/third_party_libraries/sgpceilC1.b1/sgpceilC1.b1.20220105.000006.nc', '/Users/kehoe/Git_area/AtmosphericPythonCourse/third_party_libraries/sgpceilC1.b1/sgpceilC1.b1.20220106.000003.nc', '/Users/kehoe/Git_area/AtmosphericPythonCourse/third_party_libraries/sgpceilC1.b1/sgpceilC1.b1.20220107.000000.nc']\n"
     ]
    }
   ],
   "source": [
    "print('sgpceilC1.b1 results:', results)"
   ]
  }
 ],
 "metadata": {
  "kernelspec": {
   "display_name": "Python 3 (ipykernel)",
   "language": "python",
   "name": "python3"
  },
  "language_info": {
   "codemirror_mode": {
    "name": "ipython",
    "version": 3
   },
   "file_extension": ".py",
   "mimetype": "text/x-python",
   "name": "python",
   "nbconvert_exporter": "python",
   "pygments_lexer": "ipython3",
   "version": "3.11.9"
  }
 },
 "nbformat": 4,
 "nbformat_minor": 5
}

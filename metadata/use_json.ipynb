{
 "cells": [
  {
   "cell_type": "code",
   "execution_count": null,
   "id": "00022898",
   "metadata": {},
   "outputs": [],
   "source": [
    "import json\n",
    "\n",
    "filename = 'example.json'   # Filename of JSON file"
   ]
  },
  {
   "cell_type": "markdown",
   "id": "80730bc6",
   "metadata": {},
   "source": [
    "If we needed to go to a different directory to get to the JSONfile we can use relative or full path to the file. The with statement ensures the file handle is closed after the file is read. This means we don't need to manage that part. A \"with\" works with any context manager."
   ]
  },
  {
   "cell_type": "code",
   "execution_count": null,
   "id": "036d450d",
   "metadata": {},
   "outputs": [],
   "source": [
    "with open(filename, \"r\") as read_file:\n",
    "    docs = json.load(read_file)"
   ]
  },
  {
   "cell_type": "markdown",
   "id": "978d607b",
   "metadata": {},
   "source": [
    "The best way to ust this part is to open the JSON file and see how it is stuctured so you can see how the data types are nested and data are preserved. Feel free to mess with the JSON file to see how things change. You can alwasy get it back to orginal state with a \"git checkout example.json\""
   ]
  },
  {
   "cell_type": "code",
   "execution_count": null,
   "id": "136a4e4b",
   "metadata": {},
   "outputs": [],
   "source": [
    "type(docs)"
   ]
  },
  {
   "cell_type": "code",
   "execution_count": null,
   "id": "f4afe6c3",
   "metadata": {},
   "outputs": [],
   "source": [
    "docs"
   ]
  },
  {
   "cell_type": "markdown",
   "id": "c1598b2e",
   "metadata": {},
   "source": [
    "Here we can see how the JSON file preserves data type depending on the syntax used in the JSON file."
   ]
  },
  {
   "cell_type": "code",
   "execution_count": null,
   "id": "8bdab7c4",
   "metadata": {},
   "outputs": [],
   "source": [
    "print(\"type(docs['a_variable_name'])\", type(docs['a_variable_name']))\n",
    "print(\"type(docs['b_variable_name'])\", type(docs['b_variable_name']))\n",
    "print(\"type(docs['c_variable_name'])\", type(docs['c_variable_name']))\n",
    "print(\"type(docs['d_list_name'])\", type(docs['d_list_name']))"
   ]
  },
  {
   "cell_type": "code",
   "execution_count": null,
   "id": "784d2281",
   "metadata": {},
   "outputs": [],
   "source": [
    "type(docs['site'])"
   ]
  },
  {
   "cell_type": "code",
   "execution_count": null,
   "id": "6b1ad8e0",
   "metadata": {},
   "outputs": [],
   "source": [
    "type(docs['site'])"
   ]
  },
  {
   "cell_type": "code",
   "execution_count": null,
   "id": "555f4993",
   "metadata": {},
   "outputs": [],
   "source": [
    "docs['a_variable_name']"
   ]
  },
  {
   "cell_type": "code",
   "execution_count": null,
   "id": "a0fa60b3",
   "metadata": {},
   "outputs": [],
   "source": [
    "docs['site']['DEN']['lon']"
   ]
  },
  {
   "cell_type": "code",
   "execution_count": null,
   "id": "17dec660",
   "metadata": {},
   "outputs": [],
   "source": [
    "docs['d_list_name']"
   ]
  },
  {
   "cell_type": "code",
   "execution_count": null,
   "id": "6d5a03b4",
   "metadata": {},
   "outputs": [],
   "source": [
    "docs['d_list_name'][\"five\"]"
   ]
  }
 ],
 "metadata": {
  "kernelspec": {
   "display_name": "Python 3 (ipykernel)",
   "language": "python",
   "name": "python3"
  },
  "language_info": {
   "codemirror_mode": {
    "name": "ipython",
    "version": 3
   },
   "file_extension": ".py",
   "mimetype": "text/x-python",
   "name": "python",
   "nbconvert_exporter": "python",
   "pygments_lexer": "ipython3",
   "version": "3.8.12"
  }
 },
 "nbformat": 4,
 "nbformat_minor": 5
}

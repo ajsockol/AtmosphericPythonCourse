{
 "cells": [
  {
   "cell_type": "markdown",
   "id": "9168372e",
   "metadata": {},
   "source": [
    "If we needed to go to a different directory to get to the JSONfile we can use relative or full path to the file. The _with_ statement is a context manager and ensures the file handle is closed after the file is read. This means we don't need to manage that part."
   ]
  },
  {
   "cell_type": "code",
   "execution_count": null,
   "id": "27c7ee10",
   "metadata": {},
   "outputs": [],
   "source": [
    "import json\n",
    "\n",
    "with open('example.json', \"r\") as read_file:\n",
    "    docs = json.load(read_file)"
   ]
  },
  {
   "cell_type": "markdown",
   "id": "27a8db02",
   "metadata": {},
   "source": [
    "The best way to ust this part is to open the JSON file and see how it is stuctured so you can see how the data types are nested and data are preserved. Feel free to mess with the JSON file to see how things change. You can alwasy get it back to orginal state with a \"git checkout example.json\""
   ]
  },
  {
   "cell_type": "code",
   "execution_count": null,
   "id": "71a93df1",
   "metadata": {},
   "outputs": [],
   "source": [
    "type(docs)"
   ]
  },
  {
   "cell_type": "code",
   "execution_count": null,
   "id": "deedbaa6",
   "metadata": {},
   "outputs": [],
   "source": [
    "docs"
   ]
  },
  {
   "cell_type": "markdown",
   "id": "3f125873",
   "metadata": {},
   "source": [
    "Here we can see how the JSON file preserves data type depending on the syntax used in the JSON file."
   ]
  },
  {
   "cell_type": "code",
   "execution_count": null,
   "id": "8aac4de4",
   "metadata": {},
   "outputs": [],
   "source": [
    "print(\"type(docs['a_variable_name'])\", type(docs['a_variable_name']))\n",
    "print(\"type(docs['b_variable_name'])\", type(docs['b_variable_name']))\n",
    "print(\"type(docs['c_variable_name'])\", type(docs['c_variable_name']))\n",
    "print(\"type(docs['d_list_name'])\", type(docs['d_list_name']))"
   ]
  },
  {
   "cell_type": "code",
   "execution_count": null,
   "id": "4c93d913",
   "metadata": {},
   "outputs": [],
   "source": [
    "type(docs['site'])"
   ]
  },
  {
   "cell_type": "code",
   "execution_count": null,
   "id": "e976b5ad",
   "metadata": {},
   "outputs": [],
   "source": [
    "type(docs['site'])"
   ]
  },
  {
   "cell_type": "code",
   "execution_count": null,
   "id": "28ee7c68",
   "metadata": {},
   "outputs": [],
   "source": [
    "docs['a_variable_name']"
   ]
  },
  {
   "cell_type": "code",
   "execution_count": null,
   "id": "4d44cc07",
   "metadata": {},
   "outputs": [],
   "source": [
    "docs['site']['DEN']['lon']"
   ]
  },
  {
   "cell_type": "code",
   "execution_count": null,
   "id": "107f19f3",
   "metadata": {},
   "outputs": [],
   "source": [
    "docs['d_list_name']"
   ]
  },
  {
   "cell_type": "code",
   "execution_count": null,
   "id": "5f8eb2c2",
   "metadata": {},
   "outputs": [],
   "source": [
    "docs['d_list_name'][\"five\"]"
   ]
  }
 ],
 "metadata": {
  "kernelspec": {
   "display_name": "Python 3 (ipykernel)",
   "language": "python",
   "name": "python3"
  },
  "language_info": {
   "codemirror_mode": {
    "name": "ipython",
    "version": 3
   },
   "file_extension": ".py",
   "mimetype": "text/x-python",
   "name": "python",
   "nbconvert_exporter": "python",
   "pygments_lexer": "ipython3",
   "version": "3.8.12"
  }
 },
 "nbformat": 4,
 "nbformat_minor": 5
}

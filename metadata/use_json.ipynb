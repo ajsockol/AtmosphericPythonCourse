{
 "cells": [
  {
   "cell_type": "markdown",
   "id": "9168372e",
   "metadata": {},
   "source": [
    "## Using JSON file format\n",
    "\n",
    "JSON file formats were created for web-pages to pass data from server-client-server. The format is efficient ASCII based, although not as human readable as YAML.\n",
    "\n",
    "If we needed to go to a different directory to get to the JSON file we can use relative or full path to the file. The _with_ statement is a context manager and ensures the file handle is closed after the file is read. This means we don't need to manage that part."
   ]
  },
  {
   "cell_type": "code",
   "execution_count": 1,
   "id": "27c7ee10",
   "metadata": {},
   "outputs": [],
   "source": [
    "import json\n",
    "\n",
    "with open('example.json', \"r\") as read_file:\n",
    "    docs = json.load(read_file)"
   ]
  },
  {
   "cell_type": "markdown",
   "id": "27a8db02",
   "metadata": {},
   "source": [
    "The best way to use this part is to open the JSON file and see how it is stuctured so you can see how the data types are nested and data are preserved. Feel free to mess with the JSON file to see how things change. You can alwasy get it back to orginal state with a \"git checkout example.json\""
   ]
  },
  {
   "cell_type": "code",
   "execution_count": 2,
   "id": "71a93df1",
   "metadata": {},
   "outputs": [
    {
     "data": {
      "text/plain": [
       "dict"
      ]
     },
     "execution_count": 2,
     "metadata": {},
     "output_type": "execute_result"
    }
   ],
   "source": [
    "type(docs)"
   ]
  },
  {
   "cell_type": "code",
   "execution_count": 3,
   "id": "deedbaa6",
   "metadata": {},
   "outputs": [
    {
     "data": {
      "text/plain": [
       "{'a_variable_name': 'A value to list with the variable',\n",
       " 'b_variable_name': 1,\n",
       " 'c_variable_name': 11.0,\n",
       " 'd_list_name': {'one': 1,\n",
       "  'two': 2.0,\n",
       "  \"three'\": 3.0,\n",
       "  'four': 'four',\n",
       "  'five': 'a big long string \\nwith returns\\n'},\n",
       " 'site': {'DEN': {'description': 'A very large airport',\n",
       "   'lat': 39.8561,\n",
       "   'lon': 104.6737,\n",
       "   'dates': [20190101, 20210301]},\n",
       "  'ATL': {'description': 'An even larger airport',\n",
       "   'lat': 33.6407,\n",
       "   'lon': 84.4277,\n",
       "   'dates': [19700101, 20300301]},\n",
       "  'GRB': {'description': 'A not so large airport',\n",
       "   'lat': 44.4927,\n",
       "   'lon': 88.1272,\n",
       "   'dates': [19761125, 20761125]}}}"
      ]
     },
     "execution_count": 3,
     "metadata": {},
     "output_type": "execute_result"
    }
   ],
   "source": [
    "docs"
   ]
  },
  {
   "cell_type": "markdown",
   "id": "3f125873",
   "metadata": {},
   "source": [
    "Here we can see how the JSON file preserves data type depending on the syntax used in the JSON file."
   ]
  },
  {
   "cell_type": "code",
   "execution_count": 4,
   "id": "8aac4de4",
   "metadata": {},
   "outputs": [
    {
     "name": "stdout",
     "output_type": "stream",
     "text": [
      "type(docs['a_variable_name']) <class 'str'>\n",
      "type(docs['b_variable_name']) <class 'int'>\n",
      "type(docs['c_variable_name']) <class 'float'>\n",
      "type(docs['d_list_name']) <class 'dict'>\n"
     ]
    }
   ],
   "source": [
    "print(\"type(docs['a_variable_name'])\", type(docs['a_variable_name']))\n",
    "print(\"type(docs['b_variable_name'])\", type(docs['b_variable_name']))\n",
    "print(\"type(docs['c_variable_name'])\", type(docs['c_variable_name']))\n",
    "print(\"type(docs['d_list_name'])\", type(docs['d_list_name']))"
   ]
  },
  {
   "cell_type": "code",
   "execution_count": 5,
   "id": "4c93d913",
   "metadata": {},
   "outputs": [
    {
     "data": {
      "text/plain": [
       "dict"
      ]
     },
     "execution_count": 5,
     "metadata": {},
     "output_type": "execute_result"
    }
   ],
   "source": [
    "type(docs['site'])"
   ]
  },
  {
   "cell_type": "code",
   "execution_count": 6,
   "id": "e976b5ad",
   "metadata": {},
   "outputs": [
    {
     "data": {
      "text/plain": [
       "dict"
      ]
     },
     "execution_count": 6,
     "metadata": {},
     "output_type": "execute_result"
    }
   ],
   "source": [
    "type(docs['site'])"
   ]
  },
  {
   "cell_type": "code",
   "execution_count": 7,
   "id": "28ee7c68",
   "metadata": {},
   "outputs": [
    {
     "data": {
      "text/plain": [
       "'A value to list with the variable'"
      ]
     },
     "execution_count": 7,
     "metadata": {},
     "output_type": "execute_result"
    }
   ],
   "source": [
    "docs['a_variable_name']"
   ]
  },
  {
   "cell_type": "code",
   "execution_count": 8,
   "id": "4d44cc07",
   "metadata": {},
   "outputs": [
    {
     "data": {
      "text/plain": [
       "104.6737"
      ]
     },
     "execution_count": 8,
     "metadata": {},
     "output_type": "execute_result"
    }
   ],
   "source": [
    "docs['site']['DEN']['lon']"
   ]
  },
  {
   "cell_type": "code",
   "execution_count": 9,
   "id": "107f19f3",
   "metadata": {},
   "outputs": [
    {
     "data": {
      "text/plain": [
       "{'one': 1,\n",
       " 'two': 2.0,\n",
       " \"three'\": 3.0,\n",
       " 'four': 'four',\n",
       " 'five': 'a big long string \\nwith returns\\n'}"
      ]
     },
     "execution_count": 9,
     "metadata": {},
     "output_type": "execute_result"
    }
   ],
   "source": [
    "docs['d_list_name']"
   ]
  },
  {
   "cell_type": "code",
   "execution_count": 10,
   "id": "5f8eb2c2",
   "metadata": {},
   "outputs": [
    {
     "data": {
      "text/plain": [
       "'a big long string \\nwith returns\\n'"
      ]
     },
     "execution_count": 10,
     "metadata": {},
     "output_type": "execute_result"
    }
   ],
   "source": [
    "docs['d_list_name'][\"five\"]"
   ]
  }
 ],
 "metadata": {
  "kernelspec": {
   "display_name": "Python 3 (ipykernel)",
   "language": "python",
   "name": "python3"
  },
  "language_info": {
   "codemirror_mode": {
    "name": "ipython",
    "version": 3
   },
   "file_extension": ".py",
   "mimetype": "text/x-python",
   "name": "python",
   "nbconvert_exporter": "python",
   "pygments_lexer": "ipython3",
   "version": "3.9.16"
  }
 },
 "nbformat": 4,
 "nbformat_minor": 5
}

{
 "cells": [
  {
   "cell_type": "markdown",
   "id": "4246a229",
   "metadata": {},
   "source": [
    "The _with) statement is a context manager and ensures the file handle is closed after the file is read. This means we don't need to manage that part. A \"with\" works with any context manager."
   ]
  },
  {
   "cell_type": "code",
   "execution_count": null,
   "id": "45e01753",
   "metadata": {},
   "outputs": [],
   "source": [
    "import yaml\n",
    "\n",
    "with open('example.yaml', \"r\") as fp:\n",
    "    docs = yaml.load(fp, Loader=yaml.FullLoader)"
   ]
  },
  {
   "cell_type": "code",
   "execution_count": null,
   "id": "f0703965",
   "metadata": {},
   "outputs": [],
   "source": [
    "type(docs)"
   ]
  },
  {
   "cell_type": "code",
   "execution_count": null,
   "id": "2dc8a805",
   "metadata": {},
   "outputs": [],
   "source": [
    "docs"
   ]
  },
  {
   "cell_type": "code",
   "execution_count": null,
   "id": "291376fc",
   "metadata": {},
   "outputs": [],
   "source": [
    "print(\"type(docs['a_variable_name'])\", type(docs['a_variable_name']))\n",
    "print()\n",
    "print(\"type(docs['b_variable_name'])\", type(docs['b_variable_name']))\n",
    "print()\n",
    "print(\"type(docs['c_variable_name'])\", type(docs['c_variable_name']))\n",
    "print()\n",
    "print(\"type(docs['d_variable_name'])\", type(docs['d_variable_name']))"
   ]
  },
  {
   "cell_type": "code",
   "execution_count": null,
   "id": "f89adcef",
   "metadata": {},
   "outputs": [],
   "source": [
    "type(docs['d_list_name'])"
   ]
  },
  {
   "cell_type": "code",
   "execution_count": null,
   "id": "1dfecee7",
   "metadata": {},
   "outputs": [],
   "source": [
    "type(docs['site'])"
   ]
  },
  {
   "cell_type": "code",
   "execution_count": null,
   "id": "8fb23617",
   "metadata": {},
   "outputs": [],
   "source": [
    "docs['a_variable_name']"
   ]
  },
  {
   "cell_type": "code",
   "execution_count": null,
   "id": "fe1c5324",
   "metadata": {},
   "outputs": [],
   "source": [
    "docs['site']['DEN']['lon']"
   ]
  },
  {
   "cell_type": "code",
   "execution_count": null,
   "id": "db4fe6c8",
   "metadata": {},
   "outputs": [],
   "source": [
    "docs['d_list_name']"
   ]
  }
 ],
 "metadata": {
  "kernelspec": {
   "display_name": "Python 3 (ipykernel)",
   "language": "python",
   "name": "python3"
  },
  "language_info": {
   "codemirror_mode": {
    "name": "ipython",
    "version": 3
   },
   "file_extension": ".py",
   "mimetype": "text/x-python",
   "name": "python",
   "nbconvert_exporter": "python",
   "pygments_lexer": "ipython3",
   "version": "3.8.12"
  }
 },
 "nbformat": 4,
 "nbformat_minor": 5
}

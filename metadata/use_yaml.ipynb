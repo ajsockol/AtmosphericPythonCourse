{
 "cells": [
  {
   "cell_type": "markdown",
   "id": "2ad87356",
   "metadata": {},
   "source": [
    "The _with_ statement is a context manager and ensures the file handle is closed after the file is read. This means we don't need to manage that part."
   ]
  },
  {
   "cell_type": "code",
   "execution_count": null,
   "id": "6d56a839",
   "metadata": {},
   "outputs": [],
   "source": [
    "import yaml\n",
    "\n",
    "with open('example.yaml', \"r\") as fp:\n",
    "    docs = yaml.load(fp, Loader=yaml.FullLoader)"
   ]
  },
  {
   "cell_type": "code",
   "execution_count": null,
   "id": "73fd38c6",
   "metadata": {},
   "outputs": [],
   "source": [
    "type(docs)"
   ]
  },
  {
   "cell_type": "code",
   "execution_count": null,
   "id": "7c90a2a6",
   "metadata": {},
   "outputs": [],
   "source": [
    "docs"
   ]
  },
  {
   "cell_type": "code",
   "execution_count": null,
   "id": "1b52af95",
   "metadata": {},
   "outputs": [],
   "source": [
    "print(\"type(docs['a_variable_name'])\", type(docs['a_variable_name']))\n",
    "print()\n",
    "print(\"type(docs['b_variable_name'])\", type(docs['b_variable_name']))\n",
    "print()\n",
    "print(\"type(docs['c_variable_name'])\", type(docs['c_variable_name']))\n",
    "print()\n",
    "print(\"type(docs['d_variable_name'])\", type(docs['d_variable_name']))"
   ]
  },
  {
   "cell_type": "code",
   "execution_count": null,
   "id": "da33a017",
   "metadata": {},
   "outputs": [],
   "source": [
    "type(docs['d_list_name'])"
   ]
  },
  {
   "cell_type": "code",
   "execution_count": null,
   "id": "61b637c5",
   "metadata": {},
   "outputs": [],
   "source": [
    "type(docs['site'])"
   ]
  },
  {
   "cell_type": "code",
   "execution_count": null,
   "id": "d8c32c37",
   "metadata": {},
   "outputs": [],
   "source": [
    "docs['a_variable_name']"
   ]
  },
  {
   "cell_type": "code",
   "execution_count": null,
   "id": "cad9fafd",
   "metadata": {},
   "outputs": [],
   "source": [
    "docs['site']['DEN']['lon']"
   ]
  },
  {
   "cell_type": "code",
   "execution_count": null,
   "id": "2c15a8ef",
   "metadata": {},
   "outputs": [],
   "source": [
    "docs['d_list_name']"
   ]
  }
 ],
 "metadata": {
  "kernelspec": {
   "display_name": "Python 3 (ipykernel)",
   "language": "python",
   "name": "python3"
  },
  "language_info": {
   "codemirror_mode": {
    "name": "ipython",
    "version": 3
   },
   "file_extension": ".py",
   "mimetype": "text/x-python",
   "name": "python",
   "nbconvert_exporter": "python",
   "pygments_lexer": "ipython3",
   "version": "3.8.12"
  }
 },
 "nbformat": 4,
 "nbformat_minor": 5
}

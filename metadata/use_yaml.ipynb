{
 "cells": [
  {
   "cell_type": "markdown",
   "id": "2ad87356",
   "metadata": {},
   "source": [
    "# Using YAML for metadata\n",
    "\n",
    "The YAML format is human readable ASCII text. Not as efficient for large amounts of data or lists but fantastic for keyword: value type data.\n",
    "\n",
    "The _with_ statement is a context manager and ensures the file handle is closed after the file is read. This means we don't need to manage that part."
   ]
  },
  {
   "cell_type": "code",
   "execution_count": 1,
   "id": "6d56a839",
   "metadata": {},
   "outputs": [],
   "source": [
    "import yaml\n",
    "\n",
    "with open('example.yaml', \"r\") as fp:\n",
    "    docs = yaml.load(fp, Loader=yaml.FullLoader)"
   ]
  },
  {
   "cell_type": "code",
   "execution_count": 2,
   "id": "73fd38c6",
   "metadata": {},
   "outputs": [
    {
     "data": {
      "text/plain": [
       "dict"
      ]
     },
     "execution_count": 2,
     "metadata": {},
     "output_type": "execute_result"
    }
   ],
   "source": [
    "type(docs)"
   ]
  },
  {
   "cell_type": "code",
   "execution_count": 3,
   "id": "7c90a2a6",
   "metadata": {},
   "outputs": [
    {
     "data": {
      "text/plain": [
       "{'a_variable_name': 'A value to list with the variable',\n",
       " 'b_variable_name': 'A value to list with the variable but no quotes. Some assumptions are made.',\n",
       " 'c_variable_name': 1,\n",
       " 'd_variable_name': 11.0,\n",
       " 'd_list_name': [1,\n",
       "  2.0,\n",
       "  3.0,\n",
       "  'one',\n",
       "  'two and a half',\n",
       "  'three or four',\n",
       "  'this is a string with a return in the YAML file but not once it it is read in.',\n",
       "  'This is a different way to have multiline text in the YAML file. It will be stored as a single string in Python. Notice how the end has a newline added at end of string.\\n',\n",
       "  'This will be a string\\nthat preserves the new line\\nin the read in string.\\n',\n",
       "  ['or', 'a', 'list', 'of', 'something'],\n",
       "  True,\n",
       "  'False',\n",
       "  {'use': True}],\n",
       " 'site': {'DEN': {'description': 'A very large airport',\n",
       "   'lat': 39.8561,\n",
       "   'lon': 104.6737,\n",
       "   'dates': [20190101, 20210301]},\n",
       "  'ATL': {'description': 'An even larger airport',\n",
       "   'lat': 33.6407,\n",
       "   'lon': 84.4277,\n",
       "   'dates': [19700101, 20300301]},\n",
       "  'GRB': {'description': 'A not so large airport',\n",
       "   'lat': 44.4927,\n",
       "   'lon': 88.1272,\n",
       "   'dates': [19761125, 20761125]}}}"
      ]
     },
     "execution_count": 3,
     "metadata": {},
     "output_type": "execute_result"
    }
   ],
   "source": [
    "docs"
   ]
  },
  {
   "cell_type": "code",
   "execution_count": 4,
   "id": "1b52af95",
   "metadata": {},
   "outputs": [
    {
     "name": "stdout",
     "output_type": "stream",
     "text": [
      "type(docs['a_variable_name']) <class 'str'>\n",
      "\n",
      "type(docs['b_variable_name']) <class 'str'>\n",
      "\n",
      "type(docs['c_variable_name']) <class 'int'>\n",
      "\n",
      "type(docs['d_variable_name']) <class 'float'>\n"
     ]
    }
   ],
   "source": [
    "print(\"type(docs['a_variable_name'])\", type(docs['a_variable_name']))\n",
    "print()\n",
    "print(\"type(docs['b_variable_name'])\", type(docs['b_variable_name']))\n",
    "print()\n",
    "print(\"type(docs['c_variable_name'])\", type(docs['c_variable_name']))\n",
    "print()\n",
    "print(\"type(docs['d_variable_name'])\", type(docs['d_variable_name']))"
   ]
  },
  {
   "cell_type": "code",
   "execution_count": 5,
   "id": "da33a017",
   "metadata": {},
   "outputs": [
    {
     "data": {
      "text/plain": [
       "list"
      ]
     },
     "execution_count": 5,
     "metadata": {},
     "output_type": "execute_result"
    }
   ],
   "source": [
    "type(docs['d_list_name'])"
   ]
  },
  {
   "cell_type": "code",
   "execution_count": 6,
   "id": "61b637c5",
   "metadata": {},
   "outputs": [
    {
     "data": {
      "text/plain": [
       "dict"
      ]
     },
     "execution_count": 6,
     "metadata": {},
     "output_type": "execute_result"
    }
   ],
   "source": [
    "type(docs['site'])"
   ]
  },
  {
   "cell_type": "code",
   "execution_count": 7,
   "id": "d8c32c37",
   "metadata": {},
   "outputs": [
    {
     "data": {
      "text/plain": [
       "'A value to list with the variable'"
      ]
     },
     "execution_count": 7,
     "metadata": {},
     "output_type": "execute_result"
    }
   ],
   "source": [
    "docs['a_variable_name']"
   ]
  },
  {
   "cell_type": "code",
   "execution_count": 8,
   "id": "cad9fafd",
   "metadata": {},
   "outputs": [
    {
     "data": {
      "text/plain": [
       "104.6737"
      ]
     },
     "execution_count": 8,
     "metadata": {},
     "output_type": "execute_result"
    }
   ],
   "source": [
    "docs['site']['DEN']['lon']"
   ]
  },
  {
   "cell_type": "code",
   "execution_count": 9,
   "id": "2c15a8ef",
   "metadata": {},
   "outputs": [
    {
     "data": {
      "text/plain": [
       "[1,\n",
       " 2.0,\n",
       " 3.0,\n",
       " 'one',\n",
       " 'two and a half',\n",
       " 'three or four',\n",
       " 'this is a string with a return in the YAML file but not once it it is read in.',\n",
       " 'This is a different way to have multiline text in the YAML file. It will be stored as a single string in Python. Notice how the end has a newline added at end of string.\\n',\n",
       " 'This will be a string\\nthat preserves the new line\\nin the read in string.\\n',\n",
       " ['or', 'a', 'list', 'of', 'something'],\n",
       " True,\n",
       " 'False',\n",
       " {'use': True}]"
      ]
     },
     "execution_count": 9,
     "metadata": {},
     "output_type": "execute_result"
    }
   ],
   "source": [
    "docs['d_list_name']"
   ]
  }
 ],
 "metadata": {
  "kernelspec": {
   "display_name": "Python 3 (ipykernel)",
   "language": "python",
   "name": "python3"
  },
  "language_info": {
   "codemirror_mode": {
    "name": "ipython",
    "version": 3
   },
   "file_extension": ".py",
   "mimetype": "text/x-python",
   "name": "python",
   "nbconvert_exporter": "python",
   "pygments_lexer": "ipython3",
   "version": "3.9.16"
  }
 },
 "nbformat": 4,
 "nbformat_minor": 5
}

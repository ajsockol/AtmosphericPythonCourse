{
 "cells": [
  {
   "cell_type": "markdown",
   "id": "ec72977a-8d03-4138-b45e-7e1a93df5e57",
   "metadata": {},
   "source": [
    "# We can build libraries and use them in Jupyter Notebooks"
   ]
  },
  {
   "cell_type": "markdown",
   "id": "c9866d8c-14fb-42cc-950c-8e0ced6e44e4",
   "metadata": {},
   "source": [
    "Jupyter Notebooks are a more rich version of executing Python code. So this means we can use the notebooks just like normal Python scripts (mostly). For example, here is the library we created. It can be imported and used the same as our Python script. Since the library exists in the sub-directories we do not need to modify the PATH or PYTHONPATH."
   ]
  },
  {
   "cell_type": "code",
   "execution_count": 1,
   "id": "dc701f3e-6fc4-474e-8fea-18fad23841d8",
   "metadata": {},
   "outputs": [],
   "source": [
    "from repository_example.mypythonlib.myfunctions import haversine"
   ]
  },
  {
   "cell_type": "code",
   "execution_count": 2,
   "id": "47043830-dea7-4215-a206-a79d918626bf",
   "metadata": {},
   "outputs": [
    {
     "name": "stdout",
     "output_type": "stream",
     "text": [
      "result = 576.6625818456291 km\n"
     ]
    }
   ],
   "source": [
    "result = haversine(4.895168, 52.370216, 13.404954, 52.520008)\n",
    "print(f\"result = {result} km\")"
   ]
  },
  {
   "cell_type": "markdown",
   "id": "b60ff2c3-e4e6-4220-906c-e18e3723f466",
   "metadata": {},
   "source": [
    "If this didn't work, we may need to add _repository_example_ directory to the PATH so the Jypyter Python intepreter can find it. We would do that the same way we do with the command line scripts. Use the terminal method from a terminal and the Python method in a Jupyter Notebook. This is the one time that using the Python method may be better."
   ]
  }
 ],
 "metadata": {
  "kernelspec": {
   "display_name": "Python 3 (ipykernel)",
   "language": "python",
   "name": "python3"
  },
  "language_info": {
   "codemirror_mode": {
    "name": "ipython",
    "version": 3
   },
   "file_extension": ".py",
   "mimetype": "text/x-python",
   "name": "python",
   "nbconvert_exporter": "python",
   "pygments_lexer": "ipython3",
   "version": "3.9.16"
  }
 },
 "nbformat": 4,
 "nbformat_minor": 5
}

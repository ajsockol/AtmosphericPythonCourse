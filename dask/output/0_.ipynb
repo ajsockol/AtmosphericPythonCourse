{
 "cells": [
  {
   "cell_type": "markdown",
   "id": "better-contamination",
   "metadata": {},
   "source": [
    "<h1>Parallel programming in Python: An introduction to the Dask project</h1>\n",
    "<img src='https://imgs.xkcd.com/comics/python.png'>"
   ]
  },
  {
   "cell_type": "code",
   "execution_count": null,
   "id": "invisible-lightning",
   "metadata": {},
   "outputs": [],
   "source": []
  }
 ],
 "metadata": {
  "kernelspec": {
   "display_name": "Python 3",
   "language": "python",
   "name": "python3"
  },
  "language_info": {
   "codemirror_mode": {
    "name": "ipython",
    "version": 3
   },
   "file_extension": ".py",
   "mimetype": "text/x-python",
   "name": "python",
   "nbconvert_exporter": "python",
   "pygments_lexer": "ipython3",
   "version": "3.8.6"
  }
 },
 "nbformat": 4,
 "nbformat_minor": 5
}

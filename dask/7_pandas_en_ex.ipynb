{
 "cells": [
  {
   "cell_type": "markdown",
   "id": "focused-anniversary",
   "metadata": {},
   "source": [
    "<h1>Extending the Pandas dataframe; Dask dataframe</h2>"
   ]
  },
  {
   "cell_type": "markdown",
   "id": "sophisticated-guarantee",
   "metadata": {},
   "source": [
    "Pandas is a very powerful library for doing data analytics on tabular data like csv files."
   ]
  },
  {
   "cell_type": "code",
   "execution_count": 1,
   "id": "undefined-medline",
   "metadata": {},
   "outputs": [
    {
     "name": "stdout",
     "output_type": "stream",
     "text": [
      "Processing  76  files.\n"
     ]
    }
   ],
   "source": [
    "import pandas as pd\n",
    "import numpy as np\n",
    "import datetime as dt\n",
    "import glob\n",
    "import os\n",
    "\n",
    "#Hourly files of lbnl sgp insitu data, 2-3 lines per file\n",
    "sdir='/ccg/non-gmd/en/icp/insitu/2021-01-26/'\n",
    "sdir='/home/ccg/mund/tmp/lns/'\n",
    "odir='output/monthly_means/'\n",
    "file_filter=sdir+\"data1/*-1.csv\"\n",
    "file_filter2=sdir+\"data2/*-1.csv\"\n",
    "out=[];\n",
    "\n",
    "files=glob.glob(file_filter)\n",
    "print(\"Processing \",len(files),\" files.\")"
   ]
  },
  {
   "cell_type": "code",
   "execution_count": null,
   "id": "appreciated-maryland",
   "metadata": {},
   "outputs": [],
   "source": [
    "! ls -lh $file_filter"
   ]
  },
  {
   "cell_type": "code",
   "execution_count": null,
   "id": "flush-saying",
   "metadata": {},
   "outputs": [],
   "source": [
    "! head /ccg/non-gmd/en/icp/insitu/2021-01-26/ghg40-b-cal-1.csv"
   ]
  },
  {
   "cell_type": "markdown",
   "id": "weird-atmosphere",
   "metadata": {},
   "source": [
    "<h3>Using traditional Pandas dataframes</h3>Loop through a directory, concatenate dataframes and generate monthly averages"
   ]
  },
  {
   "cell_type": "code",
   "execution_count": null,
   "id": "expired-naples",
   "metadata": {},
   "outputs": [],
   "source": [
    "%%time\n",
    "n=0;frames=[]\n",
    "for f in files:\n",
    "    frames.append(pd.read_csv(f,usecols=['time',' co2_dry'],parse_dates=['time'],na_values=\" nan\"))\n",
    "    n+=1\n",
    "df=pd.concat(frames)\n",
    "df=df.dropna()\n",
    "a=df.groupby(pd.Grouper(key='time',freq='M'))[' co2_dry'].mean()\n",
    "a.to_csv(odir+'looped_pandas.csv')\n",
    "print(\"Rows:\",n)\n",
    "\n",
    "#Rows: 76\n",
    "#CPU times: user 52.7 s, sys: 6.86 s, total: 59.6 s\n",
    "#Wall time: 1min 12s"
   ]
  },
  {
   "cell_type": "code",
   "execution_count": null,
   "id": "provincial-sussex",
   "metadata": {},
   "outputs": [],
   "source": [
    "df.info"
   ]
  },
  {
   "cell_type": "markdown",
   "id": "previous-legend",
   "metadata": {},
   "source": [
    "<h3>Dask dataframe</h3> Extends Pandas to add parallel processing.  Internally, the dask dataframe is a series of Pandas dataframes and it delegates operations to them."
   ]
  },
  {
   "cell_type": "code",
   "execution_count": null,
   "id": "eligible-virtue",
   "metadata": {},
   "outputs": [],
   "source": [
    "#Import distributed and create a local 4 process client with restricted memory usage.  \n",
    "from dask.distributed import Client, progress\n",
    "client = Client(processes=True, threads_per_worker=1,\n",
    "                n_workers=4, memory_limit='1GB')\n",
    "client"
   ]
  },
  {
   "cell_type": "markdown",
   "id": "injured-blanket",
   "metadata": {},
   "source": [
    "<h4>Or use Jupyterlab to create one and hook into display</h4>"
   ]
  },
  {
   "cell_type": "code",
   "execution_count": 2,
   "id": "ethical-apparel",
   "metadata": {},
   "outputs": [
    {
     "data": {
      "text/html": [
       "<table style=\"border: 2px solid white;\">\n",
       "<tr>\n",
       "<td style=\"vertical-align: top; border: 0px solid white\">\n",
       "<h3 style=\"text-align: left;\">Client</h3>\n",
       "<ul style=\"text-align: left; list-style: none; margin: 0; padding: 0;\">\n",
       "  <li><b>Scheduler: </b>tcp://127.0.0.1:43729</li>\n",
       "  <li><b>Dashboard: </b><a href='http://127.0.0.1:43356/status' target='_blank'>http://127.0.0.1:43356/status</a></li>\n",
       "</ul>\n",
       "</td>\n",
       "<td style=\"vertical-align: top; border: 0px solid white\">\n",
       "<h3 style=\"text-align: left;\">Cluster</h3>\n",
       "<ul style=\"text-align: left; list-style:none; margin: 0; padding: 0;\">\n",
       "  <li><b>Workers: </b>4</li>\n",
       "  <li><b>Cores: </b>4</li>\n",
       "  <li><b>Memory: </b>33.57 GB</li>\n",
       "</ul>\n",
       "</td>\n",
       "</tr>\n",
       "</table>"
      ],
      "text/plain": [
       "<Client: 'tcp://127.0.0.1:43729' processes=4 threads=4, memory=33.57 GB>"
      ]
     },
     "execution_count": 2,
     "metadata": {},
     "output_type": "execute_result"
    }
   ],
   "source": [
    "from dask.distributed import Client\n",
    "\n",
    "client = Client(\"tcp://127.0.0.1:43729\")\n",
    "client"
   ]
  },
  {
   "cell_type": "code",
   "execution_count": 4,
   "id": "expressed-circus",
   "metadata": {},
   "outputs": [
    {
     "name": "stdout",
     "output_type": "stream",
     "text": [
      "CPU times: user 278 ms, sys: 68.5 ms, total: 347 ms\n",
      "Wall time: 564 ms\n"
     ]
    }
   ],
   "source": [
    "%%time\n",
    "import dask.dataframe as dd\n",
    "df=dd.read_csv(file_filter2,usecols=['time',' co2_dry'],parse_dates=['time'],na_values=\" nan\",blocksize=64 * 1024 * 1024)\n",
    "df=df.dropna()\n",
    "a=df.groupby(pd.Grouper(key='time',freq='M'))[' co2_dry'].mean()"
   ]
  },
  {
   "cell_type": "code",
   "execution_count": 5,
   "id": "pressing-seeker",
   "metadata": {},
   "outputs": [
    {
     "data": {
      "text/html": [
       "<div>\n",
       "<style scoped>\n",
       "    .dataframe tbody tr th:only-of-type {\n",
       "        vertical-align: middle;\n",
       "    }\n",
       "\n",
       "    .dataframe tbody tr th {\n",
       "        vertical-align: top;\n",
       "    }\n",
       "\n",
       "    .dataframe thead th {\n",
       "        text-align: right;\n",
       "    }\n",
       "</style>\n",
       "<table border=\"1\" class=\"dataframe\">\n",
       "  <thead>\n",
       "    <tr style=\"text-align: right;\">\n",
       "      <th></th>\n",
       "      <th>time</th>\n",
       "      <th>co2_dry</th>\n",
       "    </tr>\n",
       "  </thead>\n",
       "  <tbody>\n",
       "    <tr>\n",
       "      <th>0</th>\n",
       "      <td>2012-01-01 00:00:00</td>\n",
       "      <td>394.741</td>\n",
       "    </tr>\n",
       "    <tr>\n",
       "      <th>1</th>\n",
       "      <td>2012-01-01 00:01:00</td>\n",
       "      <td>394.736</td>\n",
       "    </tr>\n",
       "    <tr>\n",
       "      <th>2</th>\n",
       "      <td>2012-01-01 00:02:00</td>\n",
       "      <td>394.747</td>\n",
       "    </tr>\n",
       "    <tr>\n",
       "      <th>5</th>\n",
       "      <td>2012-01-01 00:04:00</td>\n",
       "      <td>394.886</td>\n",
       "    </tr>\n",
       "    <tr>\n",
       "      <th>6</th>\n",
       "      <td>2012-01-01 00:05:00</td>\n",
       "      <td>394.805</td>\n",
       "    </tr>\n",
       "  </tbody>\n",
       "</table>\n",
       "</div>"
      ],
      "text/plain": [
       "                 time   co2_dry\n",
       "0 2012-01-01 00:00:00   394.741\n",
       "1 2012-01-01 00:01:00   394.736\n",
       "2 2012-01-01 00:02:00   394.747\n",
       "5 2012-01-01 00:04:00   394.886\n",
       "6 2012-01-01 00:05:00   394.805"
      ]
     },
     "execution_count": 5,
     "metadata": {},
     "output_type": "execute_result"
    }
   ],
   "source": [
    "df.head()"
   ]
  },
  {
   "cell_type": "code",
   "execution_count": 6,
   "id": "given-laser",
   "metadata": {},
   "outputs": [
    {
     "name": "stdout",
     "output_type": "stream",
     "text": [
      "CPU times: user 120 ms, sys: 4.57 ms, total: 125 ms\n",
      "Wall time: 20.4 s\n"
     ]
    },
    {
     "data": {
      "text/plain": [
       "['/home/ccg/mund/dev/python_class/AtmosphericPythonCourse/dask/output/monthly_means/dask_dataframe0.csv']"
      ]
     },
     "execution_count": 6,
     "metadata": {},
     "output_type": "execute_result"
    }
   ],
   "source": [
    "%%time\n",
    "a.to_csv(odir+'dask_dataframe*.csv')"
   ]
  },
  {
   "cell_type": "code",
   "execution_count": null,
   "id": "unauthorized-thomas",
   "metadata": {},
   "outputs": [],
   "source": [
    "client.shutdown()"
   ]
  },
  {
   "cell_type": "code",
   "execution_count": null,
   "id": "induced-vitamin",
   "metadata": {},
   "outputs": [],
   "source": []
  }
 ],
 "metadata": {
  "kernelspec": {
   "display_name": "Python 3",
   "language": "python",
   "name": "python3"
  },
  "language_info": {
   "codemirror_mode": {
    "name": "ipython",
    "version": 3
   },
   "file_extension": ".py",
   "mimetype": "text/x-python",
   "name": "python",
   "nbconvert_exporter": "python",
   "pygments_lexer": "ipython3",
   "version": "3.8.6"
  }
 },
 "nbformat": 4,
 "nbformat_minor": 5
}

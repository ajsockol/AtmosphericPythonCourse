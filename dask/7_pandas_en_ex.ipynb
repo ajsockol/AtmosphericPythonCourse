{
 "cells": [
  {
   "cell_type": "markdown",
   "id": "diverse-scheme",
   "metadata": {},
   "source": [
    "<h1>Extending the Pandas dataframe; Dask dataframe</h2>"
   ]
  },
  {
   "cell_type": "markdown",
   "id": "characteristic-resort",
   "metadata": {},
   "source": [
    "Pandas is a very powerful library for doing data analytics on tabular data like csv files."
   ]
  },
  {
   "cell_type": "code",
   "execution_count": null,
   "id": "gorgeous-improvement",
   "metadata": {},
   "outputs": [],
   "source": [
    "import pandas as pd\n",
    "import numpy as np\n",
    "import datetime as dt\n",
    "import glob\n",
    "import os\n",
    "\n",
    "#Hourly files of lbnl sgp insitu data, 2-3 lines per file\n",
    "sdir='/home/ccg/mund/tmp/lns/'\n",
    "odir='output/monthly_means/'\n",
    "file_filter=sdir+\"data1/*-1.csv\"    \n",
    "file_filter2=sdir+\"data2/*-1.csv\"\n",
    "out=[];\n",
    "\n",
    "files=glob.glob(file_filter)\n",
    "print(\"Processing \",len(files),\" files.\")"
   ]
  },
  {
   "cell_type": "code",
   "execution_count": null,
   "id": "becoming-iraqi",
   "metadata": {},
   "outputs": [],
   "source": [
    "! ls -lh $file_filter"
   ]
  },
  {
   "cell_type": "code",
   "execution_count": null,
   "id": "separated-upper",
   "metadata": {},
   "outputs": [],
   "source": [
    "! head /ccg/non-gmd/en/icp/insitu/2021-01-26/ghg40-b-cal-1.csv"
   ]
  },
  {
   "cell_type": "markdown",
   "id": "federal-opera",
   "metadata": {},
   "source": [
    "<h3>Using traditional Pandas dataframes</h3>Loop through a directory, concatenate dataframes and generate monthly averages"
   ]
  },
  {
   "cell_type": "code",
   "execution_count": null,
   "id": "demanding-pledge",
   "metadata": {},
   "outputs": [],
   "source": [
    "%%time\n",
    "n=0;frames=[]\n",
    "for f in files:\n",
    "    frames.append(pd.read_csv(f,usecols=['time',' co2_dry'],parse_dates=['time'],na_values=\" nan\"))\n",
    "    n+=1\n",
    "df=pd.concat(frames)\n",
    "df=df.dropna()\n",
    "a=df.groupby(pd.Grouper(key='time',freq='M'))[' co2_dry'].mean()\n",
    "a.to_csv(odir+'looped_pandas.csv')\n",
    "print(\"Rows:\",n)\n",
    "\n",
    "#Rows: 76\n",
    "#CPU times: user 52.7 s, sys: 6.86 s, total: 59.6 s\n",
    "#Wall time: 1min 12s"
   ]
  },
  {
   "cell_type": "code",
   "execution_count": null,
   "id": "thousand-senegal",
   "metadata": {},
   "outputs": [],
   "source": [
    "df.info"
   ]
  },
  {
   "cell_type": "markdown",
   "id": "sorted-nevada",
   "metadata": {},
   "source": [
    "<h3>Dask dataframe</h3> Extends Pandas to add parallel processing.  Internally, the dask dataframe is a series of Pandas dataframes and it delegates operations to them."
   ]
  },
  {
   "cell_type": "code",
   "execution_count": null,
   "id": "numerical-addiction",
   "metadata": {},
   "outputs": [],
   "source": [
    "#Import distributed and create a local 4 process client with restricted memory usage.  \n",
    "from dask.distributed import Client, progress\n",
    "client = Client(processes=True, threads_per_worker=1,\n",
    "                n_workers=4, memory_limit='1GB')\n",
    "client"
   ]
  },
  {
   "cell_type": "code",
   "execution_count": null,
   "id": "talented-nebraska",
   "metadata": {},
   "outputs": [],
   "source": [
    "%%time\n",
    "import dask.dataframe as dd\n",
    "df=dd.read_csv(file_filter2,usecols=['time',' co2_dry'],parse_dates=['time'],na_values=\" nan\",blocksize=64 * 1024 * 1024)\n",
    "df=df.dropna()\n",
    "a=df.groupby(pd.Grouper(key='time',freq='M'))[' co2_dry'].mean()"
   ]
  },
  {
   "cell_type": "code",
   "execution_count": null,
   "id": "attached-universal",
   "metadata": {},
   "outputs": [],
   "source": [
    "df.head()"
   ]
  },
  {
   "cell_type": "code",
   "execution_count": null,
   "id": "mechanical-diagram",
   "metadata": {},
   "outputs": [],
   "source": [
    "%%time\n",
    "a.to_csv(odir+'dask_dataframe*.csv')"
   ]
  },
  {
   "cell_type": "code",
   "execution_count": null,
   "id": "composite-porter",
   "metadata": {},
   "outputs": [],
   "source": [
    "client.shutdown()"
   ]
  },
  {
   "cell_type": "code",
   "execution_count": null,
   "id": "relevant-series",
   "metadata": {},
   "outputs": [],
   "source": []
  }
 ],
 "metadata": {
  "kernelspec": {
   "display_name": "Python 3",
   "language": "python",
   "name": "python3"
  },
  "language_info": {
   "codemirror_mode": {
    "name": "ipython",
    "version": 3
   },
   "file_extension": ".py",
   "mimetype": "text/x-python",
   "name": "python",
   "nbconvert_exporter": "python",
   "pygments_lexer": "ipython3",
   "version": "3.8.6"
  }
 },
 "nbformat": 4,
 "nbformat_minor": 5
}

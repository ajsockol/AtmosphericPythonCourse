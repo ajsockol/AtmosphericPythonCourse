{
 "cells": [
  {
   "cell_type": "markdown",
   "id": "separate-parks",
   "metadata": {},
   "source": [
    "<h1>Extending the Pandas dataframe; Dask dataframe</h2>"
   ]
  },
  {
   "cell_type": "markdown",
   "id": "motivated-pizza",
   "metadata": {},
   "source": [
    "Pandas is a very powerful library for doing data analytics on tabular data like csv files."
   ]
  },
  {
   "cell_type": "code",
   "execution_count": 1,
   "id": "distant-formation",
   "metadata": {},
   "outputs": [
    {
     "name": "stdout",
     "output_type": "stream",
     "text": [
      "Processing  76  files.\n"
     ]
    }
   ],
   "source": [
    "import pandas as pd\n",
    "import numpy as np\n",
    "import datetime as dt\n",
    "import glob\n",
    "import os\n",
    "\n",
    "#Hourly files of lbnl sgp insitu data, 2-3 lines per file\n",
    "sdir='/home/ccg/mund/tmp/lns/'\n",
    "odir='output/monthly_means/'\n",
    "file_filter=sdir+\"data1/*-1.csv\"    \n",
    "file_filter2=sdir+\"data2/*-1.csv\"\n",
    "out=[];\n",
    "\n",
    "files=glob.glob(file_filter)\n",
    "print(\"Processing \",len(files),\" files.\")"
   ]
  },
  {
   "cell_type": "code",
   "execution_count": 2,
   "id": "intended-alberta",
   "metadata": {
    "collapsed": true,
    "jupyter": {
     "outputs_hidden": true
    }
   },
   "outputs": [
    {
     "name": "stdout",
     "output_type": "stream",
     "text": [
      "-rwx------ 1 ccg7 data 111M Jan 26 04:59 /home/ccg/mund/tmp/lns/data1/ghg03-2012-1.csv\n",
      "-rwx------ 1 ccg7 data  29M Jan 26 04:59 /home/ccg/mund/tmp/lns/data1/ghg03-2013-1.csv\n",
      "-rwx------ 1 ccg7 data  28M Jan 26 04:59 /home/ccg/mund/tmp/lns/data1/ghg03-2014-1.csv\n",
      "-rwx------ 1 ccg7 data 105M Jan 26 04:59 /home/ccg/mund/tmp/lns/data1/ghg03-2016-1.csv\n",
      "-rwx------ 1 ccg7 data 9.1M Jan 26 05:00 /home/ccg/mund/tmp/lns/data1/ghg03-cal-1.csv\n",
      "-rwx------ 1 ccg7 data 114M Jan 26 05:00 /home/ccg/mund/tmp/lns/data1/ghg06-2012-1.csv\n",
      "-rwx------ 1 ccg7 data 117M Jan 26 05:00 /home/ccg/mund/tmp/lns/data1/ghg06-2013-1.csv\n",
      "-rwx------ 1 ccg7 data  97M Jan 26 05:01 /home/ccg/mund/tmp/lns/data1/ghg06-2015-1.csv\n",
      "-rwx------ 1 ccg7 data 118M Jan 26 05:01 /home/ccg/mund/tmp/lns/data1/ghg06-2017-1.csv\n",
      "-rwx------ 1 ccg7 data 120M Jan 26 05:01 /home/ccg/mund/tmp/lns/data1/ghg06-2018-1.csv\n",
      "-rwx------ 1 ccg7 data 149M Jan 26 05:02 /home/ccg/mund/tmp/lns/data1/ghg06-2019-1.csv\n",
      "-rwx------ 1 ccg7 data 138M Jan 26 05:02 /home/ccg/mund/tmp/lns/data1/ghg06-2020-1.csv\n",
      "-rwx------ 1 ccg7 data  11M Jan 26 05:02 /home/ccg/mund/tmp/lns/data1/ghg06-2021-1.csv\n",
      "-rwx------ 1 ccg7 data  25M Jan 26 05:02 /home/ccg/mund/tmp/lns/data1/ghg06-cal-1.csv\n",
      "-rwx------ 1 ccg7 data 111M Jan 26 05:03 /home/ccg/mund/tmp/lns/data1/ghg09-2012-1.csv\n",
      "-rwx------ 1 ccg7 data 106M Jan 26 05:03 /home/ccg/mund/tmp/lns/data1/ghg09-2014-1.csv\n",
      "-rwx------ 1 ccg7 data 146M Jan 26 05:03 /home/ccg/mund/tmp/lns/data1/ghg09-2015-1.csv\n",
      "-rwx------ 1 ccg7 data 3.9K Jan 26 05:03 /home/ccg/mund/tmp/lns/data1/ghg09-2017-1.csv\n",
      "-rwx------ 1 ccg7 data 127M Jan 26 05:04 /home/ccg/mund/tmp/lns/data1/ghg09-2018-1.csv\n",
      "-rwx------ 1 ccg7 data 117M Jan 26 05:04 /home/ccg/mund/tmp/lns/data1/ghg09-2019-1.csv\n",
      "-rwx------ 1 ccg7 data 151M Jan 26 05:04 /home/ccg/mund/tmp/lns/data1/ghg09-2020-1.csv\n",
      "-rwx------ 1 ccg7 data  11M Jan 26 05:04 /home/ccg/mund/tmp/lns/data1/ghg09-2021-1.csv\n",
      "-rwx------ 1 ccg7 data  21M Jan 26 05:04 /home/ccg/mund/tmp/lns/data1/ghg09-cal-1.csv\n",
      "-rwx------ 1 ccg7 data 116M Jan 26 05:05 /home/ccg/mund/tmp/lns/data1/ghg10-2012-1.csv\n",
      "-rwx------ 1 ccg7 data 130M Jan 26 05:05 /home/ccg/mund/tmp/lns/data1/ghg10-2013-1.csv\n",
      "-rwx------ 1 ccg7 data  62K Jan 26 05:05 /home/ccg/mund/tmp/lns/data1/ghg10-2016-1.csv\n",
      "-rwx------ 1 ccg7 data 251K Jan 26 05:05 /home/ccg/mund/tmp/lns/data1/ghg10-2017-1.csv\n",
      "-rwx------ 1 ccg7 data 8.3M Jan 26 05:05 /home/ccg/mund/tmp/lns/data1/ghg10-cal-1.csv\n",
      "-rwx------ 1 ccg7 data  17M Jan 26 05:06 /home/ccg/mund/tmp/lns/data1/ghg40-2012-1.csv\n",
      "-rwx------ 1 ccg7 data 118M Jan 26 05:06 /home/ccg/mund/tmp/lns/data1/ghg40-2013-1.csv\n",
      "-rwx------ 1 ccg7 data 106M Jan 26 05:06 /home/ccg/mund/tmp/lns/data1/ghg40-2014-1.csv\n",
      "-rwx------ 1 ccg7 data 137M Jan 26 05:06 /home/ccg/mund/tmp/lns/data1/ghg40-2015-1.csv\n",
      "-rwx------ 1 ccg7 data 136M Jan 26 05:07 /home/ccg/mund/tmp/lns/data1/ghg40-2016-1.csv\n",
      "-rwx------ 1 ccg7 data 145M Jan 26 05:07 /home/ccg/mund/tmp/lns/data1/ghg40-2017-1.csv\n",
      "-rwx------ 1 ccg7 data 140M Jan 26 05:07 /home/ccg/mund/tmp/lns/data1/ghg40-2018-1.csv\n",
      "-rwx------ 1 ccg7 data 138M Jan 26 05:07 /home/ccg/mund/tmp/lns/data1/ghg40-2019-1.csv\n",
      "-rwx------ 1 ccg7 data 142M Jan 26 05:08 /home/ccg/mund/tmp/lns/data1/ghg40-2020-1.csv\n",
      "-rwx------ 1 ccg7 data 8.8M Jan 26 05:08 /home/ccg/mund/tmp/lns/data1/ghg40-2021-1.csv\n",
      "-rwx------ 1 ccg7 data 104M Jan 26 05:08 /home/ccg/mund/tmp/lns/data1/ghg40-b-2016-1.csv\n",
      "-rwx------ 1 ccg7 data 155M Jan 26 05:08 /home/ccg/mund/tmp/lns/data1/ghg40-b-2017-1.csv\n",
      "-rwx------ 1 ccg7 data 155M Jan 26 05:09 /home/ccg/mund/tmp/lns/data1/ghg40-b-2018-1.csv\n",
      "-rwx------ 1 ccg7 data 157M Jan 26 05:09 /home/ccg/mund/tmp/lns/data1/ghg40-b-2019-1.csv\n",
      "-rwx------ 1 ccg7 data 153M Jan 26 05:09 /home/ccg/mund/tmp/lns/data1/ghg40-b-2020-1.csv\n",
      "-rwx------ 1 ccg7 data  11M Jan 26 05:09 /home/ccg/mund/tmp/lns/data1/ghg40-b-2021-1.csv\n",
      "-rwx------ 1 ccg7 data 8.1M Jan 26 05:09 /home/ccg/mund/tmp/lns/data1/ghg40-b-cal-1.csv\n",
      "-rwx------ 1 ccg7 data  18M Jan 26 05:10 /home/ccg/mund/tmp/lns/data1/ghg41-2013-1.csv\n",
      "-rwx------ 1 ccg7 data 6.9M Jan 26 05:10 /home/ccg/mund/tmp/lns/data1/ghg41-cal-1.csv\n",
      "-rwx------ 1 ccg7 data 108M Jan 26 05:11 /home/ccg/mund/tmp/lns/data1/ghg42-2014-1.csv\n",
      "-rwx------ 1 ccg7 data 108M Jan 26 05:11 /home/ccg/mund/tmp/lns/data1/ghg42-2015-1.csv\n",
      "-rwx------ 1 ccg7 data 104M Jan 26 05:11 /home/ccg/mund/tmp/lns/data1/ghg42-2017-1.csv\n",
      "-rwx------ 1 ccg7 data 125M Jan 26 05:11 /home/ccg/mund/tmp/lns/data1/ghg42-2018-1.csv\n",
      "-rwx------ 1 ccg7 data  97M Jan 26 05:12 /home/ccg/mund/tmp/lns/data1/ghg42-2019-1.csv\n",
      "-rwx------ 1 ccg7 data  16M Jan 26 05:12 /home/ccg/mund/tmp/lns/data1/ghg42-cal-1.csv\n",
      "-rwx------ 1 ccg7 data  18M Jan 26 05:12 /home/ccg/mund/tmp/lns/data1/ghg43-2014-1.csv\n",
      "-rwx------ 1 ccg7 data 7.1M Jan 26 05:12 /home/ccg/mund/tmp/lns/data1/ghg43-2015-1.csv\n",
      "-rwx------ 1 ccg7 data 100M Jan 26 05:12 /home/ccg/mund/tmp/lns/data1/ghg43-2017-1.csv\n",
      "-rwx------ 1 ccg7 data 115M Jan 26 05:12 /home/ccg/mund/tmp/lns/data1/ghg43-2018-1.csv\n",
      "-rwx------ 1 ccg7 data  98M Jan 26 05:13 /home/ccg/mund/tmp/lns/data1/ghg43-2019-1.csv\n",
      "-rwx------ 1 ccg7 data  13M Jan 26 05:13 /home/ccg/mund/tmp/lns/data1/ghg43-2020-1.csv\n",
      "-rwx------ 1 ccg7 data 8.8M Jan 26 05:13 /home/ccg/mund/tmp/lns/data1/ghg43-cal-1.csv\n",
      "-rwx------ 1 ccg7 data  37K Jan 26 05:13 /home/ccg/mund/tmp/lns/data1/tmpst-2013-1.csv\n",
      "-rwx------ 1 ccg7 data 120M Jan 26 05:13 /home/ccg/mund/tmp/lns/data1/tmpst-2015-1.csv\n",
      "-rwx------ 1 ccg7 data 114M Jan 26 05:13 /home/ccg/mund/tmp/lns/data1/tmpst-2016-1.csv\n",
      "-rwx------ 1 ccg7 data 157M Jan 26 05:14 /home/ccg/mund/tmp/lns/data1/tmpst-2017-1.csv\n",
      "-rwx------ 1 ccg7 data 153M Jan 26 05:14 /home/ccg/mund/tmp/lns/data1/tmpst-2018-1.csv\n",
      "-rwx------ 1 ccg7 data 138M Jan 26 05:14 /home/ccg/mund/tmp/lns/data1/tmpst-2019-1.csv\n",
      "-rwx------ 1 ccg7 data 154M Jan 26 05:15 /home/ccg/mund/tmp/lns/data1/tmpst-2020-1.csv\n",
      "-rwx------ 1 ccg7 data  11M Jan 26 05:15 /home/ccg/mund/tmp/lns/data1/tmpst-2021-1.csv\n",
      "-rwx------ 1 ccg7 data  23M Jan 26 05:15 /home/ccg/mund/tmp/lns/data1/tmpst-cal-1.csv\n",
      "-rwx------ 1 ccg7 data 132M Jan 26 05:15 /home/ccg/mund/tmp/lns/data1/trstd-2015-1.csv\n",
      "-rwx------ 1 ccg7 data 139M Jan 26 05:16 /home/ccg/mund/tmp/lns/data1/trstd-2016-1.csv\n",
      "-rwx------ 1 ccg7 data 146M Jan 26 05:16 /home/ccg/mund/tmp/lns/data1/trstd-2017-1.csv\n",
      "-rwx------ 1 ccg7 data 148M Jan 26 05:16 /home/ccg/mund/tmp/lns/data1/trstd-2018-1.csv\n",
      "-rwx------ 1 ccg7 data 147M Jan 26 05:17 /home/ccg/mund/tmp/lns/data1/trstd-2019-1.csv\n",
      "-rwx------ 1 ccg7 data 147M Jan 26 05:17 /home/ccg/mund/tmp/lns/data1/trstd-2020-1.csv\n",
      "-rwx------ 1 ccg7 data 9.8M Jan 26 05:17 /home/ccg/mund/tmp/lns/data1/trstd-2021-1.csv\n"
     ]
    }
   ],
   "source": [
    "! ls -lh $file_filter"
   ]
  },
  {
   "cell_type": "code",
   "execution_count": 3,
   "id": "stainless-possession",
   "metadata": {
    "collapsed": true,
    "jupyter": {
     "outputs_hidden": true
    }
   },
   "outputs": [
    {
     "name": "stdout",
     "output_type": "stream",
     "text": [
      "time, type, sample, standard, port, inlet_press, sample_press, sample_temp, ambient_temp, cavity_temp, cavity_press, h2o, co2_Ctank, co2_C, co2_wet, co2_dry, co2_stdev, co2_N, co2_target_error, ch4_Ctank, ch4_C, ch4_wet, ch4_dry, ch4_stdev, ch4_N, ch4_target_error, co_Ctank, co_C, co_wet, co_dry, co_stdev, co_N, co_target_error\n",
      "2016-03-23 06:07, std, JB03880-A, JB03880-A, 4, 756.8992, 589.9939, 37.9452, 20.6386, 44.9998, 140.1239, 0.1058, 397.2400, nan, nan, nan, 3.4692, 0.0, nan, 1863.5699, nan, nan, nan, 3.1292, 0.0, nan, 99.1600, nan, nan, nan, nan, 0.0, nan\n",
      "2016-03-23 06:08, std, JB03880-A, JB03880-A, 4, 788.9189, 600.0610, 37.9212, 20.9211, 44.9997, 140.0058, 0.0885, 397.2400, nan, nan, nan, 0.0416, 0.0, nan, 1863.5699, nan, nan, nan, 0.1778, 0.0, nan, 99.1600, nan, nan, nan, nan, 0.0, nan\n",
      "2016-03-23 06:09, std, JB03880-A, JB03880-A, 4, 788.6281, 600.0565, 37.9143, 21.1759, 44.9990, 140.0018, 0.0883, 397.2400, nan, nan, nan, 0.0411, 0.0, nan, 1863.5699, nan, nan, nan, 0.2112, 0.0, nan, 99.1600, nan, nan, nan, nan, 0.0, nan\n",
      "2016-03-23 06:10, std, JB03880-A, JB03880-A, 4, 788.4905, 600.0580, 37.9166, 21.2736, 44.9991, 140.0007, 0.0882, 397.2400, nan, nan, nan, 0.0235, 0.0, nan, 1863.5699, nan, nan, nan, 0.1539, 0.0, nan, 99.1600, nan, nan, nan, nan, 0.0, nan\n",
      "2016-03-23 06:11, std, JB03880-A, JB03880-A, 4, 788.3857, 600.0545, 37.8993, 21.2663, 44.9997, 140.0008, 0.0886, 397.2400, nan, nan, nan, 0.0247, 0.0, nan, 1863.5699, nan, nan, nan, 0.1794, 0.0, nan, 99.1600, nan, nan, nan, nan, 0.0, nan\n",
      "2016-03-23 06:12, std, JB03880-A, JB03880-A, 4, 788.3530, 600.0565, 37.8823, 21.4407, 44.9998, 139.9955, 0.0882, 397.2400, nan, nan, nan, 0.0228, 0.0, nan, 1863.5699, nan, nan, nan, 0.1884, 0.0, nan, 99.1600, nan, nan, nan, nan, 0.0, nan\n",
      "2016-03-23 06:13, std, JB03880-A, JB03880-A, 4, 788.2626, 600.0397, 37.8670, 21.5826, 44.9995, 139.9998, 0.0883, 397.2400, nan, nan, nan, 0.0265, 0.0, nan, 1863.5699, nan, nan, nan, 0.2066, 0.0, nan, 99.1600, nan, nan, nan, nan, 0.0, nan\n",
      "2016-03-23 06:14, std, JB03880-A, JB03880-A, 4, 788.2809, 600.0501, 37.8536, 21.5235, 44.9999, 140.0000, 0.0887, 397.2400, nan, nan, nan, 0.0236, 0.0, nan, 1863.5699, nan, nan, nan, 0.2371, 0.0, nan, 99.1600, nan, nan, nan, nan, 0.0, nan\n",
      "2016-03-23 06:15, std, JB03880-A, JB03880-A, 4, 788.2862, 600.0473, 37.8662, 21.5254, 45.0001, 139.9946, 0.0886, 397.2400, nan, nan, nan, 0.0247, 0.0, nan, 1863.5699, nan, nan, nan, 0.2155, 0.0, nan, 99.1600, nan, nan, nan, nan, 0.0, nan\n"
     ]
    }
   ],
   "source": [
    "! head /ccg/non-gmd/en/icp/insitu/2021-01-26/ghg40-b-cal-1.csv"
   ]
  },
  {
   "cell_type": "markdown",
   "id": "generous-honduras",
   "metadata": {},
   "source": [
    "<h3>Using traditional Pandas dataframes</h3>Loop through a directory, concatenate dataframes and generate monthly averages"
   ]
  },
  {
   "cell_type": "code",
   "execution_count": null,
   "id": "senior-talent",
   "metadata": {},
   "outputs": [],
   "source": [
    "%%time\n",
    "n=0;frames=[]\n",
    "for f in files:\n",
    "    frames.append(pd.read_csv(f,usecols=['time',' co2_dry'],parse_dates=['time'],na_values=\" nan\"))\n",
    "    n+=1\n",
    "df=pd.concat(frames)\n",
    "df=df.dropna()\n",
    "a=df.groupby(pd.Grouper(key='time',freq='M'))[' co2_dry'].mean()\n",
    "a.to_csv(odir+'looped_pandas.csv')\n",
    "print(\"Rows:\",n)\n",
    "\n",
    "#Rows: 76\n",
    "#CPU times: user 52.7 s, sys: 6.86 s, total: 59.6 s\n",
    "#Wall time: 1min 12s"
   ]
  },
  {
   "cell_type": "code",
   "execution_count": null,
   "id": "latest-habitat",
   "metadata": {},
   "outputs": [],
   "source": [
    "df.info"
   ]
  },
  {
   "cell_type": "markdown",
   "id": "architectural-suffering",
   "metadata": {},
   "source": [
    "<h3>Dask dataframe</h3> Extends Pandas to add parallel processing.  Internally, the dask dataframe is a series of Pandas dataframes and it delegates operations to them."
   ]
  },
  {
   "cell_type": "code",
   "execution_count": 4,
   "id": "individual-thumb",
   "metadata": {},
   "outputs": [
    {
     "data": {
      "text/html": [
       "<table style=\"border: 2px solid white;\">\n",
       "<tr>\n",
       "<td style=\"vertical-align: top; border: 0px solid white\">\n",
       "<h3 style=\"text-align: left;\">Client</h3>\n",
       "<ul style=\"text-align: left; list-style: none; margin: 0; padding: 0;\">\n",
       "  <li><b>Scheduler: </b>tcp://127.0.0.1:46295</li>\n",
       "  <li><b>Dashboard: </b><a href='http://127.0.0.1:8787/status' target='_blank'>http://127.0.0.1:8787/status</a></li>\n",
       "</ul>\n",
       "</td>\n",
       "<td style=\"vertical-align: top; border: 0px solid white\">\n",
       "<h3 style=\"text-align: left;\">Cluster</h3>\n",
       "<ul style=\"text-align: left; list-style:none; margin: 0; padding: 0;\">\n",
       "  <li><b>Workers: </b>4</li>\n",
       "  <li><b>Cores: </b>4</li>\n",
       "  <li><b>Memory: </b>4.00 GB</li>\n",
       "</ul>\n",
       "</td>\n",
       "</tr>\n",
       "</table>"
      ],
      "text/plain": [
       "<Client: 'tcp://127.0.0.1:46295' processes=4 threads=4, memory=4.00 GB>"
      ]
     },
     "execution_count": 4,
     "metadata": {},
     "output_type": "execute_result"
    }
   ],
   "source": [
    "#Import distributed and create a local 4 process client with restricted memory usage.  \n",
    "from dask.distributed import Client, progress\n",
    "client = Client(processes=True, threads_per_worker=1,\n",
    "                n_workers=4, memory_limit='1GB')\n",
    "client"
   ]
  },
  {
   "cell_type": "code",
   "execution_count": 5,
   "id": "future-lottery",
   "metadata": {},
   "outputs": [
    {
     "name": "stdout",
     "output_type": "stream",
     "text": [
      "CPU times: user 377 ms, sys: 113 ms, total: 490 ms\n",
      "Wall time: 1.62 s\n"
     ]
    }
   ],
   "source": [
    "%%time\n",
    "import dask.dataframe as dd\n",
    "df=dd.read_csv(file_filter2,usecols=['time',' co2_dry'],parse_dates=['time'],na_values=\" nan\",blocksize=64 * 1024 * 1024)\n",
    "df=df.dropna()\n",
    "a=df.groupby(pd.Grouper(key='time',freq='M'))[' co2_dry'].mean()"
   ]
  },
  {
   "cell_type": "code",
   "execution_count": 6,
   "id": "classified-pixel",
   "metadata": {},
   "outputs": [
    {
     "data": {
      "text/html": [
       "<div>\n",
       "<style scoped>\n",
       "    .dataframe tbody tr th:only-of-type {\n",
       "        vertical-align: middle;\n",
       "    }\n",
       "\n",
       "    .dataframe tbody tr th {\n",
       "        vertical-align: top;\n",
       "    }\n",
       "\n",
       "    .dataframe thead th {\n",
       "        text-align: right;\n",
       "    }\n",
       "</style>\n",
       "<table border=\"1\" class=\"dataframe\">\n",
       "  <thead>\n",
       "    <tr style=\"text-align: right;\">\n",
       "      <th></th>\n",
       "      <th>time</th>\n",
       "      <th>co2_dry</th>\n",
       "    </tr>\n",
       "  </thead>\n",
       "  <tbody>\n",
       "    <tr>\n",
       "      <th>0</th>\n",
       "      <td>2012-01-01 00:00:00</td>\n",
       "      <td>394.741</td>\n",
       "    </tr>\n",
       "    <tr>\n",
       "      <th>1</th>\n",
       "      <td>2012-01-01 00:01:00</td>\n",
       "      <td>394.736</td>\n",
       "    </tr>\n",
       "    <tr>\n",
       "      <th>2</th>\n",
       "      <td>2012-01-01 00:02:00</td>\n",
       "      <td>394.747</td>\n",
       "    </tr>\n",
       "    <tr>\n",
       "      <th>5</th>\n",
       "      <td>2012-01-01 00:04:00</td>\n",
       "      <td>394.886</td>\n",
       "    </tr>\n",
       "    <tr>\n",
       "      <th>6</th>\n",
       "      <td>2012-01-01 00:05:00</td>\n",
       "      <td>394.805</td>\n",
       "    </tr>\n",
       "  </tbody>\n",
       "</table>\n",
       "</div>"
      ],
      "text/plain": [
       "                 time   co2_dry\n",
       "0 2012-01-01 00:00:00   394.741\n",
       "1 2012-01-01 00:01:00   394.736\n",
       "2 2012-01-01 00:02:00   394.747\n",
       "5 2012-01-01 00:04:00   394.886\n",
       "6 2012-01-01 00:05:00   394.805"
      ]
     },
     "execution_count": 6,
     "metadata": {},
     "output_type": "execute_result"
    }
   ],
   "source": [
    "df.head()"
   ]
  },
  {
   "cell_type": "code",
   "execution_count": 7,
   "id": "vocational-surgeon",
   "metadata": {},
   "outputs": [
    {
     "name": "stdout",
     "output_type": "stream",
     "text": [
      "CPU times: user 4.02 s, sys: 429 ms, total: 4.45 s\n",
      "Wall time: 34.3 s\n"
     ]
    },
    {
     "data": {
      "text/plain": [
       "['/home/ccg/mund/dev/python_class/AtmosphericPythonCourse/dask/output/monthly_means/dask_dataframe0.csv']"
      ]
     },
     "execution_count": 7,
     "metadata": {},
     "output_type": "execute_result"
    }
   ],
   "source": [
    "%%time\n",
    "a.to_csv(odir+'dask_dataframe*.csv')"
   ]
  },
  {
   "cell_type": "code",
   "execution_count": 8,
   "id": "accredited-processing",
   "metadata": {},
   "outputs": [
    {
     "name": "stderr",
     "output_type": "stream",
     "text": [
      "distributed.client - ERROR - Failed to reconnect to scheduler after 10.00 seconds, closing client\n",
      "_GatheringFuture exception was never retrieved\n",
      "future: <_GatheringFuture finished exception=CancelledError()>\n",
      "asyncio.exceptions.CancelledError\n"
     ]
    }
   ],
   "source": [
    "client.shutdown()"
   ]
  },
  {
   "cell_type": "code",
   "execution_count": null,
   "id": "controversial-evening",
   "metadata": {},
   "outputs": [],
   "source": []
  }
 ],
 "metadata": {
  "kernelspec": {
   "display_name": "Python 3",
   "language": "python",
   "name": "python3"
  },
  "language_info": {
   "codemirror_mode": {
    "name": "ipython",
    "version": 3
   },
   "file_extension": ".py",
   "mimetype": "text/x-python",
   "name": "python",
   "nbconvert_exporter": "python",
   "pygments_lexer": "ipython3",
   "version": "3.8.6"
  }
 },
 "nbformat": 4,
 "nbformat_minor": 5
}

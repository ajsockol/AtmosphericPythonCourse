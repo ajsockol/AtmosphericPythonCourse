{
 "cells": [
  {
   "cell_type": "markdown",
   "id": "foreign-stations",
   "metadata": {},
   "source": [
    "<h1>Parallel Programming in Python: An introduction to the Dask project</h1>"
   ]
  },
  {
   "cell_type": "markdown",
   "id": "hollow-copper",
   "metadata": {},
   "source": [
    "<h2>Course Outline</h2>\n",
    "<ul><li><h3>General Algorithm Effeciency</h3></li>\n",
    "    <li><h3>Why Dask and when to use</h3></li>\n",
    "    <li><h3>How to scale workloads using various worker clusters</h3>\n",
    "    <li><h3>Using the delayed() function</h3></li>\n",
    "    <li><h3>Demonstration of parallelizing a batch script</h3></li>\n",
    "    <li><h3>Blocked algorithms & how Dask Array tackles huge data</h3></li>\n",
    "    <li><h3>Demonstration of Dask Dataframe (Pandas)</h3></li>\n",
    "    <li><h3>Demonstration of Xarray+Dask on an SSHCluster</h3></li>\n",
    "    <li><h3>Demonstration of Xarray+Dask on Orion HPC</h3></li>\n",
    "</ul>\n",
    " \n",
    "    \n",
    "    "
   ]
  }
 ],
 "metadata": {
  "kernelspec": {
   "display_name": "Python 3",
   "language": "python",
   "name": "python3"
  },
  "language_info": {
   "codemirror_mode": {
    "name": "ipython",
    "version": 3
   },
   "file_extension": ".py",
   "mimetype": "text/x-python",
   "name": "python",
   "nbconvert_exporter": "python",
   "pygments_lexer": "ipython3",
   "version": "3.8.6"
  }
 },
 "nbformat": 4,
 "nbformat_minor": 5
}

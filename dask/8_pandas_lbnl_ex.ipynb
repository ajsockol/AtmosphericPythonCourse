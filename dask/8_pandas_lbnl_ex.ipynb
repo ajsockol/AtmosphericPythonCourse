{
 "cells": [
  {
   "cell_type": "markdown",
   "id": "sapphire-andrew",
   "metadata": {},
   "source": [
    "<h1>When not to use Dask Dataframe</h1>"
   ]
  },
  {
   "cell_type": "markdown",
   "id": "violent-deposit",
   "metadata": {},
   "source": [
    "Loading many or small, or especially, many small files is best done directly in Pandas. The extra complexity and overhead of parallelizing operations is not always worth it."
   ]
  },
  {
   "cell_type": "code",
   "execution_count": null,
   "id": "arranged-poland",
   "metadata": {},
   "outputs": [],
   "source": [
    "import pandas as pd\n",
    "import numpy as np\n",
    "import datetime as dt\n",
    "import glob\n",
    "import os\n",
    "\n",
    "#Hourly files of lbnl sgp insitu data, 2-3 lines per file\n",
    "sdir='/ccg/non-gmd/lbnl/icp/insitu/2020-10-15/'\n",
    "odir='output/monthly_means/'\n",
    "file_filter=sdir+\"SGP_PGSISO*2020*csv\"\n",
    "out=[];\n",
    "\n",
    "files=glob.glob(file_filter)\n",
    "print(\"Processing \",len(files),\" files.\")"
   ]
  },
  {
   "cell_type": "code",
   "execution_count": null,
   "id": "defensive-supervision",
   "metadata": {},
   "outputs": [],
   "source": [
    "! ls -lh $file_filter"
   ]
  },
  {
   "cell_type": "code",
   "execution_count": null,
   "id": "heated-privilege",
   "metadata": {},
   "outputs": [],
   "source": [
    "! cat /ccg/non-gmd/lbnl/icp/insitu/2020-10-15/SGP_PGSISO_b1_20200101_0000.csv"
   ]
  },
  {
   "cell_type": "markdown",
   "id": "amber-michigan",
   "metadata": {},
   "source": [
    "<h3>Using traditional Pandas dataframes</h3>Loop through a directory, concatenate dataframes and generate monthly averages"
   ]
  },
  {
   "cell_type": "code",
   "execution_count": null,
   "id": "strong-breathing",
   "metadata": {},
   "outputs": [],
   "source": [
    "%%time\n",
    "n=0;frames=[]\n",
    "for f in files:\n",
    "    frames.append(pd.read_csv(f,sep=',',comment='#',usecols=['TIMESTAMP','CO2_AVG_CORR'],parse_dates=['TIMESTAMP']))\n",
    "    n+=1\n",
    "df=pd.concat(frames)\n",
    "a=df.groupby(pd.Grouper(key='TIMESTAMP',freq='M'))['CO2_AVG_CORR'].mean()\n",
    "a.to_csv(odir+'looped_pandas.csv')\n",
    "print(\"Rows:\",n)\n",
    "    "
   ]
  },
  {
   "cell_type": "markdown",
   "id": "incomplete-console",
   "metadata": {},
   "source": [
    "<h3>Dask dataframe</h3> Extends Pandas to add parallel processing.  Internally, the dask dataframe is a series of Pandas dataframes and it delegates operations to them."
   ]
  },
  {
   "cell_type": "code",
   "execution_count": null,
   "id": "negative-saint",
   "metadata": {},
   "outputs": [],
   "source": [
    "#Import distributed and create a local 4 process client with restricted memory usage.  \n",
    "from dask.distributed import Client, progress\n",
    "client = Client(processes=True, threads_per_worker=1,\n",
    "                n_workers=4, memory_limit='1GB')\n",
    "client"
   ]
  },
  {
   "cell_type": "code",
   "execution_count": null,
   "id": "sensitive-rochester",
   "metadata": {},
   "outputs": [],
   "source": [
    "%%time\n",
    "import dask.dataframe as dd\n",
    "df=dd.read_csv(file_filter,sep=',',comment='#',usecols=['TIMESTAMP','CO2_AVG_CORR'],parse_dates=['TIMESTAMP'])"
   ]
  },
  {
   "cell_type": "code",
   "execution_count": null,
   "id": "provincial-transparency",
   "metadata": {},
   "outputs": [],
   "source": [
    "df.head()"
   ]
  },
  {
   "cell_type": "code",
   "execution_count": null,
   "id": "mechanical-praise",
   "metadata": {},
   "outputs": [],
   "source": [
    "a=df.groupby(pd.Grouper(key='TIMESTAMP',freq='M'))['CO2_AVG_CORR'].mean()"
   ]
  },
  {
   "cell_type": "code",
   "execution_count": null,
   "id": "alive-jerusalem",
   "metadata": {},
   "outputs": [],
   "source": [
    "%%time\n",
    "a.to_csv(odir+'dask_dataframe*.csv')"
   ]
  },
  {
   "cell_type": "code",
   "execution_count": null,
   "id": "adapted-feeding",
   "metadata": {},
   "outputs": [],
   "source": [
    "client.shutdown()"
   ]
  },
  {
   "cell_type": "markdown",
   "id": "according-owner",
   "metadata": {},
   "source": [
    "<h3>Dask has overhead</h3>Pandas is very optimized and generally faster when dealing with many/small files that easily fit into memory."
   ]
  }
 ],
 "metadata": {
  "kernelspec": {
   "display_name": "Python 3",
   "language": "python",
   "name": "python3"
  },
  "language_info": {
   "codemirror_mode": {
    "name": "ipython",
    "version": 3
   },
   "file_extension": ".py",
   "mimetype": "text/x-python",
   "name": "python",
   "nbconvert_exporter": "python",
   "pygments_lexer": "ipython3",
   "version": "3.8.6"
  }
 },
 "nbformat": 4,
 "nbformat_minor": 5
}

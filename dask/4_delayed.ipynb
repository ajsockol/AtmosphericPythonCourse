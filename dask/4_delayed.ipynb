{
 "cells": [
  {
   "cell_type": "markdown",
   "id": "suspended-mouse",
   "metadata": {},
   "source": [
    "<h1>Dask Delayed - Lazy execution scheduler</h1>"
   ]
  },
  {
   "cell_type": "markdown",
   "id": "classified-tomorrow",
   "metadata": {},
   "source": [
    "Set up session by importing from dask.distributed and dask delayed"
   ]
  },
  {
   "cell_type": "code",
   "execution_count": null,
   "id": "brilliant-deadline",
   "metadata": {},
   "outputs": [],
   "source": [
    "import sys\n",
    "import os\n",
    "from dask.distributed import Client\n",
    "from dask import delayed"
   ]
  },
  {
   "cell_type": "markdown",
   "id": "provincial-champagne",
   "metadata": {},
   "source": [
    "Create a cluster, or use default multi-threaded cluster"
   ]
  },
  {
   "cell_type": "code",
   "execution_count": null,
   "id": "sensitive-registration",
   "metadata": {},
   "outputs": [],
   "source": [
    "client = Client() #This creates a local (pc) multi-process cluster"
   ]
  },
  {
   "cell_type": "code",
   "execution_count": null,
   "id": "blank-clerk",
   "metadata": {},
   "outputs": [],
   "source": [
    "client"
   ]
  },
  {
   "cell_type": "markdown",
   "id": "turkish-resistance",
   "metadata": {},
   "source": [
    "Show dashboard address (default is localhost:8787)"
   ]
  },
  {
   "cell_type": "code",
   "execution_count": null,
   "id": "expected-fusion",
   "metadata": {},
   "outputs": [],
   "source": [
    "client.scheduler_info()['services']"
   ]
  },
  {
   "cell_type": "markdown",
   "id": "attended-prisoner",
   "metadata": {
    "jupyter": {
     "source_hidden": true
    }
   },
   "source": [
    "Getting to the dashboard can be a little tricky due to network restrictions.  \n",
    "The easiest way is run code and dashboard on your laptop.  \n",
    "If running code on GML server, ssh into the same server in a new terminal window\n",
    "and create a local redirect:\n",
    "\n",
    "    ssh nimbus3 -L 8787:localhost:8787\n",
    "    \n",
    "and then open a browser window and go to this address:\n",
    "\n",
    "    http://localhost:8787"
   ]
  },
  {
   "cell_type": "markdown",
   "id": "approved-crime",
   "metadata": {},
   "source": [
    "Create some functions that simulate work"
   ]
  },
  {
   "cell_type": "code",
   "execution_count": null,
   "id": "neither-phrase",
   "metadata": {},
   "outputs": [],
   "source": [
    "from time import sleep\n",
    "def inc(x):\n",
    "    sleep(1)\n",
    "    return x + 1\n",
    "\n",
    "def add(x, y):\n",
    "    sleep(1)\n",
    "    return x + y"
   ]
  },
  {
   "cell_type": "markdown",
   "id": "loving-prevention",
   "metadata": {},
   "source": [
    "Run"
   ]
  },
  {
   "cell_type": "code",
   "execution_count": null,
   "id": "geological-great",
   "metadata": {},
   "outputs": [],
   "source": [
    "%%time\n",
    "# This takes three seconds to run because we call each\n",
    "# function sequentially, one after the other\n",
    "\n",
    "x = inc(1)\n",
    "y = inc(2)\n",
    "z = add(x, y)"
   ]
  },
  {
   "cell_type": "markdown",
   "id": "informed-classroom",
   "metadata": {},
   "source": [
    "Parallelize by using delayed syntax"
   ]
  },
  {
   "cell_type": "code",
   "execution_count": null,
   "id": "editorial-seafood",
   "metadata": {},
   "outputs": [],
   "source": [
    "%%time\n",
    "# This runs immediately, all it does is build a graph\n",
    "\n",
    "x = delayed(inc)(1)\n",
    "y = delayed(inc)(2)\n",
    "z = delayed(add)(x, y)"
   ]
  },
  {
   "cell_type": "code",
   "execution_count": null,
   "id": "objective-roman",
   "metadata": {},
   "outputs": [],
   "source": [
    "z.visualize()"
   ]
  },
  {
   "cell_type": "markdown",
   "id": "sustainable-mounting",
   "metadata": {},
   "source": [
    "No work has been done in the loop yet until we compute().\n",
    "Note that that add function can accept delayed inputs (x & y)"
   ]
  },
  {
   "cell_type": "code",
   "execution_count": null,
   "id": "cardiovascular-former",
   "metadata": {},
   "outputs": [],
   "source": [
    "%%time\n",
    "z.compute()"
   ]
  },
  {
   "cell_type": "markdown",
   "id": "chubby-programmer",
   "metadata": {},
   "source": [
    "Similarly with a delayed loop, we can parallelize the operations"
   ]
  },
  {
   "cell_type": "code",
   "execution_count": null,
   "id": "guided-means",
   "metadata": {},
   "outputs": [],
   "source": [
    "data = [1, 2, 3, 4, 5, 6, 7, 8]"
   ]
  },
  {
   "cell_type": "code",
   "execution_count": null,
   "id": "unusual-spider",
   "metadata": {},
   "outputs": [],
   "source": [
    "%%time\n",
    "# Sequential code\n",
    "\n",
    "results = []\n",
    "for x in data:\n",
    "    y = inc(x)\n",
    "    results.append(y)\n",
    "    \n",
    "total = sum(results)"
   ]
  },
  {
   "cell_type": "code",
   "execution_count": null,
   "id": "czech-height",
   "metadata": {},
   "outputs": [],
   "source": [
    "%%time\n",
    "# Parallel code\n",
    "results=[]\n",
    "for x in data:\n",
    "    y=delayed(inc)(x) \n",
    "    results.append(y)\n",
    "total=delayed(sum)(results)\n",
    "total.visualize()"
   ]
  },
  {
   "cell_type": "code",
   "execution_count": null,
   "id": "economic-flashing",
   "metadata": {},
   "outputs": [],
   "source": [
    "%%time\n",
    "results=total.compute()"
   ]
  },
  {
   "cell_type": "code",
   "execution_count": null,
   "id": "secure-wildlife",
   "metadata": {},
   "outputs": [],
   "source": [
    "results"
   ]
  },
  {
   "cell_type": "markdown",
   "id": "pediatric-bachelor",
   "metadata": {},
   "source": [
    "Clean up client if we started one."
   ]
  },
  {
   "cell_type": "code",
   "execution_count": null,
   "id": "confirmed-violence",
   "metadata": {},
   "outputs": [],
   "source": [
    "client.shutdown()"
   ]
  }
 ],
 "metadata": {
  "kernelspec": {
   "display_name": "Python 3",
   "language": "python",
   "name": "python3"
  },
  "language_info": {
   "codemirror_mode": {
    "name": "ipython",
    "version": 3
   },
   "file_extension": ".py",
   "mimetype": "text/x-python",
   "name": "python",
   "nbconvert_exporter": "python",
   "pygments_lexer": "ipython3",
   "version": "3.8.6"
  }
 },
 "nbformat": 4,
 "nbformat_minor": 5
}

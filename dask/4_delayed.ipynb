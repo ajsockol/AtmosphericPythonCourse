{
 "cells": [
  {
   "cell_type": "markdown",
   "id": "deadly-characterization",
   "metadata": {},
   "source": [
    "<h1>Dask Delayed - Lazy execution scheduler</h1>"
   ]
  },
  {
   "cell_type": "markdown",
   "id": "victorian-newspaper",
   "metadata": {},
   "source": [
    "Set up session by importing from dask.distributed and dask delayed"
   ]
  },
  {
   "cell_type": "code",
   "execution_count": 1,
   "id": "patent-somalia",
   "metadata": {},
   "outputs": [],
   "source": [
    "import sys\n",
    "import os\n",
    "from dask.distributed import Client\n",
    "from dask import delayed"
   ]
  },
  {
   "cell_type": "markdown",
   "id": "shaped-elements",
   "metadata": {},
   "source": [
    "Create a cluster, or use default multi-threaded cluster"
   ]
  },
  {
   "cell_type": "code",
   "execution_count": 2,
   "id": "existing-thesis",
   "metadata": {},
   "outputs": [],
   "source": [
    "client = Client() #This creates a local (pc) multi-process cluster"
   ]
  },
  {
   "cell_type": "code",
   "execution_count": 3,
   "id": "black-sponsorship",
   "metadata": {},
   "outputs": [
    {
     "data": {
      "text/html": [
       "<table style=\"border: 2px solid white;\">\n",
       "<tr>\n",
       "<td style=\"vertical-align: top; border: 0px solid white\">\n",
       "<h3 style=\"text-align: left;\">Client</h3>\n",
       "<ul style=\"text-align: left; list-style: none; margin: 0; padding: 0;\">\n",
       "  <li><b>Scheduler: </b>tcp://127.0.0.1:43543</li>\n",
       "  <li><b>Dashboard: </b><a href='http://127.0.0.1:8787/status' target='_blank'>http://127.0.0.1:8787/status</a></li>\n",
       "</ul>\n",
       "</td>\n",
       "<td style=\"vertical-align: top; border: 0px solid white\">\n",
       "<h3 style=\"text-align: left;\">Cluster</h3>\n",
       "<ul style=\"text-align: left; list-style:none; margin: 0; padding: 0;\">\n",
       "  <li><b>Workers: </b>4</li>\n",
       "  <li><b>Cores: </b>4</li>\n",
       "  <li><b>Memory: </b>33.57 GB</li>\n",
       "</ul>\n",
       "</td>\n",
       "</tr>\n",
       "</table>"
      ],
      "text/plain": [
       "<Client: 'tcp://127.0.0.1:43543' processes=4 threads=4, memory=33.57 GB>"
      ]
     },
     "execution_count": 3,
     "metadata": {},
     "output_type": "execute_result"
    }
   ],
   "source": [
    "client"
   ]
  },
  {
   "cell_type": "markdown",
   "id": "previous-aquatic",
   "metadata": {},
   "source": [
    "Show dashboard address (default is localhost:8787)"
   ]
  },
  {
   "cell_type": "code",
   "execution_count": 4,
   "id": "intelligent-tamil",
   "metadata": {},
   "outputs": [
    {
     "data": {
      "text/plain": [
       "{'dashboard': 8787}"
      ]
     },
     "execution_count": 4,
     "metadata": {},
     "output_type": "execute_result"
    }
   ],
   "source": [
    "client.scheduler_info()['services']"
   ]
  },
  {
   "cell_type": "markdown",
   "id": "organizational-ivory",
   "metadata": {
    "jupyter": {
     "source_hidden": true
    }
   },
   "source": [
    "Getting to the dashboard can be a little tricky due to network restrictions.  \n",
    "The easiest way is run code and dashboard on your laptop.  \n",
    "If running code on GML server, ssh into the same server in a new terminal window\n",
    "and create a local redirect:\n",
    "\n",
    "    ssh nimbus3 -L 8787:localhost:8787\n",
    "    \n",
    "and then open a browser window and goto this address:\n",
    "\n",
    "    http://localhost:8787"
   ]
  },
  {
   "cell_type": "markdown",
   "id": "studied-competition",
   "metadata": {},
   "source": [
    "Create some functions that simulate work"
   ]
  },
  {
   "cell_type": "code",
   "execution_count": 5,
   "id": "pressing-capacity",
   "metadata": {},
   "outputs": [],
   "source": [
    "from time import sleep\n",
    "def inc(x):\n",
    "    sleep(1)\n",
    "    return x + 1\n",
    "\n",
    "def add(x, y):\n",
    "    sleep(1)\n",
    "    return x + y"
   ]
  },
  {
   "cell_type": "markdown",
   "id": "adult-conspiracy",
   "metadata": {},
   "source": [
    "Run"
   ]
  },
  {
   "cell_type": "code",
   "execution_count": 6,
   "id": "spread-teacher",
   "metadata": {},
   "outputs": [
    {
     "name": "stdout",
     "output_type": "stream",
     "text": [
      "CPU times: user 178 ms, sys: 19.9 ms, total: 198 ms\n",
      "Wall time: 3 s\n"
     ]
    }
   ],
   "source": [
    "%%time\n",
    "# This takes three seconds to run because we call each\n",
    "# function sequentially, one after the other\n",
    "\n",
    "x = inc(1)\n",
    "y = inc(2)\n",
    "z = add(x, y)"
   ]
  },
  {
   "cell_type": "markdown",
   "id": "spoken-fisher",
   "metadata": {},
   "source": [
    "Parallelize by using delayed syntax"
   ]
  },
  {
   "cell_type": "code",
   "execution_count": 7,
   "id": "assured-directory",
   "metadata": {},
   "outputs": [
    {
     "name": "stdout",
     "output_type": "stream",
     "text": [
      "CPU times: user 374 µs, sys: 1.11 ms, total: 1.48 ms\n",
      "Wall time: 1.02 ms\n"
     ]
    }
   ],
   "source": [
    "%%time\n",
    "# This runs immediately, all it does is build a graph\n",
    "\n",
    "x = delayed(inc)(1)\n",
    "y = delayed(inc)(2)\n",
    "z = delayed(add)(x, y)"
   ]
  },
  {
   "cell_type": "code",
   "execution_count": 8,
   "id": "difficult-classification",
   "metadata": {},
   "outputs": [
    {
     "data": {
      "image/png": "[encoded data removed]",
      "text/plain": [
       "<IPython.core.display.Image object>"
      ]
     },
     "execution_count": 8,
     "metadata": {},
     "output_type": "execute_result"
    }
   ],
   "source": [
    "z.visualize()"
   ]
  },
  {
   "cell_type": "markdown",
   "id": "minor-spirituality",
   "metadata": {},
   "source": [
    "No work has been done in the loop yet until we compute().\n",
    "Note that that add function can accept delayed inputs (x & y)"
   ]
  },
  {
   "cell_type": "code",
   "execution_count": 9,
   "id": "graphic-robertson",
   "metadata": {},
   "outputs": [
    {
     "name": "stdout",
     "output_type": "stream",
     "text": [
      "CPU times: user 126 ms, sys: 16.9 ms, total: 143 ms\n",
      "Wall time: 2.03 s\n"
     ]
    },
    {
     "data": {
      "text/plain": [
       "5"
      ]
     },
     "execution_count": 9,
     "metadata": {},
     "output_type": "execute_result"
    }
   ],
   "source": [
    "%%time\n",
    "z.compute()"
   ]
  },
  {
   "cell_type": "markdown",
   "id": "marked-surgery",
   "metadata": {},
   "source": [
    "Similarly with a delayed loop, we can parallelize the operations"
   ]
  },
  {
   "cell_type": "code",
   "execution_count": 10,
   "id": "large-opera",
   "metadata": {},
   "outputs": [],
   "source": [
    "data = [1, 2, 3, 4, 5, 6, 7, 8]"
   ]
  },
  {
   "cell_type": "code",
   "execution_count": 11,
   "id": "painful-professor",
   "metadata": {},
   "outputs": [
    {
     "name": "stdout",
     "output_type": "stream",
     "text": [
      "CPU times: user 420 ms, sys: 56.4 ms, total: 477 ms\n",
      "Wall time: 8.01 s\n"
     ]
    }
   ],
   "source": [
    "%%time\n",
    "# Sequential code\n",
    "\n",
    "results = []\n",
    "for x in data:\n",
    "    y = inc(x)\n",
    "    results.append(y)\n",
    "    \n",
    "total = sum(results)"
   ]
  },
  {
   "cell_type": "code",
   "execution_count": 12,
   "id": "consistent-count",
   "metadata": {},
   "outputs": [
    {
     "name": "stdout",
     "output_type": "stream",
     "text": [
      "CPU times: user 24.4 ms, sys: 9.62 ms, total: 34.1 ms\n",
      "Wall time: 197 ms\n"
     ]
    },
    {
     "data": {
      "image/png": "[encoded data removed]",
      "text/plain": [
       "<IPython.core.display.Image object>"
      ]
     },
     "execution_count": 12,
     "metadata": {},
     "output_type": "execute_result"
    }
   ],
   "source": [
    "%%time\n",
    "# Parallel code\n",
    "results=[]\n",
    "for x in data:\n",
    "    y=delayed(inc)(x) \n",
    "    results.append(y)\n",
    "total=delayed(sum)(results)\n",
    "total.visualize()"
   ]
  },
  {
   "cell_type": "code",
   "execution_count": 13,
   "id": "charitable-screen",
   "metadata": {},
   "outputs": [
    {
     "name": "stdout",
     "output_type": "stream",
     "text": [
      "CPU times: user 119 ms, sys: 18.8 ms, total: 138 ms\n",
      "Wall time: 2.03 s\n"
     ]
    }
   ],
   "source": [
    "%%time\n",
    "results=total.compute()"
   ]
  },
  {
   "cell_type": "code",
   "execution_count": null,
   "id": "circular-drama",
   "metadata": {},
   "outputs": [],
   "source": [
    "results"
   ]
  },
  {
   "cell_type": "markdown",
   "id": "numerous-address",
   "metadata": {},
   "source": [
    "Clean up client if we started one."
   ]
  },
  {
   "cell_type": "code",
   "execution_count": 14,
   "id": "refined-wichita",
   "metadata": {},
   "outputs": [
    {
     "name": "stderr",
     "output_type": "stream",
     "text": [
      "distributed.client - ERROR - Failed to reconnect to scheduler after 10.00 seconds, closing client\n",
      "_GatheringFuture exception was never retrieved\n",
      "future: <_GatheringFuture finished exception=CancelledError()>\n",
      "asyncio.exceptions.CancelledError\n"
     ]
    }
   ],
   "source": [
    "client.shutdown()"
   ]
  },
  {
   "cell_type": "code",
   "execution_count": null,
   "id": "muslim-general",
   "metadata": {},
   "outputs": [],
   "source": []
  }
 ],
 "metadata": {
  "kernelspec": {
   "display_name": "Python 3",
   "language": "python",
   "name": "python3"
  },
  "language_info": {
   "codemirror_mode": {
    "name": "ipython",
    "version": 3
   },
   "file_extension": ".py",
   "mimetype": "text/x-python",
   "name": "python",
   "nbconvert_exporter": "python",
   "pygments_lexer": "ipython3",
   "version": "3.8.6"
  }
 },
 "nbformat": 4,
 "nbformat_minor": 5
}

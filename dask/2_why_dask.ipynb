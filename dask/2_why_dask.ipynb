{
 "cells": [
  {
   "cell_type": "markdown",
   "id": "worth-spell",
   "metadata": {},
   "source": [
    "<h2>Python is single process</h2>\n",
    "<ul><li>Interpreted language means easy coding and ability to use interactively</li>\n",
    "    <li>Compiled modules provide fast computation\n",
    "    <li>Limited by running on a single core at a time\n",
    "        <li>Python has several MP libraries (<a href='https://wiki.python.org/moin/ParallelProcessing'>https://wiki.python.org/moin/ParallelProcessing</a>), but most are either very specialized or require specific coding techniques\n",
    "            </ul>"
   ]
  },
  {
   "cell_type": "markdown",
   "id": "express-gambling",
   "metadata": {},
   "source": [
    "<h1>What does Dask do?</h1>\n",
    "<h4><ul>\n",
    "    <li>Produces a task graph\n",
    "    <li>Provides a dynamic scheduler and clusters of workers</li>\n",
    "    <li>Provides high level data structures that extend the api of commonly used libraries\n",
    "            \n",
    "</ul>\n",
    "</h4>\n",
    "<h4>Dask Array extends Numpy ndarray</h4>\n",
    "<img src='https://dask.org/_images/dask-array-black-text.svg'><br><br>\n",
    "<h4>Dask dataframe extends Pandas dataframe</h4>\n",
    "<img src='https://dask.org/_images/dask-dataframe.svg' width=\"300\" >\n",
    "<br><br>\n",
    "<h4>Xarray has built Dask in to partition netcdf based datasets</h4>\n",
    "<br><br>\n"
   ]
  }
 ],
 "metadata": {
  "kernelspec": {
   "display_name": "Python 3",
   "language": "python",
   "name": "python3"
  },
  "language_info": {
   "codemirror_mode": {
    "name": "ipython",
    "version": 3
   },
   "file_extension": ".py",
   "mimetype": "text/x-python",
   "name": "python",
   "nbconvert_exporter": "python",
   "pygments_lexer": "ipython3",
   "version": "3.8.6"
  }
 },
 "nbformat": 4,
 "nbformat_minor": 5
}

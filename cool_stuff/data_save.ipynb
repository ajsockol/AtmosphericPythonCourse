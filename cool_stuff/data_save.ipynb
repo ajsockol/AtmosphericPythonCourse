{
 "cells": [
  {
   "cell_type": "markdown",
   "id": "23e41866-791a-4b8c-acd0-0ee1abe60387",
   "metadata": {},
   "source": [
    "## Saving data with Python native libraies\n",
    "\n",
    "We can save current data to a file for later retrieval. We can also share the data with other people."
   ]
  },
  {
   "cell_type": "code",
   "execution_count": 1,
   "id": "172a8d56-5eeb-4e37-950f-a4bbfa679bff",
   "metadata": {},
   "outputs": [],
   "source": [
    "import numpy as np"
   ]
  },
  {
   "cell_type": "markdown",
   "id": "769a09da-f838-4e19-af83-97b5666dd94d",
   "metadata": {},
   "source": [
    "### Save data to a normal ASCII file"
   ]
  },
  {
   "cell_type": "code",
   "execution_count": 2,
   "id": "42a2ccbd-07f7-4df0-a2b3-3057c4ef645d",
   "metadata": {},
   "outputs": [
    {
     "name": "stdout",
     "output_type": "stream",
     "text": [
      "[0, 1, 2, 3, 4, 5, 6, 7, 8, 9]\n"
     ]
    }
   ],
   "source": [
    "data = list(range(10))  # define data as a list of 10 values\n",
    "print(data)"
   ]
  },
  {
   "cell_type": "markdown",
   "id": "f750b1a7-cbf5-460d-9840-dcc565bd346b",
   "metadata": {},
   "source": [
    "Save to CSV file in current directory with file name data.csv"
   ]
  },
  {
   "cell_type": "code",
   "execution_count": 3,
   "id": "5b59bebf-9270-4bed-b5ce-91761c97acec",
   "metadata": {},
   "outputs": [],
   "source": [
    "np.savetxt(\"data.csv\", data, delimiter=\",\")"
   ]
  },
  {
   "cell_type": "markdown",
   "id": "9b402a68-73f9-4a65-9e38-24d56612b93b",
   "metadata": {},
   "source": [
    "Read data from file we just wrote. Notice the data type was not preserved. Data were upconverted to Numpy float."
   ]
  },
  {
   "cell_type": "code",
   "execution_count": 4,
   "id": "b33c26f2-ee62-463e-aa81-0ca65b179af8",
   "metadata": {},
   "outputs": [
    {
     "name": "stdout",
     "output_type": "stream",
     "text": [
      "[0. 1. 2. 3. 4. 5. 6. 7. 8. 9.]\n",
      "<class 'numpy.ndarray'>\n"
     ]
    }
   ],
   "source": [
    "read_data = np.loadtxt(\"data.csv\", delimiter=\",\")\n",
    "print(read_data)\n",
    "print(type(read_data))"
   ]
  },
  {
   "cell_type": "markdown",
   "id": "412f78b8-144b-4d3f-ad6b-a5d273bb4f54",
   "metadata": {},
   "source": [
    "### Save multiple data to a normal ASCII file"
   ]
  },
  {
   "cell_type": "code",
   "execution_count": 5,
   "id": "44c51c8e-4489-44aa-b6c6-dc413514d151",
   "metadata": {},
   "outputs": [],
   "source": [
    "data_1 = np.arange(10)\n",
    "data_2 = np.arange(10) + 100"
   ]
  },
  {
   "cell_type": "markdown",
   "id": "9557c4ba-3449-48d7-b981-19b8af144f47",
   "metadata": {},
   "source": [
    "Save to csv file using lists of the data for multiple data. The data need to be the same length because saving each list as a new row."
   ]
  },
  {
   "cell_type": "code",
   "execution_count": 6,
   "id": "57b5fb91-dc94-423e-af5e-8f4c5b2b170d",
   "metadata": {},
   "outputs": [],
   "source": [
    "np.savetxt(\"data.csv\", [data_1, data_2], delimiter=\",\")"
   ]
  },
  {
   "cell_type": "code",
   "execution_count": 7,
   "id": "f8c866a0-e359-47fd-a91a-29f0438a27f4",
   "metadata": {},
   "outputs": [
    {
     "name": "stdout",
     "output_type": "stream",
     "text": [
      "[[  0.   1.   2.   3.   4.   5.   6.   7.   8.   9.]\n",
      " [100. 101. 102. 103. 104. 105. 106. 107. 108. 109.]]\n"
     ]
    }
   ],
   "source": [
    "read_data = np.loadtxt(\"data.csv\", delimiter=\",\")\n",
    "print(read_data)"
   ]
  },
  {
   "cell_type": "markdown",
   "id": "544b7e85-1747-49e2-835e-48668196ab28",
   "metadata": {},
   "source": [
    "### Save to Numpy binary file for reduced space and faster read/write speeds\n",
    "\n",
    "Notice the data type was preserved. This is only for one variable at a time."
   ]
  },
  {
   "cell_type": "code",
   "execution_count": 8,
   "id": "86399fbf-1bca-4fc8-aa9c-040081458541",
   "metadata": {},
   "outputs": [
    {
     "name": "stdout",
     "output_type": "stream",
     "text": [
      "data.dtype:  int64\n",
      "[0 1 2 3 4 5 6 7 8 9]\n",
      "read_data.dtype: int64\n"
     ]
    }
   ],
   "source": [
    "data = np.arange(10)\n",
    "print('data.dtype: ', data.dtype)\n",
    "np.save(\"data.npy\", data)\n",
    "read_data = np.load(\"data.npy\")\n",
    "print(read_data)\n",
    "print('read_data.dtype:', read_data.dtype)"
   ]
  },
  {
   "cell_type": "markdown",
   "id": "099658d7-e480-43ed-9be4-7d7b4fdd2be2",
   "metadata": {},
   "source": [
    "### Saving multiple variables to single file\n",
    "We can save multiple Numpy variables to a single file."
   ]
  },
  {
   "cell_type": "code",
   "execution_count": 9,
   "id": "1427f00c-4c24-426b-8074-a0e1ba453e17",
   "metadata": {},
   "outputs": [],
   "source": [
    "data_1 = np.arange(10)\n",
    "data_2 = np.arange(20, dtype=float)\n",
    "data_3 = np.zeros(5, dtype=bool)\n",
    "filename = \"data.npz\"\n",
    "\n",
    "# Use the name of the keyword as the name of the data to preserve the variable name.\n",
    "np.savez(filename, data_1, data_2=data_2, data_3=data_3)  # save to Numpy binary file"
   ]
  },
  {
   "cell_type": "markdown",
   "id": "e4e93bfd-7367-41b2-8f96-8a55b8acf0cc",
   "metadata": {},
   "source": [
    "Now read the data and print the variable names and values. Notice the use of the .files method. Strange name but this is what Numpy chose for the data objects in the written data file. Each variable is written to a different file, with the name of the file as the name of the variable."
   ]
  },
  {
   "cell_type": "code",
   "execution_count": 10,
   "id": "b0f2ca94-99cb-45ab-9e35-4779e18f2a15",
   "metadata": {},
   "outputs": [
    {
     "name": "stdout",
     "output_type": "stream",
     "text": [
      "list_names: ['data_2', 'data_3', 'arr_0']\n",
      "read_data['data_2']: [ 0.  1.  2.  3.  4.  5.  6.  7.  8.  9. 10. 11. 12. 13. 14. 15. 16. 17.\n",
      " 18. 19.]\n"
     ]
    }
   ],
   "source": [
    "read_data = np.load(filename)\n",
    "\n",
    "list_names = read_data.files\n",
    "print(\"list_names:\", list_names)\n",
    "print(\"read_data['data_2']:\", read_data['data_2'])"
   ]
  },
  {
   "cell_type": "markdown",
   "id": "7720bcb3-4d03-4b15-a832-80fd6b7ca83e",
   "metadata": {},
   "source": [
    "### We can compress the data to save space on the disk"
   ]
  },
  {
   "cell_type": "code",
   "execution_count": 11,
   "id": "092c3414-c323-40e2-9f3d-bd4fbb9022f0",
   "metadata": {},
   "outputs": [],
   "source": [
    "data_1 = np.arange(10000)\n",
    "data_2 = np.arange(20000, dtype=float)\n",
    "data_3 = np.zeros(5000, dtype=bool)\n",
    "filename = \"data_compressed.npz\"\n",
    "\n",
    "np.savez_compressed(filename, data_1=data_1, data_2=data_2, data_3=data_3)"
   ]
  },
  {
   "cell_type": "markdown",
   "id": "c0d7ac72-5163-4cc7-bb96-273203dc412a",
   "metadata": {},
   "source": [
    "Read data from file. Notice how we didn't say it was compressed data, it just figured it out."
   ]
  },
  {
   "cell_type": "code",
   "execution_count": 12,
   "id": "dc0a2683-21b9-4f23-beba-76463ad61896",
   "metadata": {},
   "outputs": [
    {
     "name": "stdout",
     "output_type": "stream",
     "text": [
      "read_data.files: ['data_1', 'data_2', 'data_3']\n",
      "data_1 : [   0    1    2 ... 9997 9998 9999]\n",
      "data_2 : [0.0000e+00 1.0000e+00 2.0000e+00 ... 1.9997e+04 1.9998e+04 1.9999e+04]\n",
      "data_3 : [False False False ... False False False]\n"
     ]
    }
   ],
   "source": [
    "read_data = np.load(filename)\n",
    "print('read_data.files:', read_data.files)\n",
    "for var_name in read_data.files:\n",
    "    print(var_name, \":\", read_data[var_name])"
   ]
  },
  {
   "cell_type": "markdown",
   "id": "046733b7-4d85-40fe-b60a-a45cafe0596b",
   "metadata": {},
   "source": [
    "## Saving data not in Numpy format\n",
    "What if we want to save objects that are not Numpy? Then we can use a different method called Pickel. This will write the object as an object to the binary file and return it as the Python object.\n",
    "\n",
    "NOTE:\n",
    "Pickle files can be hacked. If you receive an unverified raw pickle file, don't trust it! It could have malicious code in it, that would run arbitrary python when you try to de-pickle it."
   ]
  },
  {
   "cell_type": "code",
   "execution_count": 13,
   "id": "45bbafe6-c9ca-4d97-bf03-2543858cf108",
   "metadata": {},
   "outputs": [],
   "source": [
    "import pickle"
   ]
  },
  {
   "cell_type": "markdown",
   "id": "e3ce301f-9723-47dc-a71e-d5e4934b67e3",
   "metadata": {},
   "source": [
    "Create a dictionary with information"
   ]
  },
  {
   "cell_type": "code",
   "execution_count": 14,
   "id": "e6a67844-0d14-40d4-bef6-9aa0ff81ebb4",
   "metadata": {},
   "outputs": [],
   "source": [
    "favorite_color = {\"lion\": \"yellow\", \"kitty\": \"red\"}"
   ]
  },
  {
   "cell_type": "markdown",
   "id": "2fa73e47-1bb4-41dc-a188-c3b7a74ce5b3",
   "metadata": {},
   "source": [
    "Dump the dictionary to a binary file as a dictionary."
   ]
  },
  {
   "cell_type": "code",
   "execution_count": 15,
   "id": "ee917759-7faf-4321-a569-cad7bebe4868",
   "metadata": {},
   "outputs": [],
   "source": [
    "filename = \"save.pkl\"\n",
    "pickle.dump(favorite_color, open(filename, \"wb\"))\n",
    "\n",
    "del favorite_color  # Remove the dictionary just to prove it is read in."
   ]
  },
  {
   "cell_type": "markdown",
   "id": "86edffdf-8d20-4881-8dea-d01a60de6299",
   "metadata": {},
   "source": [
    "Read the dictionary back into memory"
   ]
  },
  {
   "cell_type": "code",
   "execution_count": 16,
   "id": "f2ed7fa7-825a-4a1f-aa3e-2d233d93e47b",
   "metadata": {},
   "outputs": [
    {
     "name": "stdout",
     "output_type": "stream",
     "text": [
      "favorite_color: {'lion': 'yellow', 'kitty': 'red'}\n"
     ]
    }
   ],
   "source": [
    "favorite_color = pickle.load(open(filename, \"rb\"))\n",
    "print(\"favorite_color:\", favorite_color)"
   ]
  },
  {
   "cell_type": "markdown",
   "id": "e1dfc88c-6b21-47fa-bbb1-d4581cd3749a",
   "metadata": {},
   "source": [
    "### We can also pickel multiple variables and return them to multiple variables.\n",
    "Create a dictionary with information"
   ]
  },
  {
   "cell_type": "code",
   "execution_count": 17,
   "id": "5d7b4319-7c9f-45bb-a9d4-895accac217e",
   "metadata": {},
   "outputs": [],
   "source": [
    "favorite_color = {\"lion\": \"yellow\", \"kitty\": \"red\"}\n",
    "favorite_season = 'winter'\n",
    "favorite_numbers = [4, 42, np.pi]\n",
    "favorite_series = np.array([2, 3, 5, 7, 11, 13, 17, 19, 23, 29], dtype=np.int8)"
   ]
  },
  {
   "cell_type": "markdown",
   "id": "5163b2d6-a09d-4766-8a50-6d5c11d46042",
   "metadata": {},
   "source": [
    "Dump the different objects to a single file. For the pickle.dump() method to work we need to pass in one object. That object can contain as many different objects as we want."
   ]
  },
  {
   "cell_type": "code",
   "execution_count": 18,
   "id": "9eeace36-7990-41e3-ad86-22ebde24921a",
   "metadata": {},
   "outputs": [],
   "source": [
    "filename = \"save.pkl\"\n",
    "with open(filename, \"wb\") as f:\n",
    "    single_tuple = (favorite_color, favorite_season, favorite_numbers, favorite_series)\n",
    "    pickle.dump(single_tuple, f)\n",
    "\n",
    "# Remove the dictionary just to prove it is read in.\n",
    "del favorite_color, favorite_season, favorite_numbers, favorite_series"
   ]
  },
  {
   "cell_type": "markdown",
   "id": "09fe9a07-c563-4108-a473-835e7db3f28b",
   "metadata": {},
   "source": [
    "Read the dictionary back into memory"
   ]
  },
  {
   "cell_type": "code",
   "execution_count": 19,
   "id": "e9c89e6b-d00b-4036-830e-582caf24745c",
   "metadata": {},
   "outputs": [
    {
     "name": "stdout",
     "output_type": "stream",
     "text": [
      "favorite_color: {'lion': 'yellow', 'kitty': 'red'}\n",
      "favorite_season: winter\n",
      "favorite_numbers: [4, 42, 3.141592653589793]\n",
      "favorite_series: [ 2  3  5  7 11 13 17 19 23 29] int8\n"
     ]
    }
   ],
   "source": [
    "favorite_color, favorite_season, favorite_numbers, favorite_series = pickle.load(open(filename, \"rb\"))\n",
    "print(\"favorite_color:\", favorite_color)\n",
    "print(\"favorite_season:\", favorite_season)\n",
    "print(\"favorite_numbers:\", favorite_numbers)\n",
    "print(\"favorite_series:\", favorite_series, favorite_series.dtype)"
   ]
  },
  {
   "cell_type": "markdown",
   "id": "e0083fcc-9986-4a02-8063-6019868dadf2",
   "metadata": {},
   "source": [
    "We just created and saved a bunch of files to disk. Just run this code to cleanup and remove the files we created."
   ]
  },
  {
   "cell_type": "code",
   "execution_count": 20,
   "id": "c8c52e65-720b-4245-8be5-041fe03fea3c",
   "metadata": {},
   "outputs": [],
   "source": [
    "from pathlib import Path\n",
    "for ext in ['npy', 'csv', 'pkl', 'npz']:\n",
    "    for fl in Path('.').glob(f'*.{ext}'):\n",
    "        fl.unlink()"
   ]
  }
 ],
 "metadata": {
  "kernelspec": {
   "display_name": "Python 3 (ipykernel)",
   "language": "python",
   "name": "python3"
  },
  "language_info": {
   "codemirror_mode": {
    "name": "ipython",
    "version": 3
   },
   "file_extension": ".py",
   "mimetype": "text/x-python",
   "name": "python",
   "nbconvert_exporter": "python",
   "pygments_lexer": "ipython3",
   "version": "3.9.16"
  }
 },
 "nbformat": 4,
 "nbformat_minor": 5
}

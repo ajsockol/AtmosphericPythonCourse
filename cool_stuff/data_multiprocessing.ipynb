{
 "cells": [
  {
   "cell_type": "markdown",
   "id": "d2340219-af2a-44fc-bd48-d665e9dd110c",
   "metadata": {},
   "source": [
    "# Multiprocessing\n",
    "Some times the code can be made faster by using more of the processers available to you. If you have multiple processors you can use multiprocessing to split the job up into parts and give the work to differnt processes. There are some nuances to the code so check out the documentation https://pymotw.com/2/multiprocessing/basics.html\n",
    "\n",
    "Also because the results of this depend on how many CPUs you have avaialbe your results may differ."
   ]
  },
  {
   "cell_type": "code",
   "execution_count": 1,
   "id": "52fffacd-7762-4ae3-82c5-f79bb9d4648c",
   "metadata": {},
   "outputs": [],
   "source": [
    "from multiprocessing import Process, Pool, cpu_count, current_process\n",
    "import numpy as np\n",
    "import time\n",
    "import sys"
   ]
  },
  {
   "cell_type": "markdown",
   "id": "0cdb1576-8eba-463e-8a2c-738fd2b26d3d",
   "metadata": {},
   "source": [
    "First let's import a function to help us understand how this can help. All it does is wait for some amount of time to simulate a bigger job. There is some querk with how the multiprocessing works that requires the function to be called to be imported from a different file. There is a file in the current directory called multiprocessing_example.py with a function called some_function. The function takes a tuple with job name and number of seconds to wait. The function prints some information while running. The function then returns the job name and integer number of sections passed into the function."
   ]
  },
  {
   "cell_type": "code",
   "execution_count": 2,
   "id": "a7ba95cf-642f-4bc6-a796-fdd9eadd73ae",
   "metadata": {},
   "outputs": [],
   "source": [
    "from multiprocessing_utility import some_function"
   ]
  },
  {
   "cell_type": "markdown",
   "id": "4e3c5aaa-72fc-45a4-9392-3a6da8c56339",
   "metadata": {},
   "source": [
    "Let's call the function four times waiting 1 second each time. In series this means it will take about 4 seconds to run in total."
   ]
  },
  {
   "cell_type": "code",
   "execution_count": 3,
   "id": "7c4bc13a-5f3a-41a3-ba43-8fb4ea7db931",
   "metadata": {},
   "outputs": [
    {
     "name": "stdout",
     "output_type": "stream",
     "text": [
      "\n",
      "Looping over 4 jobs one at a time.\n",
      "Starting processs 'job_a'\tWaiting 1 seconds\n",
      "Process 'job_a'' complete. Waited 1 seconds to finish\n",
      "Starting processs 'job_b'\tWaiting 1 seconds\n",
      "Process 'job_b'' complete. Waited 1 seconds to finish\n",
      "Starting processs 'job_c'\tWaiting 1 seconds\n",
      "Process 'job_c'' complete. Waited 1 seconds to finish\n",
      "Starting processs 'job_d'\tWaiting 1 seconds\n",
      "Process 'job_d'' complete. Waited 1 seconds to finish\n",
      "Job took 4.02039909362793 to complete.\n"
     ]
    }
   ],
   "source": [
    "jobs_2_run = (['job_a', '1'], ['job_b', '1'], ['job_c', '1'], ['job_d', '1'])\n",
    "\n",
    "print(f\"\\nLooping over {len(jobs_2_run)} jobs one at a time.\")\n",
    "start = time.time()\n",
    "for ii in jobs_2_run:\n",
    "    some_function(ii)\n",
    "print(f\"Job took {time.time()-start} to complete.\")"
   ]
  },
  {
   "cell_type": "markdown",
   "id": "daf7186e-205c-4497-b380-64f525047205",
   "metadata": {},
   "source": [
    "Here we will use the multiprocessing option to process the same jobs in parallel."
   ]
  },
  {
   "cell_type": "code",
   "execution_count": 4,
   "id": "ff4efc49-16c7-442c-af7c-7afb7f750147",
   "metadata": {},
   "outputs": [
    {
     "name": "stdout",
     "output_type": "stream",
     "text": [
      "\n",
      "Looping over 4 jobs 4 at a time.\n",
      "Notice this statement is printed right away and before the jobs are completed, but the print statement is after the jobs are set to run. The code after is set to run without waiting.\n",
      "\n",
      "Starting processs 'job_a'\tWaiting 1 seconds\n",
      "Process 'job_a'' complete. Waited 1 seconds to finish\n",
      "Starting processs 'job_b'\tWaiting 1 seconds\n",
      "Process 'job_b'' complete. Waited 1 seconds to finish\n",
      "Starting processs 'job_c'\tWaiting 1 seconds\n",
      "Process 'job_c'' complete. Waited 1 seconds to finish\n",
      "Starting processs 'job_d'\tWaiting 1 seconds\n",
      "Process 'job_d'' complete. Waited 1 seconds to finish\n",
      "Job took 1.083010196685791 to complete.\n"
     ]
    }
   ],
   "source": [
    "jobs = []  # We need to define an empty list to store the jobs in the loop below.\n",
    "print(f\"\\nLooping over {len(jobs_2_run)} jobs {len(jobs_2_run)} at a time.\")\n",
    "start = time.time()\n",
    "for ii in jobs_2_run:\n",
    "    p = Process(target=some_function, args=(ii,))\n",
    "    jobs.append(p)\n",
    "    p.start()\n",
    "print('Notice this statement is printed right away and before the jobs are completed, '\n",
    "      'but the print statement is after the jobs are set to run. The code after is '\n",
    "      'set to run without waiting.\\n')\n",
    "p.join()\n",
    "print(f\"Job took {time.time()-start} to complete.\")"
   ]
  },
  {
   "cell_type": "markdown",
   "id": "c44fbb1f-341e-4aff-a116-94503f603e0c",
   "metadata": {},
   "source": [
    "We can provide multiple jobs to run by creating a tuple of lists with the job name and the number of seconds to pass into the function (to wait). We will loop over the list passing in the tuple. The function understands how to use this to print the job name and wait the number of sections. Notice how all resources of the computer that are available are used as default. So if there are 10 cores all ten are available for use. Since the number of jobs to be run is 8 not all the cores are actually used. The result is that jobs told to wait the least finish first and jobs told to wait the most finish last regardless of order submitted."
   ]
  },
  {
   "cell_type": "code",
   "execution_count": 5,
   "id": "b2095f44-ebdd-45c1-a6c0-00d783094899",
   "metadata": {},
   "outputs": [
    {
     "name": "stdout",
     "output_type": "stream",
     "text": [
      "\n",
      "Number of CPUs available to use 10.\n",
      "\n"
     ]
    }
   ],
   "source": [
    "jobs_2_run = (['job_a', '2'], ['job_b', '4'], ['job_c', '1'], ['job_d', '0'],\n",
    "              ['job_e', '1'], ['job_f', '3'], ['job_g', '2'], ['job_h', '3'])\n",
    "\n",
    "cpu_utilize = cpu_count()\n",
    "print(f'\\nNumber of CPUs available to use {cpu_utilize}.\\n')\n",
    "jobs = []\n",
    "for ii in jobs_2_run:\n",
    "    p = Process(target=some_function, args=(ii, ))\n",
    "    jobs.append(p)\n",
    "    p.start()"
   ]
  },
  {
   "cell_type": "markdown",
   "id": "9aca42b3-eca0-4d1e-a802-558f40668b1f",
   "metadata": {},
   "source": [
    "What if we do not want to use all available resources? We can define how many CPUs to allocate to the jobs."
   ]
  },
  {
   "cell_type": "code",
   "execution_count": 6,
   "id": "32222dbd-87c2-4b9d-b0ad-4016fabe6a48",
   "metadata": {},
   "outputs": [],
   "source": [
    "cpu_utilize = cpu_count() // 2  # Set number of CPUs to half of available with integer division."
   ]
  },
  {
   "cell_type": "markdown",
   "id": "e005a40e-e831-4dc1-8971-09788601d4f7",
   "metadata": {},
   "source": [
    "Because we have set the number of CPUs to use (possbily) less than number of jobs the results will be different than above. Jupyter may not handle the output as intened so you may need to run this twice to see the printed text as intended.\n",
    "\n",
    "Here we have also changed to use the .map() method which takes an iterator (list, tuple, ...) and does the looping for us. Notice how we may not have all the short jobs finishing first. This is because we are most likely submitting fewer jobs at once and waiting for them to finish before submitting more."
   ]
  },
  {
   "cell_type": "code",
   "execution_count": 7,
   "id": "69750156-a0b3-4c76-9942-e5ac9251d61a",
   "metadata": {},
   "outputs": [
    {
     "name": "stdout",
     "output_type": "stream",
     "text": [
      "\n",
      "Number of CPUs used 5.\n",
      "\n",
      "Starting processs 'job_d'\tWaiting 0 seconds\n",
      "Process 'job_d'' complete. Waited 0 seconds to finish\n",
      "Starting processs 'job_c'\tWaiting 1 seconds\n",
      "Process 'job_c'' complete. Waited 1 seconds to finish\n",
      "Starting processs 'job_e'\tWaiting 1 seconds\n",
      "Process 'job_e'' complete. Waited 1 seconds to finish\n",
      "Starting processs 'job_a'\tWaiting 2 seconds\n",
      "Process 'job_a'' complete. Waited 2 seconds to finish\n",
      "Starting processs 'job_g'\tWaiting 2 seconds\n",
      "Process 'job_g'' complete. Waited 2 seconds to finish\n",
      "Starting processs 'job_f'\tWaiting 3 seconds\n",
      "Process 'job_f'' complete. Waited 3 seconds to finish\n",
      "Starting processs 'job_h'\tWaiting 3 seconds\n",
      "Process 'job_h'' complete. Waited 3 seconds to finish\n",
      "Starting processs 'job_b'\tWaiting 4 seconds\n",
      "Process 'job_b'' complete. Waited 4 seconds to finish\n"
     ]
    }
   ],
   "source": [
    "print(f'\\nNumber of CPUs used {cpu_utilize}.\\n')\n",
    "\n",
    "p = Pool(cpu_utilize)\n",
    "result = p.map(some_function, jobs_2_run)"
   ]
  },
  {
   "cell_type": "markdown",
   "id": "2ee69ff5-8988-476a-a6a0-9aa88bd18ced",
   "metadata": {},
   "source": [
    "We have captured the output from each job into the varible result. This will be a list of tuples returned from the function most likely not in any specific order. "
   ]
  },
  {
   "cell_type": "code",
   "execution_count": 8,
   "id": "890ed975-06d2-4526-a0e8-bea6770dbd55",
   "metadata": {},
   "outputs": [
    {
     "name": "stdout",
     "output_type": "stream",
     "text": [
      "result: [('job_a', '2'), ('job_b', '4'), ('job_c', '1'), ('job_d', '0'), ('job_e', '1'), ('job_f', '3'), ('job_g', '2'), ('job_h', '3')]\n"
     ]
    }
   ],
   "source": [
    "print('result:', result)"
   ]
  }
 ],
 "metadata": {
  "kernelspec": {
   "display_name": "Python 3 (ipykernel)",
   "language": "python",
   "name": "python3"
  },
  "language_info": {
   "codemirror_mode": {
    "name": "ipython",
    "version": 3
   },
   "file_extension": ".py",
   "mimetype": "text/x-python",
   "name": "python",
   "nbconvert_exporter": "python",
   "pygments_lexer": "ipython3",
   "version": "3.10.13"
  }
 },
 "nbformat": 4,
 "nbformat_minor": 5
}

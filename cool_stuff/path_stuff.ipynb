{
 "cells": [
  {
   "cell_type": "markdown",
   "id": "b631231a",
   "metadata": {},
   "source": [
    "## This will walk through some of the most common path methods used with the pathlib.Path object"
   ]
  },
  {
   "cell_type": "markdown",
   "id": "32958e0f",
   "metadata": {},
   "source": [
    "Import Standard Libraries for this Notebook"
   ]
  },
  {
   "cell_type": "code",
   "execution_count": 1,
   "id": "daef1683",
   "metadata": {},
   "outputs": [],
   "source": [
    "from pathlib import Path\n",
    "import shutil\n",
    "import datetime as dt"
   ]
  },
  {
   "cell_type": "markdown",
   "id": "5e20bafb",
   "metadata": {},
   "source": [
    "Create a full path directory from scratch.\n",
    "Notice the individual parts are individual strings, not list or tuple."
   ]
  },
  {
   "cell_type": "code",
   "execution_count": 2,
   "id": "54f833c8",
   "metadata": {},
   "outputs": [
    {
     "name": "stdout",
     "output_type": "stream",
     "text": [
      "/one/two/three/four\n",
      "<class 'pathlib.PosixPath'>\n"
     ]
    }
   ],
   "source": [
    "full_path = Path(\"/one\", \"two\", \"three\", \"four\")\n",
    "print(full_path)\n",
    "print(type(full_path))"
   ]
  },
  {
   "cell_type": "markdown",
   "id": "3f6406cd",
   "metadata": {},
   "source": [
    "Some libraries will work with a pathlib.PosixPath, some require strings.\n",
    "Convert if the library needs strings."
   ]
  },
  {
   "cell_type": "code",
   "execution_count": 3,
   "id": "db8c5124",
   "metadata": {},
   "outputs": [
    {
     "name": "stdout",
     "output_type": "stream",
     "text": [
      "<class 'pathlib.PosixPath'>\n",
      "<class 'str'>\n"
     ]
    }
   ],
   "source": [
    "full_path_as_str = str(full_path)\n",
    "\n",
    "print(type(full_path))\n",
    "print(type(full_path_as_str))"
   ]
  },
  {
   "cell_type": "markdown",
   "id": "d5222ff3",
   "metadata": {},
   "source": [
    "Get the current work directory"
   ]
  },
  {
   "cell_type": "code",
   "execution_count": 4,
   "id": "d247d927",
   "metadata": {},
   "outputs": [
    {
     "data": {
      "text/plain": [
       "PosixPath('/Users/kehoe/Git_area/AtmosphericPythonCourse/cool_stuff')"
      ]
     },
     "execution_count": 4,
     "metadata": {},
     "output_type": "execute_result"
    }
   ],
   "source": [
    "current_dir = Path.cwd()\n",
    "\n",
    "current_dir"
   ]
  },
  {
   "cell_type": "markdown",
   "id": "109bb7ec",
   "metadata": {},
   "source": [
    "Get user's home directory"
   ]
  },
  {
   "cell_type": "code",
   "execution_count": 5,
   "id": "af16dab6",
   "metadata": {},
   "outputs": [
    {
     "data": {
      "text/plain": [
       "PosixPath('/Users/kehoe')"
      ]
     },
     "execution_count": 5,
     "metadata": {},
     "output_type": "execute_result"
    }
   ],
   "source": [
    "Path.home()"
   ]
  },
  {
   "cell_type": "markdown",
   "id": "2103d4bb",
   "metadata": {},
   "source": [
    "Create a new path with an additional directory and a filename. Once we have the Path we can use\n",
    "pathlib method calls to return just the parts we want without changing the saved Path."
   ]
  },
  {
   "cell_type": "code",
   "execution_count": 6,
   "id": "58e841e5",
   "metadata": {},
   "outputs": [
    {
     "name": "stdout",
     "output_type": "stream",
     "text": [
      "fl:     /Users/kehoe/Git_area/AtmosphericPythonCourse/cool_stuff/new_dir/my_awesome_file.py\n",
      "parent: /Users/kehoe/Git_area/AtmosphericPythonCourse/cool_stuff/new_dir\n",
      "name:   my_awesome_file.py\n",
      "suffix: .py\n",
      "stem:   my_awesome_file\n",
      "anchor: /\n"
     ]
    }
   ],
   "source": [
    "fl = current_dir.joinpath(\"new_dir\", \"my_awesome_file.py\")\n",
    "print(\"fl:    \", fl)\n",
    "print(\"parent:\", fl.parent)  # Return just the path\n",
    "print(\"name:  \", fl.name)    # Return just the filename\n",
    "print(\"suffix:\", fl.suffix)  # return the filename suffix\n",
    "print(\"stem:  \", fl.stem)    # return the filename without path or suffix\n",
    "print(\"anchor:\", fl.anchor)  # return the base of the path"
   ]
  },
  {
   "cell_type": "markdown",
   "id": "aefd0ae0",
   "metadata": {},
   "source": [
    "## Let's play with creating new directories and the directory parts."
   ]
  },
  {
   "cell_type": "markdown",
   "id": "cbd3a0b3",
   "metadata": {},
   "source": [
    "Create a new path with additional directories and a file name"
   ]
  },
  {
   "cell_type": "code",
   "execution_count": 7,
   "id": "1c724c8b",
   "metadata": {},
   "outputs": [],
   "source": [
    "fl = current_dir.joinpath(\"new_dir\", \"second_dir\", \"my_awesome_file.py\")"
   ]
  },
  {
   "cell_type": "markdown",
   "id": "f8e3ee83",
   "metadata": {},
   "source": [
    "Take a full path and split into parts."
   ]
  },
  {
   "cell_type": "code",
   "execution_count": 8,
   "id": "d040ae8e",
   "metadata": {},
   "outputs": [
    {
     "name": "stdout",
     "output_type": "stream",
     "text": [
      "\n",
      "parts:       ('/', 'Users', 'kehoe', 'Git_area', 'AtmosphericPythonCourse', 'cool_stuff', 'new_dir', 'second_dir', 'my_awesome_file.py')\n",
      "type of parts: <class 'tuple'>\n",
      "parts as list: ['/', 'Users', 'kehoe', 'Git_area', 'AtmosphericPythonCourse', 'cool_stuff', 'new_dir', 'second_dir', 'my_awesome_file.py']\n"
     ]
    }
   ],
   "source": [
    "fl_pts = fl.parts\n",
    "\n",
    "print(\"\\nparts:      \", fl_pts)\n",
    "print(\"type of parts:\", type(fl_pts))\n",
    "print(\"parts as list:\", list(fl_pts))"
   ]
  },
  {
   "cell_type": "markdown",
   "id": "faaccba1",
   "metadata": {},
   "source": [
    "Now trim the path by using the parts and array indexing.\n",
    "\n",
    "If we use the * character at the start of the tuple it will unpack the tuple into individual parts to work with pathlib. If not, pathlib will not work. Think of the * as returning individual strings."
   ]
  },
  {
   "cell_type": "code",
   "execution_count": 9,
   "id": "9fb0c35b",
   "metadata": {},
   "outputs": [
    {
     "name": "stdout",
     "output_type": "stream",
     "text": [
      "/Users/kehoe/Git_area/AtmosphericPythonCourse/cool_stuff\n"
     ]
    }
   ],
   "source": [
    "print(Path(*fl_pts[:-3]))\n",
    "#print(Path(fl_pts[:-3]))"
   ]
  },
  {
   "cell_type": "markdown",
   "id": "348a2509",
   "metadata": {},
   "source": [
    "The alternative is to string together multiple parents methods. This is good when you know ahead of time how many levels down to go, but does not work when we don't know before compiling the program."
   ]
  },
  {
   "cell_type": "code",
   "execution_count": 10,
   "id": "a7c3ede9",
   "metadata": {},
   "outputs": [
    {
     "name": "stdout",
     "output_type": "stream",
     "text": [
      "/Users/kehoe/Git_area/AtmosphericPythonCourse/cool_stuff\n"
     ]
    }
   ],
   "source": [
    "print(fl.parent.parent.parent)"
   ]
  },
  {
   "cell_type": "markdown",
   "id": "c9434d57",
   "metadata": {},
   "source": [
    "## Let's play with getting a list of files from a directory"
   ]
  },
  {
   "cell_type": "code",
   "execution_count": 11,
   "id": "018dec80",
   "metadata": {},
   "outputs": [
    {
     "name": "stdout",
     "output_type": "stream",
     "text": [
      "current_dir: /Users/kehoe/Git_area/AtmosphericPythonCourse/cool_stuff\n"
     ]
    }
   ],
   "source": [
    "current_dir = Path.cwd()  # Get current directory\n",
    "print(\"current_dir:\", current_dir)"
   ]
  },
  {
   "cell_type": "markdown",
   "id": "869a8240",
   "metadata": {},
   "source": [
    "Search for all files that end in .py in the directory. Notice that all_py_files is returned as a generator not a list."
   ]
  },
  {
   "cell_type": "code",
   "execution_count": 12,
   "id": "47ee8055",
   "metadata": {},
   "outputs": [
    {
     "name": "stdout",
     "output_type": "stream",
     "text": [
      "\n",
      "all_py_files: <generator object Path.glob at 0x10662d9e0>\n"
     ]
    }
   ],
   "source": [
    "all_py_files = current_dir.glob(\"*.py\")\n",
    "print(\"\\nall_py_files:\", all_py_files)"
   ]
  },
  {
   "cell_type": "markdown",
   "id": "2937ccce",
   "metadata": {},
   "source": [
    "Convert the generator to a list so we can see it. Notice how the individual parts are still pathlib objects, not strings."
   ]
  },
  {
   "cell_type": "code",
   "execution_count": 13,
   "id": "e3386123",
   "metadata": {},
   "outputs": [
    {
     "data": {
      "text/plain": [
       "[PosixPath('/Users/kehoe/Git_area/AtmosphericPythonCourse/cool_stuff/multiprocessing_utility.py'),\n",
       " PosixPath('/Users/kehoe/Git_area/AtmosphericPythonCourse/cool_stuff/data_multiprocessing.py')]"
      ]
     },
     "execution_count": 13,
     "metadata": {},
     "output_type": "execute_result"
    }
   ],
   "source": [
    "all_py_files = list(all_py_files)\n",
    "all_py_files"
   ]
  },
  {
   "cell_type": "markdown",
   "id": "e419401c",
   "metadata": {},
   "source": [
    "If we wanted to convert all individual pathlib objects to strings, we can use a for loop or (even better) a list comprehension."
   ]
  },
  {
   "cell_type": "code",
   "execution_count": 14,
   "id": "9b21889a",
   "metadata": {},
   "outputs": [
    {
     "name": "stdout",
     "output_type": "stream",
     "text": [
      "['/Users/kehoe/Git_area/AtmosphericPythonCourse/cool_stuff/multiprocessing_utility.py', '/Users/kehoe/Git_area/AtmosphericPythonCourse/cool_stuff/data_multiprocessing.py']\n"
     ]
    }
   ],
   "source": [
    "conv_files = [str(x) for x in all_py_files]\n",
    "print(conv_files)"
   ]
  },
  {
   "cell_type": "markdown",
   "id": "6ca82e7a",
   "metadata": {},
   "source": [
    "Print the first file from the pathlib list without the full path directory list."
   ]
  },
  {
   "cell_type": "code",
   "execution_count": 15,
   "id": "ab527fe6",
   "metadata": {},
   "outputs": [
    {
     "data": {
      "text/plain": [
       "'multiprocessing_utility.py'"
      ]
     },
     "execution_count": 15,
     "metadata": {},
     "output_type": "execute_result"
    }
   ],
   "source": [
    "all_py_files[0].name"
   ]
  },
  {
   "cell_type": "markdown",
   "id": "8a7b5275",
   "metadata": {},
   "source": [
    "## Let's play with making directories and files then renaming, deleting files and directories."
   ]
  },
  {
   "cell_type": "markdown",
   "id": "cd87ec9d",
   "metadata": {},
   "source": [
    "Make a new path using current directory as base."
   ]
  },
  {
   "cell_type": "code",
   "execution_count": 16,
   "id": "fbc50c2e",
   "metadata": {},
   "outputs": [],
   "source": [
    "current_dir = Path.cwd()\n",
    "new_dirs = current_dir.joinpath(\"one\", \"two\")"
   ]
  },
  {
   "cell_type": "markdown",
   "id": "8d2811af",
   "metadata": {},
   "source": [
    "Actually create the new directory, using the parents keyword to make multiple directories all at once. The exists_ok keyword allows the directory to exist, but be ignored and not throw an exception."
   ]
  },
  {
   "cell_type": "code",
   "execution_count": 17,
   "id": "c698257e",
   "metadata": {},
   "outputs": [],
   "source": [
    "new_dirs.mkdir(parents=True, exist_ok=True)"
   ]
  },
  {
   "cell_type": "markdown",
   "id": "6bf9f322",
   "metadata": {},
   "source": [
    "Add a third level directory. Use exist_ok to do nothing if the directory already exists. Otherwise there will be an error."
   ]
  },
  {
   "cell_type": "code",
   "execution_count": 18,
   "id": "a6447859",
   "metadata": {},
   "outputs": [],
   "source": [
    "new_dirs = new_dirs.joinpath(\"three\")\n",
    "new_dirs.mkdir(exist_ok=True)"
   ]
  },
  {
   "cell_type": "markdown",
   "id": "58741ae7",
   "metadata": {},
   "source": [
    "Create a new pathlib with a filename."
   ]
  },
  {
   "cell_type": "code",
   "execution_count": 19,
   "id": "feda81ca",
   "metadata": {},
   "outputs": [],
   "source": [
    "new_file = new_dirs.joinpath(\"file.txt\")"
   ]
  },
  {
   "cell_type": "code",
   "execution_count": 20,
   "id": "add7fd86",
   "metadata": {},
   "outputs": [
    {
     "data": {
      "text/plain": [
       "11"
      ]
     },
     "execution_count": 20,
     "metadata": {},
     "output_type": "execute_result"
    }
   ],
   "source": [
    "new_file.write_text(\"Hello world\")"
   ]
  },
  {
   "cell_type": "markdown",
   "id": "7662f4b5",
   "metadata": {},
   "source": [
    "Read the file and print."
   ]
  },
  {
   "cell_type": "code",
   "execution_count": 21,
   "id": "23173b54",
   "metadata": {},
   "outputs": [
    {
     "data": {
      "text/plain": [
       "'Hello world'"
      ]
     },
     "execution_count": 21,
     "metadata": {},
     "output_type": "execute_result"
    }
   ],
   "source": [
    "new_file.read_text()"
   ]
  },
  {
   "cell_type": "markdown",
   "id": "8c3011f3",
   "metadata": {},
   "source": [
    "Change the pathlib suffix from .txt to .text_name. This changes the filename in Python memory but not the actual filename on disk."
   ]
  },
  {
   "cell_type": "code",
   "execution_count": 22,
   "id": "866483e0",
   "metadata": {},
   "outputs": [
    {
     "data": {
      "text/plain": [
       "PosixPath('/Users/kehoe/Git_area/AtmosphericPythonCourse/cool_stuff/one/two/three/file.text_name')"
      ]
     },
     "execution_count": 22,
     "metadata": {},
     "output_type": "execute_result"
    }
   ],
   "source": [
    "new_file.with_suffix(\".text_name\")"
   ]
  },
  {
   "cell_type": "markdown",
   "id": "56d2f12a",
   "metadata": {},
   "source": [
    "Change the full file name from file.text_name to a_new_file.txt"
   ]
  },
  {
   "cell_type": "code",
   "execution_count": 23,
   "id": "59b7b999",
   "metadata": {},
   "outputs": [
    {
     "data": {
      "text/plain": [
       "PosixPath('/Users/kehoe/Git_area/AtmosphericPythonCourse/cool_stuff/one/two/three/a_new_file.txt')"
      ]
     },
     "execution_count": 23,
     "metadata": {},
     "output_type": "execute_result"
    }
   ],
   "source": [
    "new_file.with_name(\"a_new_file.txt\")"
   ]
  },
  {
   "cell_type": "markdown",
   "id": "8785938f",
   "metadata": {},
   "source": [
    "Create a new pathlib path one directory down from the previously made directory pathlib."
   ]
  },
  {
   "cell_type": "code",
   "execution_count": 24,
   "id": "e0bf6895",
   "metadata": {},
   "outputs": [
    {
     "name": "stdout",
     "output_type": "stream",
     "text": [
      "new_dirs2: /Users/kehoe/Git_area/AtmosphericPythonCourse/cool_stuff/one/two\n"
     ]
    }
   ],
   "source": [
    "new_dirs2 = new_dirs.parent\n",
    "print('new_dirs2:', new_dirs2)\n",
    "new_file2 = new_dirs2.joinpath(\"greatest_file_ever.csv\")"
   ]
  },
  {
   "cell_type": "markdown",
   "id": "7138ad61",
   "metadata": {},
   "source": [
    "Create the file, with nothing inside."
   ]
  },
  {
   "cell_type": "code",
   "execution_count": 25,
   "id": "81af4362",
   "metadata": {},
   "outputs": [],
   "source": [
    "new_file2.touch()"
   ]
  },
  {
   "cell_type": "markdown",
   "id": "6f869785",
   "metadata": {},
   "source": [
    "Use the pathlib path to extract the directory path and create a new full path filename."
   ]
  },
  {
   "cell_type": "code",
   "execution_count": 26,
   "id": "5b61bc8f",
   "metadata": {},
   "outputs": [],
   "source": [
    "new_file3 = new_file2.parent.joinpath(\"good_not_great_file.csv\")"
   ]
  },
  {
   "cell_type": "markdown",
   "id": "9821750a",
   "metadata": {},
   "source": [
    "Use this with a new name to rename the file."
   ]
  },
  {
   "cell_type": "code",
   "execution_count": 27,
   "id": "5d2392d2",
   "metadata": {},
   "outputs": [
    {
     "data": {
      "text/plain": [
       "PosixPath('/Users/kehoe/Git_area/AtmosphericPythonCourse/cool_stuff/one/two/good_not_great_file.csv')"
      ]
     },
     "execution_count": 27,
     "metadata": {},
     "output_type": "execute_result"
    }
   ],
   "source": [
    "new_file2.replace(new_file3)"
   ]
  },
  {
   "cell_type": "markdown",
   "id": "53014bc8",
   "metadata": {},
   "source": [
    "Delete a file. Note, it will not ask if you are sure, so be careful."
   ]
  },
  {
   "cell_type": "code",
   "execution_count": 28,
   "id": "0b80e0a2",
   "metadata": {},
   "outputs": [],
   "source": [
    "new_file.unlink()"
   ]
  },
  {
   "cell_type": "markdown",
   "id": "bde938bd",
   "metadata": {},
   "source": [
    "Delete a directory. The directory needs to be empty. It will not ask if you are deleting the correct directory, so be careful."
   ]
  },
  {
   "cell_type": "code",
   "execution_count": 29,
   "id": "6b2c0eab",
   "metadata": {},
   "outputs": [],
   "source": [
    "new_dirs.rmdir()"
   ]
  },
  {
   "cell_type": "markdown",
   "id": "e460ab55",
   "metadata": {},
   "source": [
    "Use the current directory to get path to base of our new directory tree."
   ]
  },
  {
   "cell_type": "code",
   "execution_count": 30,
   "id": "59e6a965",
   "metadata": {},
   "outputs": [
    {
     "data": {
      "text/plain": [
       "PosixPath('/Users/kehoe/Git_area/AtmosphericPythonCourse/cool_stuff/one')"
      ]
     },
     "execution_count": 30,
     "metadata": {},
     "output_type": "execute_result"
    }
   ],
   "source": [
    "rm_dir = Path.cwd().joinpath(\"one\")\n",
    "rm_dir"
   ]
  },
  {
   "cell_type": "markdown",
   "id": "e9227c10",
   "metadata": {},
   "source": [
    "Use a different library to delete a directory with something in it. Be VERY CAREFUL with this!!!!! This will remove the directory even if it contains files and other directories, and it will not ask. You had better know what you are doing to use this."
   ]
  },
  {
   "cell_type": "code",
   "execution_count": 31,
   "id": "f27d6bfc",
   "metadata": {},
   "outputs": [],
   "source": [
    "shutil.rmtree(rm_dir)"
   ]
  },
  {
   "cell_type": "markdown",
   "id": "50df0d80",
   "metadata": {},
   "source": [
    "## Let's play with metadata about the file."
   ]
  },
  {
   "cell_type": "markdown",
   "id": "40ab11d6",
   "metadata": {},
   "source": [
    "Create pathlib path to this file in current directory."
   ]
  },
  {
   "cell_type": "code",
   "execution_count": 32,
   "id": "49b5380f",
   "metadata": {},
   "outputs": [],
   "source": [
    "new_file = Path(\"path_stuff.ipynb\")"
   ]
  },
  {
   "cell_type": "markdown",
   "id": "f9c7e939",
   "metadata": {},
   "source": [
    "Get information about the file"
   ]
  },
  {
   "cell_type": "code",
   "execution_count": 33,
   "id": "5fb4bfba",
   "metadata": {},
   "outputs": [
    {
     "data": {
      "text/plain": [
       "os.stat_result(st_mode=33188, st_ino=3463036, st_dev=16777233, st_nlink=1, st_uid=503, st_gid=20, st_size=26872, st_atime=1696351701, st_mtime=1696351821, st_ctime=1696351821)"
      ]
     },
     "execution_count": 33,
     "metadata": {},
     "output_type": "execute_result"
    }
   ],
   "source": [
    "stats = new_file.stat()\n",
    "\n",
    "stats"
   ]
  },
  {
   "cell_type": "markdown",
   "id": "ec18b9c7",
   "metadata": {},
   "source": [
    "Print size of file in bytes"
   ]
  },
  {
   "cell_type": "code",
   "execution_count": 34,
   "id": "91aad0d0",
   "metadata": {},
   "outputs": [
    {
     "data": {
      "text/plain": [
       "26872"
      ]
     },
     "execution_count": 34,
     "metadata": {},
     "output_type": "execute_result"
    }
   ],
   "source": [
    "stats.st_size"
   ]
  },
  {
   "cell_type": "markdown",
   "id": "73c63e2e",
   "metadata": {},
   "source": [
    "Print the three different times associated with the file"
   ]
  },
  {
   "cell_type": "code",
   "execution_count": 35,
   "id": "78f24e99",
   "metadata": {},
   "outputs": [
    {
     "name": "stdout",
     "output_type": "stream",
     "text": [
      "st_ctime: 2023-10-03 16:50:21.533723\n",
      "st_mtime: 2023-10-03 16:50:21.533723\n",
      "st_atime: 2023-10-03 16:48:21.492500\n"
     ]
    }
   ],
   "source": [
    "print(\"st_ctime:\", dt.datetime.utcfromtimestamp(stats.st_ctime))\n",
    "print(\"st_mtime:\", dt.datetime.utcfromtimestamp(stats.st_mtime))\n",
    "print(\"st_atime:\", dt.datetime.utcfromtimestamp(stats.st_atime))"
   ]
  },
  {
   "cell_type": "markdown",
   "id": "fc700d93",
   "metadata": {},
   "source": [
    "## Play with some more advanced Pathlib stuff to find specific files."
   ]
  },
  {
   "cell_type": "markdown",
   "id": "f82dead6",
   "metadata": {},
   "source": [
    "Normal creation of a path"
   ]
  },
  {
   "cell_type": "code",
   "execution_count": 36,
   "id": "0e847c5b",
   "metadata": {},
   "outputs": [
    {
     "data": {
      "text/plain": [
       "PosixPath('../data/sgpmetE13.b1')"
      ]
     },
     "execution_count": 36,
     "metadata": {},
     "output_type": "execute_result"
    }
   ],
   "source": [
    "data_path = Path(\"..\", \"data\", \"sgpmetE13.b1\")\n",
    "data_path"
   ]
  },
  {
   "cell_type": "markdown",
   "id": "a08d35ad",
   "metadata": {},
   "source": [
    "Using a special \"/\" operator. This will add directories or files to an existing path. It is actually OS independent and will work on Windows even if the path separator is not that character."
   ]
  },
  {
   "cell_type": "code",
   "execution_count": 37,
   "id": "e29cf5f4",
   "metadata": {},
   "outputs": [
    {
     "data": {
      "text/plain": [
       "PosixPath('/Users/kehoe/Git_area/AtmosphericPythonCourse/cool_stuff/../data/sgpmetE13.b1')"
      ]
     },
     "execution_count": 37,
     "metadata": {},
     "output_type": "execute_result"
    }
   ],
   "source": [
    "data_path = Path.cwd() / \"..\" / \"data\" / \"sgpmetE13.b1\"\n",
    "data_path"
   ]
  },
  {
   "cell_type": "markdown",
   "id": "c60bf9e9",
   "metadata": {},
   "source": [
    "Use glob method to search the directory for files ending in '.cdf'"
   ]
  },
  {
   "cell_type": "code",
   "execution_count": 38,
   "id": "b154b472",
   "metadata": {},
   "outputs": [],
   "source": [
    "files = data_path.glob(\"*.cdf\")"
   ]
  },
  {
   "cell_type": "markdown",
   "id": "f80e131f",
   "metadata": {},
   "source": [
    "Loop over all the returned files and check if the data is in that pathlib object. We need to perform match on a single pathlib object entry, hence the loop."
   ]
  },
  {
   "cell_type": "code",
   "execution_count": 39,
   "id": "5d67e519",
   "metadata": {},
   "outputs": [
    {
     "name": "stdout",
     "output_type": "stream",
     "text": [
      "/Users/kehoe/Git_area/AtmosphericPythonCourse/cool_stuff/../data/sgpmetE13.b1/sgpmetE13.b1.20191101.000000.cdf True\n",
      "/Users/kehoe/Git_area/AtmosphericPythonCourse/cool_stuff/../data/sgpmetE13.b1/sgpmetE13.b1.20191104.000000.cdf False\n",
      "/Users/kehoe/Git_area/AtmosphericPythonCourse/cool_stuff/../data/sgpmetE13.b1/sgpmetE13.b1.20191103.000000.cdf False\n",
      "/Users/kehoe/Git_area/AtmosphericPythonCourse/cool_stuff/../data/sgpmetE13.b1/sgpmetE13.b1.20191102.000000.cdf False\n"
     ]
    }
   ],
   "source": [
    "for fl in files:\n",
    "    print(fl, fl.match(\"*.20191101.*\"))"
   ]
  },
  {
   "cell_type": "markdown",
   "id": "0d5af524",
   "metadata": {},
   "source": [
    "## Use the recursive file glob to look for files in a data directory tree."
   ]
  },
  {
   "cell_type": "markdown",
   "id": "00be5ade",
   "metadata": {},
   "source": [
    "Make a relative path pathlib to base of data directory"
   ]
  },
  {
   "cell_type": "code",
   "execution_count": 40,
   "id": "b930afa2",
   "metadata": {},
   "outputs": [
    {
     "data": {
      "text/plain": [
       "PosixPath('../data')"
      ]
     },
     "execution_count": 40,
     "metadata": {},
     "output_type": "execute_result"
    }
   ],
   "source": [
    "data_path = Path(\"..\", \"data\")\n",
    "\n",
    "data_path"
   ]
  },
  {
   "cell_type": "markdown",
   "id": "72a03bec",
   "metadata": {},
   "source": [
    "Initiallize an empty list"
   ]
  },
  {
   "cell_type": "code",
   "execution_count": 41,
   "id": "a615ccaf",
   "metadata": {},
   "outputs": [],
   "source": [
    "files = []"
   ]
  },
  {
   "cell_type": "markdown",
   "id": "29ab21cf",
   "metadata": {},
   "source": [
    "Recursively search for a file ending in the old netCDF extension. Extend the existing list by adding on the list of returned matched files."
   ]
  },
  {
   "cell_type": "code",
   "execution_count": 42,
   "id": "47c482cf",
   "metadata": {},
   "outputs": [],
   "source": [
    "files_found = data_path.rglob(\"*.cdf\")\n",
    "files.extend(files_found)"
   ]
  },
  {
   "cell_type": "markdown",
   "id": "f9562440",
   "metadata": {},
   "source": [
    "Recursively search for a file ending in new netCDF extension. Extend the existing list by adding on the list of returned matched files."
   ]
  },
  {
   "cell_type": "code",
   "execution_count": 43,
   "id": "ff44ea6b",
   "metadata": {},
   "outputs": [],
   "source": [
    "files.extend(data_path.rglob(\"*.nc\"))"
   ]
  },
  {
   "cell_type": "markdown",
   "id": "8c34ff26",
   "metadata": {},
   "source": [
    "Print number of files found"
   ]
  },
  {
   "cell_type": "code",
   "execution_count": 44,
   "id": "aa00257b",
   "metadata": {},
   "outputs": [
    {
     "name": "stdout",
     "output_type": "stream",
     "text": [
      "\n",
      "len(files): 9\n"
     ]
    }
   ],
   "source": [
    "print(\"\\nlen(files):\", len(files))"
   ]
  },
  {
   "cell_type": "markdown",
   "id": "1d2abf08",
   "metadata": {},
   "source": [
    "Loop over the list, printing each filename. Notice how it prints the file path in a way that looks like a normal string, but remember that it's actually a pathlib object."
   ]
  },
  {
   "cell_type": "code",
   "execution_count": 45,
   "id": "90863aba",
   "metadata": {},
   "outputs": [
    {
     "name": "stdout",
     "output_type": "stream",
     "text": [
      "../data/sgpmetE13.b1/sgpmetE13.b1.20191101.000000.cdf\n",
      "../data/sgpmetE13.b1/sgpmetE13.b1.20191104.000000.cdf\n",
      "../data/sgpmetE13.b1/sgpmetE13.b1.20191103.000000.cdf\n",
      "../data/sgpmetE13.b1/sgpmetE13.b1.20191102.000000.cdf\n",
      "../data/sgpecorsfE14.b1/sgpecorsfE14.b1.20191101.000000.nc\n",
      "../data/sgpceilC1.b1/sgpceilC1.b1.20191103.000012.nc\n",
      "../data/sgpmfrsrC1.b1/sgpmfrsrC1.b1.20190802.000000.nc\n",
      "../data/sgpmfrsrC1.b1/sgpmfrsrC1.b1.20190803.000000.nc\n",
      "../data/sgpmfrsrC1.b1/sgpmfrsrC1.b1.20190801.000000.nc\n"
     ]
    }
   ],
   "source": [
    "for fl in files:\n",
    "    print(fl)"
   ]
  }
 ],
 "metadata": {
  "kernelspec": {
   "display_name": "Python 3 (ipykernel)",
   "language": "python",
   "name": "python3"
  },
  "language_info": {
   "codemirror_mode": {
    "name": "ipython",
    "version": 3
   },
   "file_extension": ".py",
   "mimetype": "text/x-python",
   "name": "python",
   "nbconvert_exporter": "python",
   "pygments_lexer": "ipython3",
   "version": "3.9.16"
  }
 },
 "nbformat": 4,
 "nbformat_minor": 5
}

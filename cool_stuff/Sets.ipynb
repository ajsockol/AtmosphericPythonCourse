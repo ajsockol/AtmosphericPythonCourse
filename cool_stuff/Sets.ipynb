{
 "cells": [
  {
   "cell_type": "markdown",
   "id": "a129d53b-98c9-4cd1-a199-92601c867283",
   "metadata": {},
   "source": [
    "# Python Sets\n",
    "Python has a data type called sets. Sets are unordered collections of unique elements. They are similar to lists and tuples but with a few differences that don't seem helpful until you see how they solve many types of issues. You may not use them as often as lists or tuples, but knowing they exists is helpful to greatly simplify those few instances where they excel."
   ]
  },
  {
   "cell_type": "markdown",
   "id": "ad34037f-fff9-4592-9340-af5a45c39806",
   "metadata": {},
   "source": [
    "Sets are part of standard Python. There is no need to import to use them."
   ]
  },
  {
   "cell_type": "markdown",
   "id": "74b6e0df-00aa-4557-a19f-903ecd1addbe",
   "metadata": {},
   "source": [
    "To create a set you will need to use the set() function with a list, tuple, array, ... some sort of container. All values in a set will be unique."
   ]
  },
  {
   "cell_type": "code",
   "execution_count": 1,
   "id": "10a961cf-d8f0-4091-a16d-668598479952",
   "metadata": {},
   "outputs": [
    {
     "name": "stdout",
     "output_type": "stream",
     "text": [
      "<class 'list'> [1, 2, 3, 4, 5, 4, 3]\n",
      "<class 'set'> {1, 2, 3, 4, 5}\n"
     ]
    }
   ],
   "source": [
    "import numpy as np\n",
    "numbers = [1, 2, 3, 4, 5, 4, 3]  # Notice the values repeat\n",
    "a = set(numbers)  # Create set from list\n",
    "b = set((4, 5, 6, 7, 4, 5))  # Creaet set from tuple\n",
    "c = set(np.arange(6, 11))  # Create set from numpy array\n",
    "\n",
    "print(type(numbers), numbers)\n",
    "print(type(a), a)  # Notice how it prints the values in curly brackets."
   ]
  },
  {
   "cell_type": "markdown",
   "id": "3c74dfb9-68f0-47fa-a773-183de8c878c7",
   "metadata": {},
   "source": [
    "We can check for the existenance of a value in the set with the same notiation as lists."
   ]
  },
  {
   "cell_type": "code",
   "execution_count": 2,
   "id": "7801ce1a-6385-4e56-9296-0e32fce57a1b",
   "metadata": {},
   "outputs": [
    {
     "data": {
      "text/plain": [
       "True"
      ]
     },
     "execution_count": 2,
     "metadata": {},
     "output_type": "execute_result"
    }
   ],
   "source": [
    "1 in numbers  # Does the value 1 exist in the list values?"
   ]
  },
  {
   "cell_type": "code",
   "execution_count": 3,
   "id": "3a13e698-eebf-4084-91ff-34ac948d972a",
   "metadata": {},
   "outputs": [
    {
     "data": {
      "text/plain": [
       "True"
      ]
     },
     "execution_count": 3,
     "metadata": {},
     "output_type": "execute_result"
    }
   ],
   "source": [
    "1 in a  # Does the value 1 exist in the set a?"
   ]
  },
  {
   "cell_type": "code",
   "execution_count": 4,
   "id": "d948a546-f9a7-4947-81ae-5dded6a4193f",
   "metadata": {},
   "outputs": [
    {
     "data": {
      "text/plain": [
       "True"
      ]
     },
     "execution_count": 4,
     "metadata": {},
     "output_type": "execute_result"
    }
   ],
   "source": [
    "6 not in a  # Does the value 6 not exist in a?"
   ]
  },
  {
   "cell_type": "code",
   "execution_count": 5,
   "id": "84268bef-a6a6-4b5d-9ce1-15236953076f",
   "metadata": {},
   "outputs": [
    {
     "data": {
      "text/plain": [
       "5"
      ]
     },
     "execution_count": 5,
     "metadata": {},
     "output_type": "execute_result"
    }
   ],
   "source": [
    "len(a)  # The size of set a"
   ]
  },
  {
   "cell_type": "markdown",
   "id": "1a4c73b6-f3fb-461e-9ec8-8d10e6d582e2",
   "metadata": {},
   "source": [
    "But here is where sets excel. Since they contain a unique set of values we can pass in a list and get a unique set back. It can be any imutable object including a number, string, tuple, array, object."
   ]
  },
  {
   "cell_type": "code",
   "execution_count": 6,
   "id": "6869dffe-8cbb-4278-b2d9-9830b02983c0",
   "metadata": {},
   "outputs": [
    {
     "data": {
      "text/plain": [
       "{(1, 2), 1, 2, 3, 'four', 'three'}"
      ]
     },
     "execution_count": 6,
     "metadata": {},
     "output_type": "execute_result"
    }
   ],
   "source": [
    "values = [1, 2, \"three\", \"four\", 2, 1, 3, \"four\", (1, 2)]\n",
    "set(values)"
   ]
  },
  {
   "cell_type": "code",
   "execution_count": 7,
   "id": "0e509946-37a6-4d45-a483-f80e04b96238",
   "metadata": {},
   "outputs": [
    {
     "name": "stdout",
     "output_type": "stream",
     "text": [
      "union: {1, 2, 3, 4, 5, 6}\n",
      "intersection: {3, 4}\n",
      "difference a - b: {1, 2}\n",
      "difference b - a: {5, 6}\n",
      "symmetric_difference: {1, 2, 5, 6}\n"
     ]
    }
   ],
   "source": [
    "a = set([1, 2, 3, 4])\n",
    "b = set([3, 4, 5, 6])\n",
    "\n",
    "print('union:', a.union(b))\n",
    "print('intersection:', a.intersection(b))\n",
    "print('difference a - b:', a.difference(b))\n",
    "print('difference b - a:', b.difference(a))\n",
    "print('symmetric_difference:', a.symmetric_difference(b))"
   ]
  },
  {
   "cell_type": "markdown",
   "id": "c741edd8-e5a9-4956-9be5-3f4fb9924a22",
   "metadata": {},
   "source": [
    "We can also check if one set is contained within a different set."
   ]
  },
  {
   "cell_type": "code",
   "execution_count": 8,
   "id": "8eca92a1-ac85-499c-b0a5-140d1cf72fa0",
   "metadata": {},
   "outputs": [
    {
     "data": {
      "text/plain": [
       "True"
      ]
     },
     "execution_count": 8,
     "metadata": {},
     "output_type": "execute_result"
    }
   ],
   "source": [
    "a = set(['one', 'two', 'three', 'four'])\n",
    "b = set(['two', 'three'])\n",
    "b.issubset(a)"
   ]
  },
  {
   "cell_type": "markdown",
   "id": "e14a3818-aabf-4809-a883-3e2ae8aefb2d",
   "metadata": {},
   "source": [
    "Or if a every element of a set is in another set."
   ]
  },
  {
   "cell_type": "code",
   "execution_count": 9,
   "id": "459d28bf-a03c-4477-be6f-4433920c0307",
   "metadata": {},
   "outputs": [
    {
     "data": {
      "text/plain": [
       "True"
      ]
     },
     "execution_count": 9,
     "metadata": {},
     "output_type": "execute_result"
    }
   ],
   "source": [
    "a.issuperset(b)"
   ]
  },
  {
   "cell_type": "code",
   "execution_count": 10,
   "id": "790ae4d8-5210-4446-a1ed-5aa91db508ec",
   "metadata": {},
   "outputs": [
    {
     "data": {
      "text/plain": [
       "False"
      ]
     },
     "execution_count": 10,
     "metadata": {},
     "output_type": "execute_result"
    }
   ],
   "source": [
    "b.issuperset(a)"
   ]
  },
  {
   "cell_type": "markdown",
   "id": "3fce8b78-36ed-4d3d-bdbb-ee3c55ef4144",
   "metadata": {},
   "source": [
    "Adding and removing values requires specail methods. They can add inplace or return an updated version."
   ]
  },
  {
   "cell_type": "code",
   "execution_count": 11,
   "id": "8e8d661b-a2bc-4929-acf3-72aee9400916",
   "metadata": {},
   "outputs": [
    {
     "data": {
      "text/plain": [
       "{'five', 'four', 'one', 'three', 'two'}"
      ]
     },
     "execution_count": 11,
     "metadata": {},
     "output_type": "execute_result"
    }
   ],
   "source": [
    "a.add('five')\n",
    "a"
   ]
  },
  {
   "cell_type": "code",
   "execution_count": 12,
   "id": "84aa12c3-ab27-4cb7-899e-7206c5bfe8f6",
   "metadata": {},
   "outputs": [
    {
     "data": {
      "text/plain": [
       "{'five', 'four', 'one', 'seven', 'six', 'three', 'two'}"
      ]
     },
     "execution_count": 12,
     "metadata": {},
     "output_type": "execute_result"
    }
   ],
   "source": [
    "a.update(['six', 'seven'])\n",
    "a"
   ]
  },
  {
   "cell_type": "code",
   "execution_count": 13,
   "id": "8e951180-0585-4dae-bf05-579fa997a20d",
   "metadata": {},
   "outputs": [
    {
     "data": {
      "text/plain": [
       "{'five', 'four', 'one', 'six', 'three', 'two'}"
      ]
     },
     "execution_count": 13,
     "metadata": {},
     "output_type": "execute_result"
    }
   ],
   "source": [
    "a.remove('seven')  # Will raise error if 'seven' is not in the set.\n",
    "a"
   ]
  },
  {
   "cell_type": "code",
   "execution_count": 14,
   "id": "430c267e-9185-4dda-ad13-d97af36f2d43",
   "metadata": {},
   "outputs": [],
   "source": [
    "a.discard('seven')  # Handles the fine even with 'seven' not in the set."
   ]
  },
  {
   "cell_type": "markdown",
   "id": "111298d2-9de1-4277-a1a3-cc6cc630834c",
   "metadata": {},
   "source": [
    "We can ask that the set be updated to only keep where values are in both."
   ]
  },
  {
   "cell_type": "code",
   "execution_count": 15,
   "id": "d49d2c1b-cc1b-4d94-b298-81fa3d1ad521",
   "metadata": {},
   "outputs": [
    {
     "data": {
      "text/plain": [
       "{3, 4}"
      ]
     },
     "execution_count": 15,
     "metadata": {},
     "output_type": "execute_result"
    }
   ],
   "source": [
    "a = set([1, 2, 3, 4])\n",
    "b = set([3, 4, 5, 6])\n",
    "a.intersection_update(b)\n",
    "a"
   ]
  },
  {
   "cell_type": "markdown",
   "id": "e73780be-1992-4ea6-bcbd-b7037274f07d",
   "metadata": {},
   "source": [
    "Have specific values removed from a set. Notice that the values in the method are not a set. It will automatically update to work when using the method. But will raise an error if the method is attempted to run on \"a\" and it is not a set."
   ]
  },
  {
   "cell_type": "code",
   "execution_count": 16,
   "id": "ae2d8895-89de-4ae9-b116-ce60d13fcdab",
   "metadata": {},
   "outputs": [
    {
     "data": {
      "text/plain": [
       "{1, 2}"
      ]
     },
     "execution_count": 16,
     "metadata": {},
     "output_type": "execute_result"
    }
   ],
   "source": [
    "a = set([1, 2, 3, 4])\n",
    "a.difference_update([3, 4, 5, 6])\n",
    "a"
   ]
  },
  {
   "cell_type": "markdown",
   "id": "a5325b8c-ed68-4983-95e0-df506c0b49dd",
   "metadata": {},
   "source": [
    "Or update to only have values that do not match."
   ]
  },
  {
   "cell_type": "code",
   "execution_count": 17,
   "id": "6e9d3749-d664-4812-8875-9df13ea2ccb3",
   "metadata": {},
   "outputs": [
    {
     "data": {
      "text/plain": [
       "{1, 2, 5, 6}"
      ]
     },
     "execution_count": 17,
     "metadata": {},
     "output_type": "execute_result"
    }
   ],
   "source": [
    "a = set([1, 2, 3, 4])\n",
    "b = [3, 4, 5, 6]\n",
    "a.symmetric_difference_update(b)\n",
    "a"
   ]
  },
  {
   "cell_type": "markdown",
   "id": "8716b835-9b60-40df-a458-f85559fbe533",
   "metadata": {},
   "source": [
    "## OK neat tricks but why do I care?\n",
    "Here are two examples that do the same thing. One with lists and one with sets. Notice how cleaner the set way of doing things is."
   ]
  },
  {
   "cell_type": "code",
   "execution_count": 18,
   "id": "59b7d4e6-dacd-4eb3-a6d6-1d84186571a5",
   "metadata": {},
   "outputs": [
    {
     "data": {
      "text/plain": [
       "[2, 3, 4]"
      ]
     },
     "execution_count": 18,
     "metadata": {},
     "output_type": "execute_result"
    }
   ],
   "source": [
    "a = [1, 2, 3, 4, 5]\n",
    "b = [2, 3, 4]\n",
    "c = []\n",
    "for ii in b:\n",
    "    if ii in a:\n",
    "        c.append(ii)      \n",
    "c"
   ]
  },
  {
   "cell_type": "code",
   "execution_count": 19,
   "id": "88912617-80fd-4bec-9cb1-fcad0a5e66d1",
   "metadata": {},
   "outputs": [
    {
     "data": {
      "text/plain": [
       "[2, 3, 4]"
      ]
     },
     "execution_count": 19,
     "metadata": {},
     "output_type": "execute_result"
    }
   ],
   "source": [
    "a = [1, 2, 3, 4, 5]\n",
    "b = [2, 3, 4]\n",
    "c = list(set(a).intersection(b))\n",
    "c"
   ]
  },
  {
   "cell_type": "markdown",
   "id": "84962692-eb0b-42be-82c0-c4f5006a89e8",
   "metadata": {},
   "source": [
    "Here is an example where we add and remove values. Notice that we need to catch exceptions when we use the list as trying to remove a value that does not exist in the list will not work. That is not a problem with the set."
   ]
  },
  {
   "cell_type": "code",
   "execution_count": 20,
   "id": "1df53f6b-17aa-4961-a5c1-202ae3a8eb8b",
   "metadata": {},
   "outputs": [
    {
     "data": {
      "text/plain": [
       "[1, 2, 3, 4, 5, 7]"
      ]
     },
     "execution_count": 20,
     "metadata": {},
     "output_type": "execute_result"
    }
   ],
   "source": [
    "a = [1, 2, 3, 4, 5]\n",
    "a.append(7)\n",
    "try:\n",
    "    a.remove(6)\n",
    "except ValueError:\n",
    "    pass\n",
    "\n",
    "a"
   ]
  },
  {
   "cell_type": "code",
   "execution_count": 21,
   "id": "13b0b070-74d7-4c41-8f07-1959caa7d454",
   "metadata": {},
   "outputs": [
    {
     "data": {
      "text/plain": [
       "[1, 2, 3, 4, 5, 7]"
      ]
     },
     "execution_count": 21,
     "metadata": {},
     "output_type": "execute_result"
    }
   ],
   "source": [
    "a = set([1, 2, 3, 4, 5])\n",
    "a.add(7)\n",
    "a.discard(6)\n",
    "a = list(a)\n",
    "a"
   ]
  },
  {
   "cell_type": "markdown",
   "id": "16c66acd-0db5-4a59-a28b-524c0f22a2ba",
   "metadata": {},
   "source": [
    "There is a second syntax for the methods described above. Both work the same, choose the way that works for you."
   ]
  },
  {
   "cell_type": "code",
   "execution_count": 22,
   "id": "f750f0e1-e70f-48da-a4f2-05ea7748678e",
   "metadata": {},
   "outputs": [
    {
     "name": "stdout",
     "output_type": "stream",
     "text": [
      "union: {1, 2, 3, 4, 5, 6}\n",
      "intersection: {3, 4}\n",
      "difference a - b: {1, 2}\n",
      "symmetric_difference: {1, 2, 5, 6}\n"
     ]
    }
   ],
   "source": [
    "a = set([1, 2, 3, 4])\n",
    "b = set([3, 4, 5, 6])\n",
    "\n",
    "print('union:', a | b)\n",
    "print('intersection:', a & b)\n",
    "print('difference a - b:', a - b)\n",
    "print('symmetric_difference:', a ^ b)"
   ]
  },
  {
   "cell_type": "markdown",
   "id": "df8b8259-6b40-41b5-b7bc-d0c72623b9a7",
   "metadata": {},
   "source": [
    "Here is a typical example of how to simplify making a unique list."
   ]
  },
  {
   "cell_type": "code",
   "execution_count": 23,
   "id": "eb34a1eb-6f9f-46d0-a09a-305ea6694d0b",
   "metadata": {},
   "outputs": [],
   "source": [
    "engineers = set(['John', 'Jane', 'Jack', 'Janice', 'Tim'])\n",
    "programmers = set(['Jack', 'Sam', 'Susan', 'Janice', 'Tim'])\n",
    "managers = set(['Jane', 'Jack', 'Susan', 'Zack', 'Tim'])"
   ]
  },
  {
   "cell_type": "code",
   "execution_count": 24,
   "id": "1de7bc82-2e62-4bc4-ae80-b28f104bcb54",
   "metadata": {},
   "outputs": [
    {
     "name": "stdout",
     "output_type": "stream",
     "text": [
      "union: {'Sam', 'Jane', 'Susan', 'Janice', 'John', 'Jack', 'Zack', 'Tim'}\n",
      "intersection: {'Jack', 'Tim'}\n",
      "difference: {'Zack'}\n"
     ]
    }
   ],
   "source": [
    "print('union:', engineers | programmers | managers)\n",
    "print('intersection:', engineers & managers & programmers)\n",
    "print('difference:', managers - engineers - programmers)"
   ]
  },
  {
   "cell_type": "markdown",
   "id": "7564f81c-6289-4940-8035-14f25b04a6ad",
   "metadata": {},
   "source": [
    "Depending on the size of comparisons the set searching may be quicker. One down side to useing sets is that you may need to use a list so you will need to convert to set, do the work, convert back to list. The conversion is quick enough you will never know the difference buy you will need to remember to convert."
   ]
  },
  {
   "cell_type": "code",
   "execution_count": 25,
   "id": "6d74acc3-2401-4dc2-9052-0743d736f20d",
   "metadata": {},
   "outputs": [],
   "source": [
    "import random\n",
    "\n",
    "a = list(range(0, 100000))\n",
    "b = random.choices(a, k=100)"
   ]
  },
  {
   "cell_type": "code",
   "execution_count": 26,
   "id": "8967456a-71ef-49cc-b60f-0889673124fa",
   "metadata": {},
   "outputs": [
    {
     "name": "stdout",
     "output_type": "stream",
     "text": [
      "45.6 ms ± 2.91 ms per loop (mean ± std. dev. of 7 runs, 10 loops each)\n"
     ]
    }
   ],
   "source": [
    "%%timeit\n",
    "\n",
    "c = [ii for ii in b if ii in a]"
   ]
  },
  {
   "cell_type": "code",
   "execution_count": 27,
   "id": "ed7e45dc-2995-4dab-8a12-457da6ffcc77",
   "metadata": {},
   "outputs": [
    {
     "name": "stdout",
     "output_type": "stream",
     "text": [
      "2.14 ms ± 348 µs per loop (mean ± std. dev. of 7 runs, 100 loops each)\n"
     ]
    }
   ],
   "source": [
    "%%timeit\n",
    "\n",
    "c = list(set(b) & set(a))"
   ]
  },
  {
   "cell_type": "markdown",
   "id": "37b48290-c7c2-4d8f-b6eb-07953dea4d56",
   "metadata": {},
   "source": [
    "Other common functions that work on lists also work on sets."
   ]
  },
  {
   "cell_type": "code",
   "execution_count": 28,
   "id": "e707f17c-05d9-496b-8923-f89781358bdc",
   "metadata": {},
   "outputs": [
    {
     "data": {
      "text/plain": [
       "(6, 20, 0, [0, 1, 2, 3, 4, 20], 30, True)"
      ]
     },
     "execution_count": 28,
     "metadata": {},
     "output_type": "execute_result"
    }
   ],
   "source": [
    "a = set([20, 1, 2, 3, 4, 0])\n",
    "b = set([1, 2, 3, 4, 0, 20])\n",
    "\n",
    "len(a), max(a), min(a), sorted(a), sum(a), a == b"
   ]
  }
 ],
 "metadata": {
  "kernelspec": {
   "display_name": "Python 3 (ipykernel)",
   "language": "python",
   "name": "python3"
  },
  "language_info": {
   "codemirror_mode": {
    "name": "ipython",
    "version": 3
   },
   "file_extension": ".py",
   "mimetype": "text/x-python",
   "name": "python",
   "nbconvert_exporter": "python",
   "pygments_lexer": "ipython3",
   "version": "3.11.6"
  }
 },
 "nbformat": 4,
 "nbformat_minor": 5
}

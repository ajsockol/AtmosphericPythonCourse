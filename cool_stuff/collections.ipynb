{
 "cells": [
  {
   "cell_type": "markdown",
   "id": "4753a9d3-23b5-448f-8bb7-9b66f16c56fd",
   "metadata": {},
   "source": [
    "# Collections adds fuctionality to the basic Python ecosysetem\n",
    "The base data types in Python are quite powerful but there are times when you want to do something and you need a little more out of the base data types. Collections adds that functionality. Technically the collection data types are a different data type, but often you will use them the same. Only the initilization changes."
   ]
  },
  {
   "cell_type": "markdown",
   "id": "dacb5f8f-1c34-4ac0-91ac-ade2a4637320",
   "metadata": {},
   "source": [
    "First notice we are importing the fuctions from the \"collections\" class. We need to do this to gain access to the functions. They are not part of the default name space."
   ]
  },
  {
   "cell_type": "code",
   "execution_count": 1,
   "id": "5513de76-ec0e-4165-8c70-399da92696fe",
   "metadata": {},
   "outputs": [],
   "source": [
    "from collections import OrderedDict, defaultdict, deque, Counter, namedtuple\n",
    "from datetime import datetime, timedelta"
   ]
  },
  {
   "cell_type": "markdown",
   "id": "28fd3847-f6b8-4cdd-b5eb-421b9b14319a",
   "metadata": {},
   "source": [
    "## Ordered Dictionary\n",
    "An ordered dictionary will keep the order of insertion when called in a loop. A regular dictionary may or may not follow the order of insertion. The results below will most likely match but using an ordered dictionary will ensure the order is preserved."
   ]
  },
  {
   "cell_type": "code",
   "execution_count": 2,
   "id": "8638827f-59e3-4b6c-8295-389838e3c402",
   "metadata": {},
   "outputs": [
    {
     "name": "stdout",
     "output_type": "stream",
     "text": [
      "a 1\n",
      "b 2\n",
      "c 3\n",
      "d 4\n",
      "one 1\n",
      "two 2\n",
      "three 3\n",
      "four 4\n"
     ]
    }
   ],
   "source": [
    "norm_dict = dict()\n",
    "norm_dict[\"a\"] = 1\n",
    "norm_dict[\"b\"] = 2\n",
    "norm_dict[\"c\"] = 3\n",
    "norm_dict[\"d\"] = 4\n",
    "\n",
    "ord_dict = OrderedDict()\n",
    "ord_dict[\"one\"] = 1\n",
    "ord_dict[\"two\"] = 2\n",
    "ord_dict[\"three\"] = 3\n",
    "ord_dict[\"four\"] = 4\n",
    "\n",
    "for key, value in norm_dict.items():\n",
    "    print(key, value)\n",
    "\n",
    "for key, value in ord_dict.items():\n",
    "    print(key, value)"
   ]
  },
  {
   "cell_type": "markdown",
   "id": "e43932be-54c3-4b4d-8fb3-91e4e24793ad",
   "metadata": {},
   "source": [
    "## Default Dictionary\n",
    "A default dictionary will allow setting a default value for any new entry. This includes when the key does not exist. So when the dictionary is called without a value it is added to the dictionary with the default value as the value."
   ]
  },
  {
   "cell_type": "markdown",
   "id": "02ca6d53-aea2-4d25-872b-8a9e340e6943",
   "metadata": {},
   "source": [
    "Create the default dictionary and use lambda to set the default value to use if created with no value."
   ]
  },
  {
   "cell_type": "code",
   "execution_count": 3,
   "id": "7bdfa351-c9ff-4b14-b59d-4c138ecdf47d",
   "metadata": {},
   "outputs": [
    {
     "name": "stdout",
     "output_type": "stream",
     "text": [
      "ice_cream.keys(): dict_keys(['Sarah', 'Abdul'])\n",
      "ice_cream[\"Sarah\"]: Chunky Monkey\n",
      "ice_cream[\"Joe\"]: Vanilla\n"
     ]
    }
   ],
   "source": [
    "ice_cream = defaultdict(lambda: \"Vanilla\")\n",
    "ice_cream[\"Sarah\"] = \"Chunky Monkey\"\n",
    "ice_cream[\"Abdul\"] = \"Butter Pecan\"\n",
    "\n",
    "print(\"ice_cream.keys():\", ice_cream.keys())\n",
    "print('ice_cream[\"Sarah\"]:', ice_cream[\"Sarah\"])\n",
    "print('ice_cream[\"Joe\"]:', ice_cream[\"Joe\"])"
   ]
  },
  {
   "cell_type": "markdown",
   "id": "9e644526-9cf5-41ae-a522-9de843cea718",
   "metadata": {},
   "source": [
    "There is a way to use a default value with a regular dictionary, but it will require calling with the default value."
   ]
  },
  {
   "cell_type": "code",
   "execution_count": 4,
   "id": "9900f395-96f2-4a83-b15d-b07e44f4e198",
   "metadata": {},
   "outputs": [
    {
     "name": "stdout",
     "output_type": "stream",
     "text": [
      "ice_cream.keys(): dict_keys(['Sarah', 'Abdul'])\n",
      "ice_cream[\"Sarah\"]: Chunky Monkey\n",
      "ice_cream[\"Joe\"]: Vanilla\n"
     ]
    }
   ],
   "source": [
    "default_value = \"Vanilla\"\n",
    "ice_cream = dict()\n",
    "ice_cream[\"Sarah\"] = \"Chunky Monkey\"\n",
    "ice_cream[\"Abdul\"] = \"Butter Pecan\"\n",
    "\n",
    "print(\"ice_cream.keys():\", ice_cream.keys())\n",
    "print('ice_cream[\"Sarah\"]:', ice_cream.get(\"Sarah\", default_value))\n",
    "print('ice_cream[\"Joe\"]:', ice_cream.get(\"Joe\", default_value))"
   ]
  },
  {
   "cell_type": "markdown",
   "id": "9b4e68ed-ac07-45b8-8778-078867482c84",
   "metadata": {},
   "source": [
    "## Dictionary as a counter\n",
    "Using a default dictionary with the int as the default will start at 0. Using increment notation will add a number to the default of 0 or the value if one is set. This allows using a dictionary as a counter of items"
   ]
  },
  {
   "cell_type": "code",
   "execution_count": 5,
   "id": "2922b558-0901-4ec5-8d06-b9c4f22364f5",
   "metadata": {},
   "outputs": [
    {
     "name": "stdout",
     "output_type": "stream",
     "text": [
      "food_count: defaultdict(<class 'int'>, {})\n",
      "defaultdict(<class 'int'>, {'spam': 7, 'eggs': 1})\n",
      "spam: 7\n",
      "eggs: 1\n"
     ]
    }
   ],
   "source": [
    "food_list = \"spam spam spam spam spam spam eggs spam\".split()\n",
    "food_count = defaultdict(int)  # default value of int is 0\n",
    "print('food_count:', food_count)\n",
    "for food in food_list:\n",
    "    food_count[food] += 1  # increment element's value by 1\n",
    "\n",
    "print(food_count)\n",
    "print('spam:', food_count['spam'])\n",
    "print('eggs:', food_count['eggs'])"
   ]
  },
  {
   "cell_type": "markdown",
   "id": "916633cf-4628-4c87-a57a-3b4568dd51b3",
   "metadata": {},
   "source": [
    "## Speed gains with lists\n",
    "deques are much faster at prepending than lists. They also allow faster removal of first element. They are helpful when adding and removing to both front and end of a list of items."
   ]
  },
  {
   "cell_type": "code",
   "execution_count": 6,
   "id": "5f577142-66a4-42f5-b605-6b0b57e3ccc6",
   "metadata": {},
   "outputs": [
    {
     "name": "stdout",
     "output_type": "stream",
     "text": [
      "list elapsed time for prepending 100000 values: 0:00:00.000007\n",
      "\n",
      "deque elapsed time for prepending 100000 values: 0:00:00.004772\n",
      "\n",
      "list elapsed time for apending 100000 values: 0:00:00.774992\n",
      "\n",
      "deque elapsed time for apending 100000 values: 0:00:00.006743\n",
      "\n"
     ]
    }
   ],
   "source": [
    "num = 100000\n",
    "list_a = list()  # Initialize an empty list\n",
    "deque_b = deque()  # Initialize an empty deque\n",
    "\n",
    "# Create a function to print the time for execution\n",
    "def print_time(type, loctation, num, start_datetime):\n",
    "    diff = datetime.utcnow() - start_datetime\n",
    "    print(f\"{type} elapsed time for {loctation} {num} values: {diff}\\n\")\n",
    "    \n",
    "start_datetime = datetime.utcnow()\n",
    "for ii in range(num):\n",
    "    list_a.insert(0, ii)\n",
    "print_time('list', 'prepending', num, datetime.utcnow())\n",
    "\n",
    "start_datetime = datetime.utcnow()\n",
    "for ii in range(num):\n",
    "    deque_b.appendleft(ii)\n",
    "print_time('deque', 'prepending',num, start_datetime)\n",
    "\n",
    "start_datetime = datetime.utcnow()\n",
    "while len(list_a) > 0:\n",
    "    list_a.pop(0)\n",
    "print_time('list', 'apending', num, start_datetime)\n",
    "\n",
    "start_datetime = datetime.utcnow()\n",
    "while len(deque_b) > 0:\n",
    "    deque_b.popleft()\n",
    "print_time('deque', 'apending', num, start_datetime)"
   ]
  },
  {
   "cell_type": "markdown",
   "id": "01861eef-5208-404a-b41c-ad84df5901a2",
   "metadata": {},
   "source": [
    "## Named Tuple\n",
    "A tuple stores information by index number. A named tuple stores information by a name for each piece of information. Main reason for using a named tuple over a dictionary is that tuple is imutable."
   ]
  },
  {
   "cell_type": "code",
   "execution_count": 7,
   "id": "5831186c-180b-47e1-a921-e067fa019054",
   "metadata": {},
   "outputs": [
    {
     "name": "stdout",
     "output_type": "stream",
     "text": [
      "\n",
      "Representation: Person(name='Bob', age=30, gender='male')\n",
      "\n",
      "Field by name: Jane\n",
      "\n",
      "Fields by name:\n",
      "Bob is a 30 year old male\n",
      "Jane is a 29 year old female\n"
     ]
    }
   ],
   "source": [
    "# Create the new named tuple with the named keys.\n",
    "Person = namedtuple(\"Person\", \"name age gender\")\n",
    "\n",
    "bob = Person(name=\"Bob\", age=30, gender=\"male\")\n",
    "print(\"\\nRepresentation:\", bob)\n",
    "\n",
    "jane = Person(name=\"Jane\", age=29, gender=\"female\")\n",
    "print(\"\\nField by name:\", jane.name)\n",
    "\n",
    "print(\"\\nFields by name:\")\n",
    "for p in [bob, jane]:\n",
    "    print(\"{} is a {} year old {}\".format(p.name, p.age, p.gender))"
   ]
  },
  {
   "cell_type": "markdown",
   "id": "84ac633e-9166-4b41-90da-7870c09798d5",
   "metadata": {},
   "source": [
    "## Counting\n",
    "A counter is a container that keeps track of how many times values are added. The standard example is with letters.\n",
    "\n",
    "There are three ways to initialize a counter object:"
   ]
  },
  {
   "cell_type": "code",
   "execution_count": 8,
   "id": "c8865905-b8fd-47a5-83b2-646eeb768d7c",
   "metadata": {},
   "outputs": [],
   "source": [
    "list_counter = Counter(['a', 'b', 'c', 'a', 'b', 'b'])\n",
    "dict_counter = Counter({'a':2, 'b':3, 'c':1})\n",
    "keyword_couner = Counter(a=2, b=3, c=1)"
   ]
  },
  {
   "cell_type": "markdown",
   "id": "0892dbe2-f394-4e06-81c4-3506b502790f",
   "metadata": {},
   "source": [
    "We can create an empty counter and then update with a second call. This looks a little strange with the input being a single string, but the update expects a list object. If a string is entered it will automatically convert to a list. When Python converts a single sting to a list all the charactrs are separated into individual elements. Go ahead and try print(list('abcabb'))."
   ]
  },
  {
   "cell_type": "code",
   "execution_count": 9,
   "id": "58cd7b0a-e223-4897-8918-32d80ccea774",
   "metadata": {},
   "outputs": [
    {
     "name": "stdout",
     "output_type": "stream",
     "text": [
      "Counter({'b': 3, 'a': 2, 'c': 1})\n",
      "Counter({'b': 3, 'a': 2, 'c': 1})\n",
      "Counter({'b': 3, 'a': 2, 'c': 1})\n",
      "Counter({'b': 3, 'a': 2, 'c': 1})\n"
     ]
    }
   ],
   "source": [
    "my_first_counter = Counter()\n",
    "my_first_counter.update('abcabb')\n",
    "\n",
    "for counter_element in [list_counter, dict_counter, keyword_couner, my_first_counter]:\n",
    "    print(counter_element)"
   ]
  },
  {
   "cell_type": "markdown",
   "id": "9e61ff07-eca2-46aa-9ec0-3740cd90b8b8",
   "metadata": {},
   "source": [
    "As new data is added the couner is updated."
   ]
  },
  {
   "cell_type": "code",
   "execution_count": 10,
   "id": "65993929-9f13-4a81-9d1a-a22c36e448fe",
   "metadata": {},
   "outputs": [
    {
     "name": "stdout",
     "output_type": "stream",
     "text": [
      "\n",
      "Updated my_first_counter: Counter({'a': 3, 'b': 3, 'c': 1, 'd': 1})\n"
     ]
    }
   ],
   "source": [
    "my_first_counter.update(['a', 'd'])\n",
    "print('\\nUpdated my_first_counter:', my_first_counter)"
   ]
  },
  {
   "cell_type": "markdown",
   "id": "df18e818-0937-4fb4-a024-bf8d9110caad",
   "metadata": {},
   "source": [
    "## Counters with words\n",
    "But we can also use the counter on full words.\n",
    "\n",
    "Start off with a sentence."
   ]
  },
  {
   "cell_type": "code",
   "execution_count": 11,
   "id": "c7604325-1b51-4457-b2ad-98657e95eee8",
   "metadata": {},
   "outputs": [],
   "source": [
    "my_str = \"This this this is really really good.\""
   ]
  },
  {
   "cell_type": "markdown",
   "id": "f639ada6-e016-41ca-9a76-0b89efbd92de",
   "metadata": {},
   "source": [
    "Next split the single string of a sentence into a list of words by splitting at white spaces. The .split() method assumes whitespace if no delimiter is provided."
   ]
  },
  {
   "cell_type": "code",
   "execution_count": 12,
   "id": "d2974939-4432-469c-9f5a-b970691a20ec",
   "metadata": {},
   "outputs": [],
   "source": [
    "my_list = my_str.split()"
   ]
  },
  {
   "cell_type": "markdown",
   "id": "aefa2e28-5c16-4f5c-878d-40f93f8cb825",
   "metadata": {},
   "source": [
    "Now use the list of words as input into the Counter. It will return a dictionary with the words as keys and values as number of times that word is counted. Notice how the count is case sensitive."
   ]
  },
  {
   "cell_type": "code",
   "execution_count": 13,
   "id": "1118ca5d-7d2f-49a9-a208-6a7d8497bf41",
   "metadata": {},
   "outputs": [
    {
     "name": "stdout",
     "output_type": "stream",
     "text": [
      "myDict: Counter({'this': 2, 'really': 2, 'This': 1, 'is': 1, 'good.': 1})\n"
     ]
    }
   ],
   "source": [
    "my_dict = Counter(my_list)\n",
    "print('myDict:', my_dict)"
   ]
  },
  {
   "cell_type": "markdown",
   "id": "41b52c4c-3bef-4453-a77a-60d4a1591517",
   "metadata": {},
   "source": [
    "To remove case sensitive counter just lower the calse of all characters befor entering into the Counter()"
   ]
  },
  {
   "cell_type": "code",
   "execution_count": 14,
   "id": "d1a2fb1c-eafd-4758-b45c-0839b2bfe414",
   "metadata": {},
   "outputs": [
    {
     "name": "stdout",
     "output_type": "stream",
     "text": [
      "my_dict: Counter({'this': 3, 'really': 2, 'is': 1, 'good.': 1})\n"
     ]
    }
   ],
   "source": [
    "my_dict = [ii.lower() for ii in my_list]\n",
    "my_dict = Counter(my_dict)\n",
    "print('my_dict:', my_dict)"
   ]
  },
  {
   "cell_type": "markdown",
   "id": "5868516e-c2f0-42e7-a519-81d83863ec84",
   "metadata": {},
   "source": [
    "## Counter with other objects\n",
    "A counter will also work with numbers other objects."
   ]
  },
  {
   "cell_type": "code",
   "execution_count": 15,
   "id": "22e6ef33-9edc-4319-a638-0602ec1badf8",
   "metadata": {},
   "outputs": [
    {
     "name": "stdout",
     "output_type": "stream",
     "text": [
      "number_dict: Counter({4: 3, 67: 2, 0: 1, 1: 1, 2: 1, 3: 1, 55: 1, 10242425242552: 1})\n"
     ]
    }
   ],
   "source": [
    "my_numbers = [0, 1, 2, 3, 4, 4, 4, 55, 67, 67, 10242425242552]\n",
    "number_dict = Counter(my_numbers)\n",
    "print('number_dict:', number_dict)"
   ]
  },
  {
   "cell_type": "markdown",
   "id": "7f3c2590-c485-440e-89cc-120799c96083",
   "metadata": {},
   "source": [
    "To just see the n number of most common use the .most_common() method. Notice how the type is different. It is no longer a dictionary but a list of tuples. This is important when you want to extract the values and use them. They will be extracted with different syntax."
   ]
  },
  {
   "cell_type": "code",
   "execution_count": 16,
   "id": "6b5922e1-4b48-4378-a5d4-6253c8733278",
   "metadata": {},
   "outputs": [
    {
     "name": "stdout",
     "output_type": "stream",
     "text": [
      "number_dict.most_common(2): [(4, 3), (67, 2)]\n"
     ]
    }
   ],
   "source": [
    "print('number_dict.most_common(2):', number_dict.most_common(2))"
   ]
  },
  {
   "cell_type": "markdown",
   "id": "e33430e4-2ff8-4f92-9fdb-7089041531e4",
   "metadata": {},
   "source": [
    "Convert the most comon results to a regular dictionary"
   ]
  },
  {
   "cell_type": "code",
   "execution_count": 17,
   "id": "b43a9671-c5d1-4cae-836c-3c1ddc275e81",
   "metadata": {},
   "outputs": [
    {
     "name": "stdout",
     "output_type": "stream",
     "text": [
      "number_dict_most_common_as_dict: {4: 3, 67: 2}\n"
     ]
    }
   ],
   "source": [
    "number_dict_most_common_as_dict = dict(number_dict.most_common(2))\n",
    "print('number_dict_most_common_as_dict:', number_dict_most_common_as_dict)"
   ]
  },
  {
   "cell_type": "markdown",
   "id": "4edd4b55-f05b-43cc-bc28-bb4c61f29cb1",
   "metadata": {},
   "source": [
    "Here is are some of the more common patterns used with Counters()"
   ]
  },
  {
   "cell_type": "code",
   "execution_count": 18,
   "id": "d14522f2-2adb-4c2e-9074-cb6b280d8313",
   "metadata": {},
   "outputs": [
    {
     "name": "stdout",
     "output_type": "stream",
     "text": [
      "total: 11\n"
     ]
    }
   ],
   "source": [
    "total = sum(number_dict.values())  # total of all counts\n",
    "print('total:', total)"
   ]
  },
  {
   "cell_type": "markdown",
   "id": "9b77f252-f63b-40c3-9749-83ef1a0ef549",
   "metadata": {},
   "source": [
    "Get unique elements or \"keys\" if that is easier to understand"
   ]
  },
  {
   "cell_type": "code",
   "execution_count": 19,
   "id": "4a47b54a-e24c-4953-8869-b58e9d14fe7c",
   "metadata": {},
   "outputs": [
    {
     "name": "stdout",
     "output_type": "stream",
     "text": [
      "number_dict_list: [0, 1, 2, 3, 4, 55, 67, 10242425242552]\n"
     ]
    }
   ],
   "source": [
    "number_dict_list = list(number_dict)\n",
    "print('number_dict_list:', number_dict_list)"
   ]
  },
  {
   "cell_type": "markdown",
   "id": "d38eea81-7528-4a22-ada7-c215939e384e",
   "metadata": {},
   "source": [
    "Reset all counts, or essentially just make number_dict set to None"
   ]
  },
  {
   "cell_type": "markdown",
   "id": "c7af4712-e7c4-4a86-a6ab-3b78a3eee5ec",
   "metadata": {},
   "source": [
    "Counters have the ability to perform mathematical operations from within the Counter object."
   ]
  },
  {
   "cell_type": "code",
   "execution_count": 20,
   "id": "bb7b5c83-2817-4f80-a65f-d07bfe28b6d9",
   "metadata": {},
   "outputs": [
    {
     "name": "stdout",
     "output_type": "stream",
     "text": [
      "c_plud_d: Counter({'Tom': 4, 'Scooby': 4, 'Jerry': 3})\n",
      "c_minus_d: Counter({'Tom': 2})\n",
      "c_intersect_d: Counter({'Tom': 1, 'Jerry': 1})\n",
      "c_union_d: Counter({'Scooby': 4, 'Tom': 3, 'Jerry': 2})\n"
     ]
    }
   ],
   "source": [
    "c = Counter(Tom=3, Jerry=1)\n",
    "d = Counter(Tom=1, Jerry=2, Scooby=4)\n",
    "\n",
    "c_plud_d = c + d  # add two counters together:  c[x] + d[x]\n",
    "c_minus_d = c - d  # subtract (keeping only positive counts)\n",
    "c_intersect_d = c & d  # intersection:  min(c[x], d[x]) \n",
    "c_union_d = c | d  # union:  max(c[x], d[x])\n",
    "\n",
    "print('c_plud_d:', c_plud_d)\n",
    "print('c_minus_d:', c_minus_d)\n",
    "print('c_intersect_d:', c_intersect_d)\n",
    "print('c_union_d:', c_union_d)"
   ]
  }
 ],
 "metadata": {
  "kernelspec": {
   "display_name": "Python 3 (ipykernel)",
   "language": "python",
   "name": "python3"
  },
  "language_info": {
   "codemirror_mode": {
    "name": "ipython",
    "version": 3
   },
   "file_extension": ".py",
   "mimetype": "text/x-python",
   "name": "python",
   "nbconvert_exporter": "python",
   "pygments_lexer": "ipython3",
   "version": "3.10.13"
  }
 },
 "nbformat": 4,
 "nbformat_minor": 5
}

{
 "cells": [
  {
   "cell_type": "markdown",
   "id": "73e5a359-fc3b-4343-b706-a1ac4d99e056",
   "metadata": {},
   "source": [
    "# Basic Logging\n",
    "\n",
    "Logging is a means of tracking events that happen when some software runs. The software’s developer adds logging calls to their code to indicate that certain events have occurred. An event is described by a descriptive message which can optionally contain variable data (i.e. data that is potentially different for each occurrence of the event). Events also have an importance which the developer ascribes to the event; the importance can also be called the level or severity."
   ]
  },
  {
   "cell_type": "markdown",
   "id": "6fe96c53-b213-498b-84f8-920aacbfa0af",
   "metadata": {},
   "source": [
    "## When to print vs. logging?\n",
    "\n",
    "Logging is typically written to a different location and is accessable by looking in that different location. Printing is printed to the screen while the program is running. But did you know there are differet locations to send a print statement? What, it all goes to the terminal what do you mean?"
   ]
  },
  {
   "cell_type": "markdown",
   "id": "b1911dab-286d-4927-b705-89a1b1f315f1",
   "metadata": {},
   "source": [
    "A terminal has at least two standard locations to send information (i.e. text): Standard Out, Standard Error. "
   ]
  },
  {
   "cell_type": "markdown",
   "id": "f96482c6-efc9-4b06-a726-e305c02a447e",
   "metadata": {},
   "source": [
    "When we use the print() function the default location is standard out."
   ]
  },
  {
   "cell_type": "code",
   "execution_count": 1,
   "id": "ab0af593-298b-4cca-abd6-a84363546cdb",
   "metadata": {},
   "outputs": [
    {
     "name": "stdout",
     "output_type": "stream",
     "text": [
      "Hello World\n"
     ]
    }
   ],
   "source": [
    "print(\"Hello World\")"
   ]
  },
  {
   "cell_type": "markdown",
   "id": "128ddd95-3380-48f8-b6bd-0ea8c81f2e8b",
   "metadata": {},
   "source": [
    "The print() function can take a multitude of objects and corretly convert them into text before sending to standard out. In the previous example \"Hello World\" is a single string. In the following example there are two strings. There is no space in the text between \"Hello\" and \"World\" but print() adds one as the default."
   ]
  },
  {
   "cell_type": "code",
   "execution_count": 2,
   "id": "abc487dc-7e1c-4bbe-92d7-fb1ced8985a0",
   "metadata": {},
   "outputs": [
    {
     "name": "stdout",
     "output_type": "stream",
     "text": [
      "Hello World\n"
     ]
    }
   ],
   "source": [
    "print(\"Hello\", \"World\")"
   ]
  },
  {
   "cell_type": "markdown",
   "id": "e6371657-7adb-4c1a-8eb8-abe6b3d73c80",
   "metadata": {},
   "source": [
    "But we can also define the separatur to use."
   ]
  },
  {
   "cell_type": "code",
   "execution_count": 3,
   "id": "a8639e45-ef47-468e-880b-9c5d9fe82dcb",
   "metadata": {},
   "outputs": [
    {
     "name": "stdout",
     "output_type": "stream",
     "text": [
      "Hello|World\n"
     ]
    }
   ],
   "source": [
    "print(\"Hello\", \"World\", sep='|')"
   ]
  },
  {
   "cell_type": "markdown",
   "id": "a76206c8-0ae1-4f2d-83ee-cd7f66b8e031",
   "metadata": {},
   "source": [
    "There is also an assumed line return added to the end. We can define the end value and override the default."
   ]
  },
  {
   "cell_type": "code",
   "execution_count": 4,
   "id": "54f41b4a-48e0-48aa-bdfe-eb9de7c1ab31",
   "metadata": {},
   "outputs": [
    {
     "name": "stdout",
     "output_type": "stream",
     "text": [
      "Hello worldGood by\n"
     ]
    }
   ],
   "source": [
    "print(\"Hello world\", end='')\n",
    "print(\"Good by\")"
   ]
  },
  {
   "cell_type": "code",
   "execution_count": 5,
   "id": "14706c99-3231-41f8-87ce-a242c57a7cb3",
   "metadata": {},
   "outputs": [],
   "source": [
    "import sys"
   ]
  },
  {
   "cell_type": "markdown",
   "id": "f84c18bb-b795-45ca-8eda-9c16660e5c32",
   "metadata": {},
   "source": [
    "In fact print() is just a wrapper around the system call to write to standard out. We can go directly to the system standard out. In this example \"Hello world\" is printed and the function call returned the length of the string, 11. This is then printed as well."
   ]
  },
  {
   "cell_type": "code",
   "execution_count": 6,
   "id": "2597c9f1-4b36-46d3-a266-0cbd101b9b55",
   "metadata": {},
   "outputs": [
    {
     "name": "stdout",
     "output_type": "stream",
     "text": [
      "Hello world"
     ]
    },
    {
     "data": {
      "text/plain": [
       "11"
      ]
     },
     "execution_count": 6,
     "metadata": {},
     "output_type": "execute_result"
    }
   ],
   "source": [
    "sys.stdout.write(\"Hello world\")"
   ]
  },
  {
   "cell_type": "markdown",
   "id": "137a5fa5-d693-4287-a42e-081cbe159289",
   "metadata": {},
   "source": [
    "So we could also write directly to standard error. Since both streams print to the terminal (or notebook in this case) they will appear to be almost the same. Since there was something printed to standard error the notebook highlights that text in pink signifying something mostlikely went wrong. Typically when we want to convey some information about a problem it is sent to standard error. When it is just information it should go to standard out."
   ]
  },
  {
   "cell_type": "code",
   "execution_count": 7,
   "id": "43178383-492d-4483-af3e-687cd9ca0dc5",
   "metadata": {},
   "outputs": [
    {
     "name": "stderr",
     "output_type": "stream",
     "text": [
      "An error occured"
     ]
    },
    {
     "data": {
      "text/plain": [
       "16"
      ]
     },
     "execution_count": 7,
     "metadata": {},
     "output_type": "execute_result"
    }
   ],
   "source": [
    "sys.stderr.write(\"An error occured\")"
   ]
  },
  {
   "cell_type": "markdown",
   "id": "c7220dd8-0648-41f0-af39-e9b1c15b969c",
   "metadata": {},
   "source": [
    "We can change where the standard out or error is sent. In this case we will redirect it to a variable for standard error. Notice how the text is not printed to the screen and there is no pink highlighted text. We have captured the text into the variable _standard_error_"
   ]
  },
  {
   "cell_type": "code",
   "execution_count": 8,
   "id": "fcdd34e1-6aff-4dd5-b068-9354a26a8362",
   "metadata": {},
   "outputs": [
    {
     "data": {
      "text/plain": [
       "16"
      ]
     },
     "execution_count": 8,
     "metadata": {},
     "output_type": "execute_result"
    }
   ],
   "source": [
    "from io import StringIO\n",
    "orig_stderr = sys.stderr\n",
    "standard_error = StringIO()\n",
    "sys.stderr = standard_error\n",
    "sys.stderr.write(\"An error occured\")"
   ]
  },
  {
   "cell_type": "markdown",
   "id": "dc27cf0c-c2d9-4504-8bac-c5d0db8bcac4",
   "metadata": {},
   "source": [
    "If we print that variable it is not actually a variable. We need to get the value before it becomes a Python string variable."
   ]
  },
  {
   "cell_type": "code",
   "execution_count": 9,
   "id": "5aaa6c99-bfb5-40f9-9afe-c0f3e36100a3",
   "metadata": {},
   "outputs": [
    {
     "data": {
      "text/plain": [
       "<_io.StringIO at 0x1070516c0>"
      ]
     },
     "execution_count": 9,
     "metadata": {},
     "output_type": "execute_result"
    }
   ],
   "source": [
    "standard_error"
   ]
  },
  {
   "cell_type": "code",
   "execution_count": 10,
   "id": "0d7b54a4-f023-4cee-916c-b8e38304f196",
   "metadata": {},
   "outputs": [
    {
     "data": {
      "text/plain": [
       "'An error occured'"
      ]
     },
     "execution_count": 10,
     "metadata": {},
     "output_type": "execute_result"
    }
   ],
   "source": [
    "result_string_stderr = standard_error.getvalue()\n",
    "result_string_stderr"
   ]
  },
  {
   "cell_type": "markdown",
   "id": "b92927d4-dfe0-41cb-856b-7b2f5cbe1604",
   "metadata": {},
   "source": [
    "We can return standar error back to the orginal location and now everything sent to standard error will be printed to the notebook."
   ]
  },
  {
   "cell_type": "code",
   "execution_count": 11,
   "id": "6e7dd646-bd1c-47d5-b6f8-b556991328e7",
   "metadata": {},
   "outputs": [],
   "source": [
    "sys.stderr = orig_stderr"
   ]
  },
  {
   "cell_type": "code",
   "execution_count": 12,
   "id": "d0319334-0d4a-4f60-a81f-09731efa18e9",
   "metadata": {},
   "outputs": [
    {
     "name": "stderr",
     "output_type": "stream",
     "text": [
      "An error occured"
     ]
    },
    {
     "data": {
      "text/plain": [
       "16"
      ]
     },
     "execution_count": 12,
     "metadata": {},
     "output_type": "execute_result"
    }
   ],
   "source": [
    "sys.stderr.write(\"An error occured\")"
   ]
  },
  {
   "cell_type": "markdown",
   "id": "4286893d-88a6-4872-815c-8ceaef36c375",
   "metadata": {},
   "source": [
    "We could also redirect all standard out to a file and access it later."
   ]
  },
  {
   "cell_type": "code",
   "execution_count": 13,
   "id": "000457a1-a386-4f22-a4e0-4e374295af24",
   "metadata": {},
   "outputs": [],
   "source": [
    "orig_stdout = sys.stdout\n",
    "sys.stdout = open('stdout_file.out', 'w')\n",
    "print('Hello world')"
   ]
  },
  {
   "cell_type": "code",
   "execution_count": 14,
   "id": "017a09fd-0ac1-4f6b-b592-94fef952ef53",
   "metadata": {},
   "outputs": [],
   "source": [
    "sys.stdout = orig_stdout"
   ]
  },
  {
   "cell_type": "markdown",
   "id": "6d4d6f46-45a6-46f2-9c70-cfd0e03d289f",
   "metadata": {},
   "source": [
    "Here we will search the current directory for a file with the name we created. It finds one file."
   ]
  },
  {
   "cell_type": "code",
   "execution_count": 15,
   "id": "017dab4d-b3bd-48b4-8c8a-48ca2517c269",
   "metadata": {},
   "outputs": [
    {
     "name": "stdout",
     "output_type": "stream",
     "text": [
      "[PosixPath('/Users/kehoe/Git_area/AtmosphericPythonCourse/cool_stuff/stdout_file.out')]\n"
     ]
    }
   ],
   "source": [
    "from pathlib import Path\n",
    "files = list(Path.cwd().glob('stdout_file.out'))\n",
    "print(files)"
   ]
  },
  {
   "cell_type": "markdown",
   "id": "49de0e01-2de2-4d1b-8f5c-21009bd9faaa",
   "metadata": {},
   "source": [
    "We can print the contents. Notice it reads in the full string incdluding the line return which is \"\\n\"."
   ]
  },
  {
   "cell_type": "code",
   "execution_count": 16,
   "id": "ef191378-b53a-442a-a291-1f02db5e707d",
   "metadata": {},
   "outputs": [
    {
     "data": {
      "text/plain": [
       "'Hello world\\n'"
      ]
     },
     "execution_count": 16,
     "metadata": {},
     "output_type": "execute_result"
    }
   ],
   "source": [
    "files[0].read_text()"
   ]
  },
  {
   "cell_type": "markdown",
   "id": "14a2d256-77bf-4a52-9cf6-aa8a6b706c1e",
   "metadata": {},
   "source": [
    "Let's clean up the file we just created by removing it."
   ]
  },
  {
   "cell_type": "code",
   "execution_count": 17,
   "id": "3ba6d534-e1d4-44fc-af6a-f0ded6598740",
   "metadata": {},
   "outputs": [],
   "source": [
    "Path(files[0]).unlink()"
   ]
  },
  {
   "cell_type": "markdown",
   "id": "ef64788c-1b5e-4d34-b8d7-dc6656187943",
   "metadata": {},
   "source": [
    "Knowing this, you would be tempted to redirect all standard out and standard error to a file and call it good, right? Well not exactly. We can get better control over what is printed to a file or terminal by using logging. Logging provides a set of convenience functions for simple logging usage. These are debug(), info(), warning(), error() and critical(). Using the different functions controls which will be printed depending on the settings.\n",
    "\n",
    "Here is an example where we can use logging to differentiate which messages are printed and which are not. The default is to print warning() and more sever, but not to print info() or debug(). So only one of the messages is printed. Notice that the color of the text box is pink. This means the output is going to standard error. This will go to the terimal just like standard out but it looks like a normal error/warning."
   ]
  },
  {
   "cell_type": "code",
   "execution_count": 18,
   "id": "fb1d5e0c-ca2b-4871-81bd-1ce17446aeed",
   "metadata": {},
   "outputs": [
    {
     "name": "stderr",
     "output_type": "stream",
     "text": [
      "WARNING:root:Watch out!\n",
      "ERROR:root:It's comming right for you!\n",
      "CRITICAL:root:You are going to get hit!\n"
     ]
    }
   ],
   "source": [
    "import logging\n",
    "logging.warning('Watch out!')  # will print a message to the console\n",
    "logging.error(\"It's comming right for you!\")  # will print a message to the console\n",
    "logging.critical('You are going to get hit!')  # will print a message to the console\n",
    "logging.info('I told you so')  # will not print anything\n",
    "logging.debug('You never listen to me')  # will not print anything"
   ]
  },
  {
   "cell_type": "markdown",
   "id": "7fe2a9b0-cecb-44e5-914f-e817b4a717e9",
   "metadata": {},
   "source": [
    "Typicaly you will begin by setting the level to receive the information sent by each of the functons. The level is bases on the 5 functions and setting the level to DEBUG includes all levels below. To set the level after running the cell above we need to reload the module. But if we did not execute the cell above this would not be necessay."
   ]
  },
  {
   "cell_type": "code",
   "execution_count": 19,
   "id": "8e83ecf0-a588-47b1-96ec-948fc6e409e7",
   "metadata": {},
   "outputs": [],
   "source": [
    "import importlib\n",
    "importlib.reload(logging)  # Need to reload the module\n",
    "logging.basicConfig(level=logging.DEBUG)"
   ]
  },
  {
   "cell_type": "code",
   "execution_count": 20,
   "id": "887385b4-e782-4d64-91c3-3c60bc51e367",
   "metadata": {},
   "outputs": [
    {
     "name": "stderr",
     "output_type": "stream",
     "text": [
      "WARNING:root:Watch out!\n",
      "ERROR:root:It's comming right for you!\n",
      "CRITICAL:root:You are going to get hit!\n",
      "INFO:root:I told you so\n",
      "DEBUG:root:You never listen to me\n"
     ]
    }
   ],
   "source": [
    "logging.warning('Watch out!')  # will print a message to the console\n",
    "logging.error(\"It's comming right for you!\")  # will print a message to the console\n",
    "logging.critical('You are going to get hit!')  # will print a message to the console\n",
    "logging.info('I told you so')  # will print a message to the console\n",
    "logging.debug('You never listen to me')  # will print a message to the console"
   ]
  },
  {
   "cell_type": "markdown",
   "id": "2d811c24-8e45-4ae4-92b4-b7309e26e80c",
   "metadata": {},
   "source": [
    "But often you will send the output to a file instead of standard error. This is done during the configuration process."
   ]
  },
  {
   "cell_type": "code",
   "execution_count": 21,
   "id": "9a47a06a-0559-4965-bb7d-2c76261e70e5",
   "metadata": {},
   "outputs": [],
   "source": [
    "importlib.reload(logging)  # Need to reload the module\n",
    "logging.basicConfig(filename='example.log', encoding='utf-8', level=logging.DEBUG)\n",
    "logging.warning('Watch out!')  # will print a message to the file\n",
    "logging.error(\"It's comming right for you!\")  # will print a message to the file\n",
    "logging.critical('You are going to get hit!')  # will print a message to the file\n",
    "logging.info('I told you so')  # will print a message to the file\n",
    "logging.debug('You never listen to me')  # will print a message to the file"
   ]
  },
  {
   "cell_type": "markdown",
   "id": "966a5d6e-4d50-4a08-8b29-119b03f090bc",
   "metadata": {},
   "source": [
    "Now we will read the file we just created and print. It is all text and the returns are not followed so contains \"\\n\" but is not utilzed."
   ]
  },
  {
   "cell_type": "code",
   "execution_count": 22,
   "id": "dd7e38f7-9ac0-4952-9573-4531b7342c11",
   "metadata": {},
   "outputs": [
    {
     "data": {
      "text/plain": [
       "\"WARNING:root:Watch out!\\nERROR:root:It's comming right for you!\\nCRITICAL:root:You are going to get hit!\\nINFO:root:I told you so\\nDEBUG:root:You never listen to me\\n\""
      ]
     },
     "execution_count": 22,
     "metadata": {},
     "output_type": "execute_result"
    }
   ],
   "source": [
    "Path('example.log').read_text()"
   ]
  },
  {
   "cell_type": "markdown",
   "id": "4bd662cd-31fe-4d53-b863-6efe94d18cc0",
   "metadata": {},
   "source": [
    "Let's reset the location the logging information is sent and clean up the file we just created. All events at or above DEBUG level will now get logged."
   ]
  },
  {
   "cell_type": "code",
   "execution_count": 23,
   "id": "93b8607c-be71-46b8-b811-2cffa6d76d12",
   "metadata": {},
   "outputs": [],
   "source": [
    "Path('example.log').unlink(missing_ok=True)  # Delete log file from current directory.\n",
    "\n",
    "importlib.reload(logging)  # Need to reload the module to allow set/reset level.\n",
    "logging.basicConfig(level=logging.DEBUG)"
   ]
  },
  {
   "cell_type": "markdown",
   "id": "51675388-1b77-4de3-ac9c-16875373a4b6",
   "metadata": {},
   "source": [
    "We can send variable information to the logging with some standard Python syntax. "
   ]
  },
  {
   "cell_type": "code",
   "execution_count": 24,
   "id": "de0a2416-d2e1-4f8e-b277-0b22bcf5fdee",
   "metadata": {},
   "outputs": [
    {
     "name": "stderr",
     "output_type": "stream",
     "text": [
      "WARNING:root:Look before you leap!\n"
     ]
    }
   ],
   "source": [
    "a = 'Look'\n",
    "b = 'leap!'\n",
    "logging.warning('%s before you %s', a, b)"
   ]
  },
  {
   "cell_type": "markdown",
   "id": "4557fbd5-095a-4fef-a790-43dd54e04b5d",
   "metadata": {},
   "source": [
    "The format of the output has a default. We can update that to our needs. Here we set the output format to not include logger name."
   ]
  },
  {
   "cell_type": "code",
   "execution_count": 25,
   "id": "d7ee5d76-b08e-46b3-b2e3-7de235c6e61b",
   "metadata": {},
   "outputs": [],
   "source": [
    "importlib.reload(logging)  # Need to reload the module to allow set/reset level.\n",
    "logging.basicConfig(format='%(levelname)s:%(message)s')  # Reset the format"
   ]
  },
  {
   "cell_type": "code",
   "execution_count": 26,
   "id": "41bc5171-9106-4e50-b964-531bf2d42a4a",
   "metadata": {},
   "outputs": [
    {
     "name": "stderr",
     "output_type": "stream",
     "text": [
      "WARNING:Look before you leap!\n"
     ]
    }
   ],
   "source": [
    "logging.warning('%s before you %s', a, b)"
   ]
  },
  {
   "cell_type": "markdown",
   "id": "f867cf3a-f032-4600-a245-ef2d47f8cc0f",
   "metadata": {},
   "source": [
    "It is very common to start each line of a log file with date/time to aid in debugging. Since this log file may be used for a long time this helps us determine which log messages are relevent to our issue. The format of the _datefmt_ argument is the same as supported by time.strftime()."
   ]
  },
  {
   "cell_type": "code",
   "execution_count": 27,
   "id": "f3fe7302-e699-4ed4-94a6-c212bfc6a0b8",
   "metadata": {},
   "outputs": [
    {
     "name": "stderr",
     "output_type": "stream",
     "text": [
      "2024-02-14 14:07:28.1707944848 MST is when this event was logged.\n"
     ]
    }
   ],
   "source": [
    "importlib.reload(logging)  # Need to reload the module to allow set/reset level.\n",
    "logging.basicConfig(format='%(asctime)s %(message)s', datefmt='%Y-%m-%d %H:%M:%S.%s %Z')\n",
    "logging.warning('is when this event was logged.')"
   ]
  },
  {
   "cell_type": "markdown",
   "id": "f5fc213b-c089-4e8f-8f11-a2d220f5a89a",
   "metadata": {},
   "source": [
    "You can use any of the Python string formatting methods when creating the message to log/print. In this example we use f-string formatting to insert the variable name into the message."
   ]
  },
  {
   "cell_type": "code",
   "execution_count": 28,
   "id": "95de1c03-40c2-4772-b0a4-5e7e28270b64",
   "metadata": {},
   "outputs": [
    {
     "name": "stderr",
     "output_type": "stream",
     "text": [
      "2024-02-14 14:07:28,279 John has entered the building.\n"
     ]
    }
   ],
   "source": [
    "importlib.reload(logging)  # Need to reload the module to allow set/reset level.\n",
    "logging.basicConfig(format='%(asctime)s %(message)s')\n",
    "name = 'John'\n",
    "logging.warning(f'{name} has entered the building.')"
   ]
  },
  {
   "cell_type": "markdown",
   "id": "ab600d51-c0d7-410e-afb3-aaebcf83c801",
   "metadata": {},
   "source": [
    "For larger more complex programs with different modules it may be important to indicate where the logging was called. This can be done through the stack trace. This example will show which function had the error (in this case the ipykernal_*) and the line number. Since we did not define the asctime format it will use the default. It is important to set exc_info=True. If not the information will be much less useful."
   ]
  },
  {
   "cell_type": "code",
   "execution_count": 29,
   "id": "3beccea4-42d2-45c4-b2d8-5631a3e1f114",
   "metadata": {},
   "outputs": [
    {
     "name": "stderr",
     "output_type": "stream",
     "text": [
      "2024-02-14 14:07:28,283 Exception occurred\n",
      "Traceback (most recent call last):\n",
      "  File \"/var/folders/08/hzthl3yd3mqd30ltf7nr9yfr0000gq/T/ipykernel_4492/2415565439.py\", line 2, in <module>\n",
      "    c = 5 / 0\n",
      "ZeroDivisionError: division by zero\n"
     ]
    }
   ],
   "source": [
    "try:\n",
    "  c = 5 / 0\n",
    "except Exception as e:\n",
    "  logging.error(\"Exception occurred\", exc_info=True)"
   ]
  },
  {
   "cell_type": "code",
   "execution_count": 30,
   "id": "21c8e4bc-5815-49e7-b411-9799882e853a",
   "metadata": {},
   "outputs": [
    {
     "name": "stderr",
     "output_type": "stream",
     "text": [
      "2024-02-14 14:07:28,286 Exception occurred\n"
     ]
    }
   ],
   "source": [
    "try:\n",
    "  c = 5 / 0\n",
    "except Exception as e:\n",
    "  logging.error(\"Exception occurred\")"
   ]
  },
  {
   "cell_type": "markdown",
   "id": "c36dab74-b49f-4c31-8f71-c570995a6845",
   "metadata": {},
   "source": [
    "In general if you are logging from an exception handler there is a method set up to call logging.error() with exc_info=True."
   ]
  },
  {
   "cell_type": "code",
   "execution_count": 31,
   "id": "4bef2116-cd44-4613-8d3e-530b068854e8",
   "metadata": {},
   "outputs": [
    {
     "name": "stderr",
     "output_type": "stream",
     "text": [
      "2024-02-14 14:07:28,290 Exception occurred\n",
      "Traceback (most recent call last):\n",
      "  File \"/var/folders/08/hzthl3yd3mqd30ltf7nr9yfr0000gq/T/ipykernel_4492/2319844081.py\", line 2, in <module>\n",
      "    c = 5 / 0\n",
      "ZeroDivisionError: division by zero\n"
     ]
    }
   ],
   "source": [
    "try:\n",
    "  c = 5 / 0\n",
    "except Exception as e:\n",
    "  logging.exception(\"Exception occurred\")"
   ]
  },
  {
   "cell_type": "markdown",
   "id": "08ff6f61-61d7-414b-9a85-eb3bad546fcc",
   "metadata": {},
   "source": [
    "So far we have been using the defualt logger named _root_. You can and should define your own logger by creating an object of the Logger class. Notice how the output is different than the standard. This is becuase the name of the custom logger is not part of the default output. But we can create the same output format by setting the format."
   ]
  },
  {
   "cell_type": "code",
   "execution_count": 32,
   "id": "5dad773c-e85e-4d5d-8b21-7bfaf1724f15",
   "metadata": {},
   "outputs": [
    {
     "name": "stderr",
     "output_type": "stream",
     "text": [
      "This is a warning\n"
     ]
    },
    {
     "data": {
      "text/plain": [
       "<Logger __main__ (WARNING)>"
      ]
     },
     "execution_count": 32,
     "metadata": {},
     "output_type": "execute_result"
    }
   ],
   "source": [
    "importlib.reload(logging)  # Need to reload the module to allow set/reset level.\n",
    "logger = logging.getLogger('example_logger')\n",
    "logger.warning('This is a warning')\n",
    "logger = logging.getLogger(__name__)\n",
    "logger"
   ]
  },
  {
   "cell_type": "markdown",
   "id": "9bd8ff01-0c40-4acc-aa05-be0548212a96",
   "metadata": {},
   "source": [
    "Custom handlers require using handlers to set the format and optioins of our logger. Handlers come into the picture when you want to configure your own loggers and send the logs to multiple places when they are generated. Handlers send the log messages to configured destinations like the standard output stream or a file or over HTTP or to your email via SMTP.\n",
    "\n",
    "A logger that you create can have more than one handler, which means you can set it up to be printed to the terminal and saved to a log file and also send it over email.\n",
    "\n",
    "Like loggers, you can also set the severity level in handlers. This is useful if you want to set multiple handlers for the same logger but want different severity levels for each of them. For example, you may want logs with level WARNING and above to be logged to the console, but everything with level ERROR and above should also be saved to a file. Here’s a program that does that.\n",
    "\n",
    "I this example we set up the logger to print both WARNING and ERROR to the terminal but also send ERROR to a log file. Since the log file works by appending the new message, each time we run the cell below we add a new line to the log file."
   ]
  },
  {
   "cell_type": "code",
   "execution_count": 33,
   "id": "017a1fab-89dc-4dee-9116-ac8dbbdb4bcc",
   "metadata": {},
   "outputs": [
    {
     "name": "stderr",
     "output_type": "stream",
     "text": [
      "__main__ - WARNING - This is a warning\n",
      "__main__ - ERROR - This is an error\n"
     ]
    }
   ],
   "source": [
    "importlib.reload(logging)  # Need to reload the module to allow set/reset level.\n",
    "\n",
    "# Create a custom logger using the name of the current program/file.\n",
    "logger = logging.getLogger(__name__)\n",
    "\n",
    "# Create handlers\n",
    "c_handler = logging.StreamHandler()  # This is a StreamHandler and prints to the consol.\n",
    "f_handler = logging.FileHandler('file.log')  # This is a FileHandler and prints to a file.\n",
    "c_handler.setLevel(logging.WARNING)  # Sets logging at WARNGING and above to go to consol.\n",
    "f_handler.setLevel(logging.ERROR)  # Sets logging at ERROR and above to go to file.\n",
    "\n",
    "# Create formatters and add it to handlers. This is what the message will look like when printed.\n",
    "c_format = logging.Formatter('%(name)s - %(levelname)s - %(message)s')\n",
    "f_format = logging.Formatter('%(asctime)s - %(name)s - %(levelname)s - %(message)s')\n",
    "c_handler.setFormatter(c_format)\n",
    "f_handler.setFormatter(f_format)\n",
    "\n",
    "# Add handlers to the logger\n",
    "logger.addHandler(c_handler)\n",
    "logger.addHandler(f_handler)\n",
    "\n",
    "logger.warning('This is a warning')\n",
    "logger.error('This is an error')"
   ]
  },
  {
   "cell_type": "markdown",
   "id": "fe59b3c0-f0f2-4876-b327-b9d2be5c8749",
   "metadata": {},
   "source": [
    "If we look for a file in the current directory with the name _file.log_ it will contain the ERROR message but not the WARNING message because we set only ERROR and above to go to the file. But we set WARNING and above to also be printed to consol. Since we have different formats based on where the message is printed we get a different format for the _file.log_."
   ]
  },
  {
   "cell_type": "code",
   "execution_count": 34,
   "id": "ae4c8044-25e3-4f2c-9cfc-7bd6613e8a97",
   "metadata": {},
   "outputs": [
    {
     "data": {
      "text/plain": [
       "'2024-02-14 14:07:28,301 - __main__ - ERROR - This is an error\\n'"
      ]
     },
     "execution_count": 34,
     "metadata": {},
     "output_type": "execute_result"
    }
   ],
   "source": [
    "Path('file.log').read_text()  # Read the file and print"
   ]
  },
  {
   "cell_type": "code",
   "execution_count": 35,
   "id": "d72b4f18-025e-4f8e-8956-2eaabcd429dc",
   "metadata": {},
   "outputs": [],
   "source": [
    "Path('file.log').unlink(missing_ok=True)  # Delete log file from current directory."
   ]
  },
  {
   "cell_type": "markdown",
   "id": "6b016c60-e622-4107-bfa7-80ac41e60a0e",
   "metadata": {},
   "source": [
    "We can also specify the logger parameters with a configuration file and read that file in. There is a file called _logger_configuration.conf_ in the current directory with configuration information. We can initialize that by asking the logging function to read the file and apply the settings."
   ]
  },
  {
   "cell_type": "code",
   "execution_count": 36,
   "id": "8f4492e9-146e-48f3-b112-635c3eaef2eb",
   "metadata": {},
   "outputs": [
    {
     "name": "stdout",
     "output_type": "stream",
     "text": [
      "2024-02-14 14:07:28,315 - __main__ - DEBUG - This is a debug message\n"
     ]
    }
   ],
   "source": [
    "import logging.config\n",
    "\n",
    "logging.config.fileConfig(fname='logger_configuration.conf', disable_existing_loggers=False)\n",
    "\n",
    "# Get the logger specified in the file\n",
    "logger = logging.getLogger(__name__)\n",
    "\n",
    "logger.debug('This is a debug message')"
   ]
  },
  {
   "cell_type": "markdown",
   "id": "5f06f555-7dfa-4b46-9531-118540c2911d",
   "metadata": {},
   "source": [
    "This is a lot of information. Don't think you understand it and know what to do. Chances are you don't but at least you know some of what is possble and if you are struggling you know there are more options. Implement logging and use it."
   ]
  }
 ],
 "metadata": {
  "kernelspec": {
   "display_name": "Python 3 (ipykernel)",
   "language": "python",
   "name": "python3"
  },
  "language_info": {
   "codemirror_mode": {
    "name": "ipython",
    "version": 3
   },
   "file_extension": ".py",
   "mimetype": "text/x-python",
   "name": "python",
   "nbconvert_exporter": "python",
   "pygments_lexer": "ipython3",
   "version": "3.10.13"
  }
 },
 "nbformat": 4,
 "nbformat_minor": 5
}
